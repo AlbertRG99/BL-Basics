{
 "cells": [
  {
   "cell_type": "markdown",
   "metadata": {
    "id": "1E65Pt5-FDmG"
   },
   "source": [
    "[![Open In Colab](https://colab.research.google.com/assets/colab-badge.svg)](https://colab.research.google.com/github/sensioai/blog/blob/master/011_calculo/calculo.ipynb)"
   ]
  },
  {
   "cell_type": "markdown",
   "metadata": {
    "ExecuteTime": {
     "end_time": "2020-06-18T09:17:17.417779Z",
     "start_time": "2020-06-18T09:17:17.408721Z"
    },
    "id": "jLknEfcEFDmL"
   },
   "source": [
    "# Cálculo Numérico"
   ]
  },
  {
   "cell_type": "markdown",
   "metadata": {
    "id": "EZC5t_o2FDmM"
   },
   "source": [
    "En ocasiones, a la hora de resolver un problema matemático, podemos derivar una fórmula que provee de una descripción simbólica de la solución. Sin embargo, en muchos otros casos como la mayoría de algoritmos de `Machine Learning` y `Deep Learning`, esto no es posible y la solución solo puede aproximarse mediante técnicas iterativas con unos requisitos de cómputo que crecen con el tamaño del problema. Es por este motivo que necesitamos súper-ordenadores con miles y miles de procesadores para resolver problemas como predicción meteorológica, diseño de nuevos medicamentos o entrenar grandes `redes neuronales`. Algunas operaciones que tienen lugar durante este proceso iterativo son la resolución de sistemas de ecuaciones lineales o la `optimización` de algunos valores dadas unas restricciones, por poner algunos ejemplos. El campo de las matemáticas que se dedica al estudio de la resolución de este tipo de problemas es el `cálculo numérico`."
   ]
  },
  {
   "cell_type": "markdown",
   "metadata": {
    "id": "ba0wX8chFDmM"
   },
   "source": [
    "## Precisión Numérica"
   ]
  },
  {
   "cell_type": "markdown",
   "metadata": {
    "id": "0bx0KK1qFDmM"
   },
   "source": [
    "La principal dificultad que nos encontramos a la hora de llevar a cabo cálculos matemáticos en un ordenador digital es la necesidad de representar cualquier valor numérico con un conjunto de bits finito. Esto implica que para casi cualquier valor numérico tendremos un error en su representación. Esto puede ser problemático cuando llevamos a cabo muchas operaciones con valores que presentan este problema, ya que los errores pueden irse acumulando dando como resultado una solución errónea. Podemos ver esto con el siguiente ejemplo en el que tenemos un vector de números enteros no negativos representados por 8 bits (lo que implica que sólo podemos representar valores entre 0 y 255). Esta es la representación típica de los píxeles en una imágen. Supongamos que queremos aumentar el brillo de la imágen, para ello vamos a sumar una cantidad determinada a todos los píxeles de la imágen."
   ]
  },
  {
   "cell_type": "code",
   "execution_count": 8,
   "metadata": {
    "ExecuteTime": {
     "end_time": "2020-09-22T11:55:34.270358Z",
     "start_time": "2020-09-22T11:55:34.173358Z"
    },
    "id": "diFNJFuMFDmN"
   },
   "outputs": [
    {
     "data": {
      "text/plain": [
       "array([  0, 100, 255], dtype=uint8)"
      ]
     },
     "execution_count": 8,
     "metadata": {},
     "output_type": "execute_result"
    }
   ],
   "source": [
    "import numpy as np\n",
    "\n",
    "x = np.array([0, 100, 255], dtype=np.uint8)\n",
    "x"
   ]
  },
  {
   "cell_type": "code",
   "execution_count": 9,
   "metadata": {
    "ExecuteTime": {
     "end_time": "2020-09-22T11:55:34.285358Z",
     "start_time": "2020-09-22T11:55:34.271358Z"
    },
    "id": "jvd9GPEjFDmP"
   },
   "outputs": [
    {
     "data": {
      "text/plain": [
       "array([  1, 101,   0], dtype=uint8)"
      ]
     },
     "execution_count": 9,
     "metadata": {},
     "output_type": "execute_result"
    }
   ],
   "source": [
    "# overflow \n",
    "\n",
    "x + 1"
   ]
  },
  {
   "cell_type": "markdown",
   "metadata": {
    "id": "asUQ-fFmFDmP"
   },
   "source": [
    "Como puedes ver, el valor 255 ha pasado a ser de 0 en vez de 256. Esto es porque con 8 bits no podemos representar ningún valor por encima de 255, por lo que el siguiente valor (255 + 1) es el primero (0). Esto implica que nuestro objetivo, que era aumentar el brillo de la imágen, sólo ha funcionado para algunos píxeles, mientras que en el resto observamos justo el efecto contrario (ahora se han oscurecido). Este fenómeno se conoce como *integer overflow*, pero puede ocurrir con cualquier tipo de valor numérico y dirección."
   ]
  },
  {
   "cell_type": "code",
   "execution_count": 10,
   "metadata": {
    "ExecuteTime": {
     "end_time": "2020-09-22T11:55:34.300357Z",
     "start_time": "2020-09-22T11:55:34.286358Z"
    },
    "id": "mIZagimlFDmP"
   },
   "outputs": [
    {
     "data": {
      "text/plain": [
       "array([255,  99, 254], dtype=uint8)"
      ]
     },
     "execution_count": 10,
     "metadata": {},
     "output_type": "execute_result"
    }
   ],
   "source": [
    "# underflow \n",
    "\n",
    "x - 1"
   ]
  },
  {
   "cell_type": "markdown",
   "metadata": {
    "ExecuteTime": {
     "end_time": "2020-06-18T13:32:12.712573Z",
     "start_time": "2020-06-18T13:32:12.706575Z"
    },
    "id": "LayNUrgEFDmQ"
   },
   "source": [
    "Veamos otro ejemplo utilizando la función *softmax*, detallada en este [post](https://sensioai.com/blog/010_probabilidad)."
   ]
  },
  {
   "cell_type": "code",
   "execution_count": 11,
   "metadata": {
    "ExecuteTime": {
     "end_time": "2020-09-22T11:55:34.315358Z",
     "start_time": "2020-09-22T11:55:34.301358Z"
    },
    "id": "f3s5nJohFDmQ"
   },
   "outputs": [],
   "source": [
    "def softmax(z):\n",
    "    return np.exp(z)/sum(np.exp(z))"
   ]
  },
  {
   "cell_type": "markdown",
   "metadata": {
    "id": "8StsIzOKFDmQ"
   },
   "source": [
    "Si calculamos el resultado para un vector de valores constantes, el resultado que esperamos es $\\frac{1}{n}$ siendo $n$ la longitud del vector."
   ]
  },
  {
   "cell_type": "code",
   "execution_count": 14,
   "metadata": {
    "ExecuteTime": {
     "end_time": "2020-09-22T11:55:34.330358Z",
     "start_time": "2020-09-22T11:55:34.316361Z"
    },
    "id": "NjAohe7vFDmR"
   },
   "outputs": [
    {
     "data": {
      "text/plain": [
       "array([0.2, 0.2, 0.2, 0.2, 0.2])"
      ]
     },
     "execution_count": 14,
     "metadata": {},
     "output_type": "execute_result"
    }
   ],
   "source": [
    "# Función de activación que se utiliza (más comunmente) para la última capa en problemas de clasificación multiclase.\n",
    "# Interpreta los scores de la última capa como probabilidades logarítmicas no normalizadas.\n",
    "\n",
    "x = np.full(5, 1)  # np.full((dim), fillnumber) -> Crea un vector de <dim> dimensiones y lo rellena con <fillnumber>\n",
    "\n",
    "softmax(x)"
   ]
  },
  {
   "cell_type": "markdown",
   "metadata": {
    "id": "PwptSNWEFDmR"
   },
   "source": [
    "Si estos valores son muy grandes, calcular su exponencial dará como resultado un número todavía más grande corriendo el riesgo de incurrir en *overflow* y división entre 0."
   ]
  },
  {
   "cell_type": "code",
   "execution_count": 15,
   "metadata": {
    "ExecuteTime": {
     "end_time": "2020-09-22T11:55:34.346359Z",
     "start_time": "2020-09-22T11:55:34.332358Z"
    },
    "id": "ZgM6CzsnFDmS"
   },
   "outputs": [
    {
     "name": "stderr",
     "output_type": "stream",
     "text": [
      "/var/folders/j2/wjv4r87d0v1d_2q1kghq0yk00000gn/T/ipykernel_1575/1963263970.py:2: RuntimeWarning: overflow encountered in exp\n",
      "  return np.exp(z)/sum(np.exp(z))\n",
      "/var/folders/j2/wjv4r87d0v1d_2q1kghq0yk00000gn/T/ipykernel_1575/1963263970.py:2: RuntimeWarning: invalid value encountered in true_divide\n",
      "  return np.exp(z)/sum(np.exp(z))\n"
     ]
    },
    {
     "data": {
      "text/plain": [
       "array([nan, nan, nan, nan, nan])"
      ]
     },
     "execution_count": 15,
     "metadata": {},
     "output_type": "execute_result"
    }
   ],
   "source": [
    "x = np.full(5, 1e3)\n",
    "\n",
    "softmax(x)"
   ]
  },
  {
   "cell_type": "markdown",
   "metadata": {
    "id": "FpdLDnuaFDmS"
   },
   "source": [
    "Esto implica que pese a que utilicemos la función *softmax* en muchas de nuestras aplicaciones tenemos que utilizar una implementación alternativa que evitaremos este problema. Para este caso, una implementación más estable es la siguiente"
   ]
  },
  {
   "cell_type": "code",
   "execution_count": 16,
   "metadata": {
    "ExecuteTime": {
     "end_time": "2020-09-22T11:55:34.362360Z",
     "start_time": "2020-09-22T11:55:34.347359Z"
    },
    "id": "iN7JZHiBFDmT"
   },
   "outputs": [],
   "source": [
    "def softmax_estable(z):\n",
    "    z = z - np.max(z)\n",
    "    return np.exp(z)/sum(np.exp(z))"
   ]
  },
  {
   "cell_type": "code",
   "execution_count": 17,
   "metadata": {
    "ExecuteTime": {
     "end_time": "2020-09-22T11:55:34.378359Z",
     "start_time": "2020-09-22T11:55:34.364360Z"
    },
    "id": "G48Io2rUFDmT"
   },
   "outputs": [
    {
     "data": {
      "text/plain": [
       "array([0.2, 0.2, 0.2, 0.2, 0.2])"
      ]
     },
     "execution_count": 17,
     "metadata": {},
     "output_type": "execute_result"
    }
   ],
   "source": [
    "x = np.full(5, 1)\n",
    "\n",
    "softmax_estable(x)"
   ]
  },
  {
   "cell_type": "code",
   "execution_count": 18,
   "metadata": {
    "ExecuteTime": {
     "end_time": "2020-09-22T11:55:34.393360Z",
     "start_time": "2020-09-22T11:55:34.379360Z"
    },
    "id": "BEVhl-YmFDmT"
   },
   "outputs": [
    {
     "data": {
      "text/plain": [
       "array([0.2, 0.2, 0.2, 0.2, 0.2])"
      ]
     },
     "execution_count": 18,
     "metadata": {},
     "output_type": "execute_result"
    }
   ],
   "source": [
    "x = np.full(5, 1e10)\n",
    "\n",
    "softmax_estable(x)"
   ]
  },
  {
   "cell_type": "markdown",
   "metadata": {
    "id": "aLjE5WUfFDmU"
   },
   "source": [
    "Restando el valor máximo a nuestro vector conseguimos que el número más grande sea siempre 0, evitando tanto el *overflow* como el *underflow* obteniendo el mismo resultado. Este es sólo un ejemplo para ilustrar el hecho de que en `cálculo numérico` en ocasiones es necesario modificar las expresiones que utilizamos para prevenir errores debido a la finita representación de nuestros valores. Esto es algo muy común que veremos en muchas librerías de `Machine Learning` y `Deep Learning`."
   ]
  },
  {
   "cell_type": "markdown",
   "metadata": {
    "id": "czqc09vvFDmU"
   },
   "source": [
    "## Optimización"
   ]
  },
  {
   "cell_type": "markdown",
   "metadata": {
    "id": "Y34xksgPFDmU"
   },
   "source": [
    "La mayoría de algoritmos de `Deep Learning` requieren de `optimización` de una manera u otra. Esto se refiere a la tarea de `minimizar` o `maximizar` una función `objetivo` $f(x)$ cambiando $x$. En el caso de la `minimización`, la función objetivo también se conoce con los nombre de función de `coste`, función de `pérdida` o función de `error` (o `loss function` en inglés). En cualquier caso siempre nos referimos a lo mismo.   "
   ]
  },
  {
   "cell_type": "markdown",
   "metadata": {
    "ExecuteTime": {
     "end_time": "2020-06-18T13:48:46.112225Z",
     "start_time": "2020-06-18T13:48:46.094694Z"
    },
    "id": "gL9qxatPFDmV"
   },
   "source": [
    "### Optimización basada en Gradientes"
   ]
  },
  {
   "cell_type": "markdown",
   "metadata": {
    "id": "TtOw7MikFDmV"
   },
   "source": [
    "Existen muchos algoritmos de optimización, pero en el caso del `Deep Learning` el más común es la optimización basada en `gradientes`. En este caso utilizaremos la `derivada` de la función de coste con respecto a los parámetros que queremos cambiar para definir la regla que usaremos para variar estos parámetros. Considera la función de coste representada en la siguiente figura. "
   ]
  },
  {
   "cell_type": "code",
   "execution_count": 19,
   "metadata": {
    "ExecuteTime": {
     "end_time": "2020-09-22T11:55:37.241877Z",
     "start_time": "2020-09-22T11:55:34.394357Z"
    },
    "code_folding": [
     4,
     46
    ],
    "id": "h2wTA-77FDmV",
    "outputId": "bc2289dc-71b3-4e46-ae82-22f18697c635"
   },
   "outputs": [
    {
     "data": {
      "text/html": [
       "<video width=\"432\" height=\"360\" controls autoplay loop>\n",
       "  <source type=\"video/mp4\" src=\"data:video/mp4;base64,AAAAIGZ0eXBNNFYgAAACAE00ViBpc29taXNvMmF2YzEAAAAIZnJlZQAA2lZtZGF0AAACrgYF//+q\n",
       "3EXpvebZSLeWLNgg2SPu73gyNjQgLSBjb3JlIDE2MyByMzA2MCA1ZGI2YWE2IC0gSC4yNjQvTVBF\n",
       "Ry00IEFWQyBjb2RlYyAtIENvcHlsZWZ0IDIwMDMtMjAyMSAtIGh0dHA6Ly93d3cudmlkZW9sYW4u\n",
       "b3JnL3gyNjQuaHRtbCAtIG9wdGlvbnM6IGNhYmFjPTEgcmVmPTMgZGVibG9jaz0xOjA6MCBhbmFs\n",
       "eXNlPTB4MzoweDExMyBtZT1oZXggc3VibWU9NyBwc3k9MSBwc3lfcmQ9MS4wMDowLjAwIG1peGVk\n",
       "X3JlZj0xIG1lX3JhbmdlPTE2IGNocm9tYV9tZT0xIHRyZWxsaXM9MSA4eDhkY3Q9MSBjcW09MCBk\n",
       "ZWFkem9uZT0yMSwxMSBmYXN0X3Bza2lwPTEgY2hyb21hX3FwX29mZnNldD0tMiB0aHJlYWRzPTEx\n",
       "IGxvb2thaGVhZF90aHJlYWRzPTEgc2xpY2VkX3RocmVhZHM9MCBucj0wIGRlY2ltYXRlPTEgaW50\n",
       "ZXJsYWNlZD0wIGJsdXJheV9jb21wYXQ9MCBjb25zdHJhaW5lZF9pbnRyYT0wIGJmcmFtZXM9MyBi\n",
       "X3B5cmFtaWQ9MiBiX2FkYXB0PTEgYl9iaWFzPTAgZGlyZWN0PTEgd2VpZ2h0Yj0xIG9wZW5fZ29w\n",
       "PTAgd2VpZ2h0cD0yIGtleWludD0yNTAga2V5aW50X21pbj01IHNjZW5lY3V0PTQwIGludHJhX3Jl\n",
       "ZnJlc2g9MCByY19sb29rYWhlYWQ9NDAgcmM9Y3JmIG1idHJlZT0xIGNyZj0yMy4wIHFjb21wPTAu\n",
       "NjAgcXBtaW49MCBxcG1heD02OSBxcHN0ZXA9NCBpcF9yYXRpbz0xLjQwIGFxPTE6MS4wMACAAAAl\n",
       "HGWIhAAU//73x0/Apuj5ZsudRT0hMIrY+kgovVjs0hy1UEAAAAMACJcL3CGCsR2kZfdrj5u/iYAT\n",
       "Rj1OheWh1xGs2NSqslsW6h3Ur25rz0PGIjSYU7/4r/W5t+tLSfPxERVn5gNoKTX2UVBZJBKhJZFv\n",
       "ebTUhBDeb04T4yQV8RMfONnb+TY9ID6lk4t3eVMgGAwPij86uUz9WtAokZ7IpvG2xMQ7FZBf7DWt\n",
       "CYmUxoFf+obRr++T8wmJ4gHKIFZYa6/cgIhGHRGc3cxfNu7F5zXZrQV1dkUewvOtR1PEGfcKScwL\n",
       "BcuhbZCxZKU1gDwu/gXC+K6mHc48g1Gvn/twcvLFStclHuoiqJ2Jbu11igWe1DHZC8re9wBZYxsQ\n",
       "xN6pwv+OzGyYrq2MAGGi1NgGgAF0qLLq9js6TIoK5aG+s1H7XV6xGgFVN3Uvv9DaLRWQlk657iTC\n",
       "uAA1haFOBPRs2Vh4Gr+VVXlnWw4cpHCUHBpLs275Id/hu/U2ODKwFbmbRcyD3SJ//5h7zbwTHm8g\n",
       "76jKjhz2/BMxjD6Ao/N9LlPYf3DisVgIjnZdhZyRQNuK21G3p0VUQCLuqD1GyoQc94zBeUjZ5rCS\n",
       "84N6nt37nZ+Y/CBr1YTeG8Yi7+ozfoRl1+TKftGvr/RUnWY13gXA4sD9kGRxUeQtEo9C1S2ocycf\n",
       "1FuMZGM7ReUKUZ0k1qDr/eTWA3rCwsXsAgaSKr27Udf+oGlX/5kyachzoMKfEW2WBnyu+eZJSgAA\n",
       "SOgsKHq3Re41ay0Qzam4RyYyAuoS22QsyFNUqhZKDYcG5/sEru+37KO0LuvJt8k8UdZgKy9yTd27\n",
       "uc28Lf847uvludicaTGbDYqi6iqMsyh8HdS8kwOu75yU1mfsk58K9jKLyD+2WMxErav/t+O2c8d4\n",
       "le1a2ankcyF5w0m2jCt+dGSY4EMh4dPC9nFVUprFHvckW097VBiOE98rTkIC3A7ep+Ck1ub3U8cT\n",
       "UmBj0XkMkgy0vRS3KAom3laEuWyDNmhkIA9lf5hhp6F/Z5cM9kQwB8pfedvycjG3mU+z/gW00oET\n",
       "0yGm5ilpz74QHfOejRsrte8r8CZ+l/pLv7luHTOWeZxcLAmqGTIJo1fgfYJYHHRuG0qL7iAsUXEg\n",
       "nNo6HkSuuXORvV+mbX6VN7p8Mg76PAbU7YoWUoqwq2Gv3hn2m6GQnPzUGa7Vk5Z/bbqjEVtWn6x6\n",
       "YD9+i1cklA34W5Xdwm0uhgo3xR6u/eFzRGXX/9hocv2Gr/4fESs7xLnop5mggD5/GmkNAKmxoEFb\n",
       "SaTEbzJTeGmbMAnBKoL/dBDteaCRtnW/mRswTLqAjpc/caWiHzR5EjZ5gHgA+kHvgta10WDU+nQD\n",
       "8qJerI44ElpLy20j/9NJPO+oi5yCRf5AK2eIWKL5Or281tRWCjK5kpF8JpFkQBNdWIpSGcL166wW\n",
       "0LxQFgKcclVd5YiAPRGT5/B/CMeL6i4xBKccY/fAM9VbxlzG9dQIf4d8xSr8z4zS97xj0NnyDtYD\n",
       "uYmfMJGbAqXiJSEOJp6y53L5CfTWUM3f/hll7ltZ5VlP8prMzQKEd4H5gq4U2U7dbxwWQp571Wjo\n",
       "dEkqAe2s8Z8ig8rLtc0lxRkVMthDLrTRoNpOqClcSXU3//1qV3DYd2qvj2ZdK1MczLvnLz7L4+TG\n",
       "z9rOLPQvgrzpzK3Quv0WlM1lE6UGf9/5gQrbpvjNohCBLiJzGFuNj0VRqYIzEvUcsp8eNH658uDc\n",
       "Mqgjv6iHNgMe9A4SdPJZsCizD5UQXvpiN6779ToJckVTcQMa20A/7sl8Eo4ZG4c9B0GYOs2x75R4\n",
       "rr4EnmNOl6Pf9q9uqFRE+axREFkJrzCpVQ73duWPVYhWZVZuPbkRQpUou2pooYgKqSkITyicLXlh\n",
       "LW2Ju+lUX0bJZ3J+UqX7fQ8Wn/st4PrWGfh5IolBzYMswz7z3bDCcSBn9zgdP6Y4pZ3WEzi20bX8\n",
       "9TfqiUx9/44+46j4oTfqqgYdBhTLYVE5HFsGesMKJ4ur4TflKqKC367gH9lbZETK3S4aSvTxUrBB\n",
       "onPj0MmYSXddcHBi3czeGVmADzCiRznbHkSVaosP/+U1DEr78l4X+JbY4JTqdap0+dx63lojBSLF\n",
       "8ef5z0QunO4ZpLmxXt/9H1RW+VZOwfJwWI9SR4/Z8nLm/B3naITH0rqkmcDlZnmeQ0Zg6ld1wJF/\n",
       "+Z9emvmUEqAmTalCgEqvCcU0KaWB58c2aN5ScTO0YWfUmTeiYGmgJSeXVyJPCEWZhKS0eofKHI5f\n",
       "4qZhiv9+daA2PJ2Myq/If8Rry7DcqeFQMOyhqkTfwTESdx+Flsc17iWBjHFDgquFTxU1rXRMhxPw\n",
       "EhESvn/cHpZUURNjNVnkhZQqbeTOlHdAM1U8WFo/ZW8tXyh194DsvN5aR19PY+b9tnddNZAzatah\n",
       "KegDjrvmEZuWZiTzpxUUqX3I3ItZ2Rnx/YnsKb7z4H8iS0PHVXdrj2tpbFveX6Set+/01pgjIL9i\n",
       "mJVNl7pXsyYp+lQExcaM58thWTXtag0KlH/1Q86ZwJKesHV9OOh3SQpmJrSRFU1VEcgW4GI5ZQzr\n",
       "Qnqr95iw6mk9ho4iUaWMpNAKprDLU9n2G/fA5dPyqL/vYlmYp7olPPJwy3xwqcG589NNgRU+cmEp\n",
       "Q6mQZrVz1kdmsCCgHv1E4GQ3BKYS9zfqS8rC1fjIwhuQPaYLbGhTqxNsIPYe3eF9qgDRt39Ghdy0\n",
       "jJLvET2vatN5HeUziIYJenrNqZtG0GJ+VN5kHOfQ7WZ8MfaUNlFDvKbdF4mAXWc8zYzzCHEf/2SC\n",
       "pjaGcXLz/dXMY1XwWjvL4HWiJlUJdC42/3hjXRXolkuqn+DlQjnxi6cM8UAqgP8omoJhRjoKJVs0\n",
       "95VNNCNkf1W/WPHsw1agf9JjOTSwTHfoJBjaRuhOJHLVCCFnVv5/K1VQ65/DW5gAt0cyl9d3S+Fd\n",
       "HY5I6aHXY+XsiY02AthSrt6Uz+BgqAdboO7y3JLKmn4Fhkexi7/gEdQyuV//fasXvvuG+acdtHYz\n",
       "h7a5q2KTyQQFOop0ZvXrc+UcqHw1or5wjaC1429zAWy8gmOI6ZEVhdjUwH3WjMUnf5iPry7f/jxD\n",
       "ycmuV6yQvLQTEO73SSymSL6zrltK6O1Zj6n0a+skKa+XQ4R8X1bmVlOBovJpTs7RlGvncq14VX/e\n",
       "yyLXZXX1gIymPb+m9AKY/Adc3YUGJ37zfYV+16dWVcfCusFUef6Lq648bP8rQYj0bKkDDYsT2rLv\n",
       "SuCcDcxJPQfx7YyhRxbaAaTs4IQBAMOGz64st4dDr+7P+afOPEwMsPOO1F8Lw/T8dfnXy5qgl69z\n",
       "pnqcgOU1Yzsm3S0gj7543/0891ag3+pdYgsmtg6MvIk2CjVcwlMncu1gU7PUMRbmc3ToMU3qrlam\n",
       "d0kBxLOgEA+2iM3AEB1MIdz9+SGa+g0M1OO7p68XuPu4FLSglBjOUefkmkiq+fYfKpk5CgGs8+dl\n",
       "oeIC2+gK1pW/DOeAQqAbV9gW0gxNNDUOn6jA+6Zmze2QlSGJIJcy7/RxflDiv31d5tRcMqGu1auN\n",
       "7BuYN+zIINfU01HnMFXxiRXeJkmMu2XfMXXuVWbZTSD78C1yGT8i/b2WmFeBT5fFna4xkPBE6GcP\n",
       "XvrnxUk3GLfbPX61SGHOBOx9xjTgth/XupsaJzMoxUVjrsXPQGjscQwGleVEW9SN4gQrPJIYhB5T\n",
       "59Skq4lUQvQJLgAM2/C4SvYrEXqJTdtS0GUcdcV6itl8K9ZJbjPImRv+W4sFGGK/T+b86ICYdGdu\n",
       "A/q64r6NYUsVOEQ/sDp5LNiiv+hCjd4+4e6Uwn6q7tcw+1juxOSh9VYg9MSMLz/+sIkDew53qoRT\n",
       "exeTTcQpxJjblUYO/xTiZ3wUUJtqqoW2KPtjbD8a4ZBb/MC8XKCFZtAmo5gIhjBhsWAq/2CW8qTP\n",
       "X40YmPDV8JeSnuoTpJAUB31SVK3zR7pKGfbadzfTCT+4hlTQMYbJnVYzRKYzHPJfBF2EQ6B912NG\n",
       "Ru3BVeZY3EpdehwM+IhapLVi2iXwYJmzC5YEk0UpllbRh0C/9aZ7V5xYL7DKxkNOudW3ntLG7piN\n",
       "pXgtRk9DJsD5o0CeRP0f/w3yUWdzI55iZY6Pjma/UVh+zSHsWHCeFhEEdWt/FD9VOcIYaEtDOjJk\n",
       "vURYkWiGH+Fcu2+ZUrsjdPuJd8x+JNrRqEZO3DigOPdS2pAW2suvUfVXx1e6ZJGjbrb4FEAB5X80\n",
       "xROE/J3ylfZUjfbcYU4Ja11+L6Ho4CX0W3Qset99xJOVx6NJk1eBnxLcAY4y55H4w3Zm4+GtGazY\n",
       "7oRulZ15XByYCu3hHYp5T/6zw7adsrQrdRrapiTraUt9BMOJJ3qQg0+/3UfrVc5SETAp77moPFcM\n",
       "p+mNr53Rz+tUC1AuIq8xW0fi9N4ERd8aj2J9H+2lrCKraPvEy6apFneOrwINB0N8jgPC93KVR0/D\n",
       "JpA/h/5bTQtTkytOUOKtJCKhGLTlIulZN6xD1YFaCZDw2Ll+X+/62zhrlezuGYflZngi9ILFBbz3\n",
       "GhRs9H6PRIN4inf+u0LO3N0NdPPbehQpC382g0b4ZTR21DF5X/EbxAkZ0s3f+YMJZ8Ab0rN43P4c\n",
       "WkN9y19+KLxQ/fPCa3iub2994DLOFnywdJdmXeSqynbgiOzGkpLioNCkXzgcy/GOH2O9E5NcsJmP\n",
       "1WVu6HbCrJbBTrUsYbNn4342RWUMH1tCePpcyD/VtdmeHybgBPwSN8k9/cM9KD3HZPBHl747Zzff\n",
       "K+YTySWQkxp9ukmVGYHYniBFSNMARb5QYmV3/+vo7P4n7OjUIkgHKWgDCRodSDqNU3ltXPnsGlky\n",
       "YAdJLHY/nRjaKouf1N/R92GG06W1AD5iX8+TeGJvu9l96++YBfu3ETcmuHZvv8SVa0shym7EZWrj\n",
       "r1mK+YZJ1Ha9pAVtCY5p5tg0eMn6CcfR5lj3tD3JJySJv01jci/UysM/e/LEpvVCB31gAjgs2vfC\n",
       "L7VLEfV2DDqG4XX9IPcaOwEfAMJDMDD3FF2Q37BqfXxBjEswvzFEQv3A+cr9oymPuTvxYaVUTJy6\n",
       "OXzQm/scYjzrKtkOVrftu33Cxf/9J0kWdb8J73s24HTPbjY5jF5nysBk3meflPesAUZOe9+KQ4X5\n",
       "Pn8wAGBsj6lnyqurJ+FFcBoLJaMRrvevlQbnBfRS1/UVcO3YR0Ml3jclvLgW/7NQVxalQomMFyxF\n",
       "srFJn1qHa4vaulWjQCV+/PvUN1qTLvdU0daTRtMuzPv5AOvywJ///u8oKvA63LsSzfNMMpFp7BGJ\n",
       "VoDA8o2sekJ2VcsPO5I4N6bCfplbT84RkNUbJB/JauJe+I+CmL4iDwS1LCxFeVnPYUkLQID0oZcu\n",
       "fbVowyT50Pp9VQEoi98j9rjd2msZ29kpJKyOsozzNL/JbC6TqYNXYPze+WwwRgZIV+IaRE7oKDxx\n",
       "8YQV8DWhrsr5vlqM8pdcnDtocvIvfQjYJ4iMeIE0gt4CmnSji+GfC5ScA/54vtfdRSUHeiUF8Cxq\n",
       "nVPLP0U1WgzgaE+wHY07lVN3wxEhqrs28/3z/0M9QaZnh3/EWGFMEO8FUCeeTA1u74QWiRgmx1eJ\n",
       "OYVMTG5vEbOv0zX9XC7tDsiZuFZsKqOzUHum8cUctj6OVCJ1RPpy1jGioDkhcahJVlZ9F230/+et\n",
       "84khWs1UrAWRvrkRO6RBFaBlUKkvqorN88SWVVTJBG6aA/hqmh3u0nYaZGvzpCuEsBv39FYEZ989\n",
       "4Pc/4uyPUbeAXO6g8waoKcs2OjEUO+nnrhhX3LCgppJIPPcCQTlYhi4z6W5OkwhIZuljGR8NBHAp\n",
       "kACV15KjzVC0wFkaPHFwHMpbFdQW9yzMt/JpKeuJ4iYr+pkeb2ZYO09ecK7LUsHCcrtosv+XDlLI\n",
       "jBM3C4nOLob81JTERsju0D5EByhJFDFSHPE1YWZ/eCppXR2ufmeoAnH3J0KiPTSoFmQ5+tM1zFvc\n",
       "tYZ0TpchXk2HkE/7PIg+L6q0P64nN/rUgwo5y3DpTBm3eyETpLhIg2zitQBy7FIPUD8sEVdfHrfS\n",
       "WCp2aTtYtXmbG6QJv/T9IP7uF0mgNICBLNpf613AKZQcSf38eoCHIUb3otVkkmzIJAmBvX5xU6Mw\n",
       "4tN/oKrkEHfDzrtwzEi6/ZLxg485XfbbjnRSoD3hs9ULEuzNGVIOwOBpapoivHh37Bg7R1Bx78u7\n",
       "pytBCOz+GDKRBnOD1goVXFwPs9JW0hAm9FBRhMzwlYEJGrKBhhwJ3i2bgAsILJ+TImZXaJ44xiIE\n",
       "Zsij1tAxEL2EUW5etSdD72+yp12YKBwY5WMKvujE7KjuB2YMIH+nNqZUrSO9JFJmLPf2JbFE5nND\n",
       "I8+69rAf/ZXQVJ4Ss12klX9d/ubTtj1m2Ujduqt3qEWgNk+PI9gukxPFbszVABrboe2wgcrheW4j\n",
       "8w5q4YUYrFAE19AAgdrTP2T8zS9VJN9xuS4FXCtznkdRIbvtT47tUAu7gxZugq7DJye9DLqcybHK\n",
       "F3nhun90ph4N8bTvwU3Umywi+LntyiNokoj2sTaV0OxqiI/FLJ/j1YBjrY+R5cIGFCjOWDdZXmiE\n",
       "tWgLyOgN0MJqkHmfSrd6TbMJKJSKsYtMKi+Rb1y8XO1WdRpHPKyc3C+AK4ir30hXiL/E0QKpgA8/\n",
       "PaaNfRMJnRWrjaEA/ULS8S9OcrO4mBV8aYqUXiXMh8LrOrWFNGJtmjFBXmhHKG48rPDuPnyws7Ol\n",
       "aPSp9aIxdjXiZSV0QCN/L9nIKCJhlHPOOr8t/1k/Y5wPbYSuIzfx9Y5FUxI71QDfMpCgQg57IkSV\n",
       "1lvb37fWvRzExIcwRqmLx+PU2n4EvmsSpUxA2abdkS6yKUl2KEJ019Ch9Cw496PoOoY3Hn6Hhtgp\n",
       "RAMa32jMsgWlXK1ys2P0YcDq1wGiRNIuvBQ0XrtaJThrXnl5lR2ehAPNjw/x9gUXwqktq2ZPC3kr\n",
       "z+dbRrJDSv9iEGgvRbjUB6cwg+bXNQVKo8KBS/GPv1FmIgbC01SLyz47myGSAK9LicKAaMu7aAbH\n",
       "kf/QPkgZzH7nJnbmwAbZh4GAJwGD6Xs1yoo/bS9rMEr5NIM3dU3c9+RBw+Gw13SW6T0CeO1xGdDS\n",
       "5w6sIM0mHg6+97FMXnPcNFKQOVbV8Dm8LNEyZwwOC8F12ZTa4OcO3US3Yn3kM/YrOcVl6iF3Y8cR\n",
       "bJfl7WLLGOPY+Fc4F5vWUrmTzcT25+2bnyJIp5KG/89CGj+aNDRP3vj4fwmgDaB/YS1cq7+8IokA\n",
       "drblAZy4OgL/dgMnVG2GHJiz/dMwWWFApiwaWixhrPJud4/3NmHV7e6ZTXfXDsiZHMBq/NQLZZhl\n",
       "nnixFc8Q4JccXQK29klgm08E61cbvdHDVyJn+MusIOLD1oCHD/rArsvWR+7ip4/C2GrOLsbNlZex\n",
       "tAAEm02V5b0cGMpf9ZlALicqTw1MDVaML8SIFy0blD8HU9Cr0mcL2efo7JF5JwNFKJWz1rC6qykK\n",
       "ntg/2LHOmHNvWAz+jSZNScZT+YkZiZ5nikNBWRLDtDRFpC+5bZFCMXKPqhdO/B+qwNl7p155fcV8\n",
       "JcyDahCAx/fo/fwfwyKGoFlWUL5JV+SocSZb4g5IZs76GlmulFfn4cXQ4MwY1KL2G1AJ07GJ2GHD\n",
       "VU08oPot3UK1soat9oh/sKw47AifNVShgE9kT73lVyK4odm+c5bZ/fCZPxms1U5l67jd9RhA2TKd\n",
       "s+qWOZLF8cAoU3ZGrIJ9HSaiogz+jm24XteDMswF0urrhJ6TLFxfx8AfLLNgp3lWTsELWfVelqoy\n",
       "bICLlsUQmHg9CuZ3SMvPZAX08dT+gfg3R1HzOuEbs2ptIqs9JfBFxieUn8WXCmyt8yllKo8uk0oH\n",
       "8bxNoMVTgnZj/akG1ZDNZCHibu+PxU4tezKsl1QdpyjbodS3+MnQhqak+33E9Y2hoSVBCmiGk7gZ\n",
       "u4t56wocTXp2JeXdRB6tyWIdP+70nLLlC9oKcEAVa/MmBS96pko0k+n/9FS2pGT1Y8ZQXh+3rfjY\n",
       "ww//8pkK7PAKC/Ng/9lrD3ULQjQCf2dXdin8ZJ8dc0GStDeCQm8id9VZFL5NlsZjKjD1rnY4B2vh\n",
       "wLK9avIPocdaHfz32az9A+bw4uH/wQY0uciu9g8FHhkXKCA4WCWVjh1wXKclrKVMXeF5RZa8t6SR\n",
       "xvuKJKv+Y12jgNytUKMazOH3nULRnWqZNAAuMXpotB1BlsTHxGuCpqwUwLL8PJfwxhFHBqnLdwBd\n",
       "mb87Qoy0hAXxuzMKacCKBJUDXOeoLkRnt+7RXWmQKGYnRSTfkSxpx0ZtCZIq6Waap9x+1fiH/sBd\n",
       "Z1OX0faVzbe29TWhdp25ZokjQ8yDhEW8vTyi9JGoabHr77x0cvlDtUzdWmyXyeR3UaWfDl8lZvaj\n",
       "6qGPgy6GXd1oOv4O9cJ8TPcmiJkjJqx9oJ/l2ApRI6pebZrUATf2D5lpwHJPuK+klrDC/UHq/7PQ\n",
       "o6sYswyOkQyTKDKRho4o1xispFzTwV6ZmqW1JNyMHHDfJjkRmqn1BBnfKFIcooRqIQusPIbO7MHw\n",
       "lnFuK2nwU9+QRjAWcxg6jLXRmnC64VD5FgR1C4yk4c20OFXSSDthEHFQZ84LIWc0hng8QTrBWNvg\n",
       "BdzN3IySjngAmDzd4togG0/gYGgFbzskmyqx1BCqcgRdNOCucyyMWAAz1jaaQUOWbUWuv2xkcAUZ\n",
       "3BLAp8BHNsF1uN/icdQCINf2vvmGQGOH5oVco81YEklohsq9RG7bUrOW/An06yQW+5VFc4S4sQDp\n",
       "nPU7RiTb59SqkhNwL04KYhcP1q9NpdIJsd7fmP0FeqFFfaWeud38AQX37U9nLuJ71zXnhiMd+HRj\n",
       "rgZfknIPjb9k39nIwnv7quM/m6YrdvklznwV8mON+GlEJfvTNShO++CjHoPo0xaxWFkhXNXrZqrr\n",
       "ouECjGCrSavbYy9DjZEurFBsceX03HK9XP0pkgT/qO2dRTTwPTne6tvP2q/83f9Rdqvb2Ud9nZLA\n",
       "yH0uCP5vZu+0XURQCuAUieYMjrIiohTfEDQYUPumcS4vt+Q6ASheUiCF0BoeTpNE7qilVSaxTOIA\n",
       "+F71wb2mJqQM4XCiFG1lcRIKiaujmZP4JHd5/4gueM+LMUK0HoOid1z+mwfEPLAdNzfm7u0CTz9I\n",
       "egsBgyJHB/SghF5hW/nynMDeURSIE6kUANJJmWQFlxIVOGVJea7GL1FKiMihdagFkIL9GGyVTJYG\n",
       "6hsj6UgyXR8Fv650pggnqRp3Lg35pKFJsI04VqHgIxu/5ZN4Rra3kG8NNY37ns52h1XZyibgoPXk\n",
       "0/5fNB8PbIs0l5N8hstneyHLdwLUXV2nS+1UnqEh/5v/zvfiq/uxaK6Pj8INP5HIZnudt/kXEH7+\n",
       "PlfPQ+MzBEQpWrA7NU7FYYAmizaY81dBcuf07wACaZoCm32prUWSbAXpbYd3UTuDQ+in/nLw/ung\n",
       "f7cT2ACn+3B/spFdcp1Yzztx6ABA4y0WZkJEhDDyqzbFYtKKsUtXtk1Be7/MfaS4EnepfwE4z/z4\n",
       "XrivRCx/zsY10RT7g7XZJZVjK0S7Qc16VS990eddgN88r1c8bnLvMTLtkMPmE8VMGDAY9SLYHFFf\n",
       "dZi0g/Ytv16z8hVHpz4Ugd2PAZlQ3nXrzM5mVzYkl1083ELW/aMaYykfG07U/ylZ/TQtPyug9E65\n",
       "TBD5c1vYyZXKzfaNnGwrkl9+4HUG5jdCjWvhUgwwOUZ7jy1jT1M3ADM1oUSxYkmsDHLkcm1yNvSD\n",
       "ISOWKZ06i9nLI2Ll9T/AK/sMDy6vhtlWMec4PP4wG9zosaTNYNqwtKrVqC9NSfRs5rbahAdG7ei0\n",
       "H3IwzHbOD081Pd/CJLyfrgnB4Yy9paVt/BL6rYFNkhK/GR00DLcLV8vgjgHmaZSdHSLFZEFEaUSS\n",
       "2k4nMl4eyQTuW/2/ZGvx3/toPLtizu4m9+3U8anDwIDyjvnG8qQRgUEHPgtOD4XGesyKQI68JExs\n",
       "ssSUukRZjTVcIGqT0BFBNC1coGHUVCr6hBqBo4kCfknP6pw8EesX5hElUaqic+MkAvpaCC1ZAe1d\n",
       "/heR25Zrg8mjAq78SeYNK1QLyaDQOWePzR2pFnD/hP/9PJ+3vyRR7F3WX6w3vdiXKf9YDFo5NLjK\n",
       "QtE3ckl4KC6YE/6S/ZHhb7FReNJugeZQjr1mutCfRV9SQ683GJONAT4wx6BZ02MbzGn7G29rFvir\n",
       "fNUBnxl2lKrJfEgbLv9ZcxOxkVZXHo4NyC9vr2t9RuJ00qnQovxOeAm9r4UgUNoa88xfZKmi82/a\n",
       "/SMMnZmTsGr2yDJD2HjYhIuNyfx9sTr2LHfMJdu3lSB/6ckyIo1BoNBUAra7bCx9+JGlc2cauOcy\n",
       "S98Evg0+ZHIyQpvz2qRzpDbzGHDlVghO8LejNDqZr9heYJyADLHB7p3+SWa9Qx44Dj8t2n/VSiUq\n",
       "a9PUAeBaCS33a3LFJIN+Z06WYPyWMhfRsCvZCYWqwfWL9jJizKyFyl9B4y1MF0ZhbIjqi4FNZJNr\n",
       "geM7FJrQQoc+g+KDZdNho1Vw/Y6dma2+Iy/wzmYh2IZ2bsIDGfo/Xohscb+Zh3hyp4iVr+HfMAp/\n",
       "REewzZLIbTZT5cvqS+iFDxfskf9j5Ss8CQe3LhroJA9hALr1AMgyhWGfaDrfo8ZJUnz7Vjd+NAom\n",
       "RFlyFUIGm8WRbXWRor9ksfmtJ7qmR41hXLDyqdW7XFMzx0n+R/C6CQOTcKR4kM1YBYMKP4ZsRQrh\n",
       "7JOszSPE6169TE3qLOqDVicNyNRZxfsRfD+ETTDtfErwh8zWnjXlQEzAFCyynbRo7FWK6QHQiAZd\n",
       "W81TCOLsYHZB/f4rwE10z7An3Q1cqmDSEXj8W5Eo6Dax4HV0nB3klpPdg7xqZQBh4WjKZ/D9JIW5\n",
       "YAxyJqREIwXXGqcp6TYo7B6Ya6ValeDWjV8+HzahBvW9IiLWsLeCW8G693EZrb9O1dvGvk4MhlKS\n",
       "NnJyQFtLmNvC0ZTP4I60pEYhWxKooLa74BdRAHWItOgjWK5N34Dj53sDUqCxYXmpY/JItes6zXn0\n",
       "O+rwG9RrUmfAFnmIM2VpD6tMLK6EpXw65z65a0nUFhe96AkDU6NqAOO4W4UsbsGq4B3x7lHIq7r1\n",
       "eYbfuW/WJQDExALWdQtb8/TZTdotRQa2O9xND2EnHQzFMsSJDUyrsCsw1WLcX89BFNBOUOcCyQ0o\n",
       "OtDj7kqVUpNkNG/DpJ32tL/zcBjbgSOMK3DfvnHZNrG31eA0jeEn0XEr9eDsZ5tVJUg4T/QuTlT6\n",
       "5+CibqgQ1sYRgJNqvyOKP9jZ2RPN/nGzLryu6Fnvv/b2W01HJ/eoMK2P9eBYz4BDlyweJKNlikC2\n",
       "haRjJ+EE3aSQb8zLNstQWMFt8xbMNE3Na0ICZH+Yahi2rxL3IUB9K8ypwEmMi4BJPl8HrJtNOGtn\n",
       "am8+czkDvipg3pg0Uccpu7Oz5CHrOjhyDjFqUQTPQlnRm7WnBBvJfLbS2bELwbmAeUxG/r9tNYeL\n",
       "AwlRcvSkaZIiJWJ11dDtLWqM79uI9KJrTK1d/G5hupUU3eHFv8JY+u2PbxtSUInVJkyo/azkSbhM\n",
       "nIFCGt6CKFu/liAW3gD/Zu+61oFMSfkcsmj7PXzw+dzV2PbayPXR8CchYUDsoc1VUgsS1u0R1Qum\n",
       "3F7VVJ9vY9g0vpSXxy68J+bjkFfdRO0S/6bnTn4sN8fAZPfXgQxJb+D2FWr4vlDXeU9TAYYDjL8K\n",
       "oowikSx0wUbJQI8pw8Bml5UeB8h8VUpITmpGEAewWQkU0Rn+79Kg1FD7S3d4BPZJwJ89L9uHM5EB\n",
       "PIb6xC4YCEe4MDdn6CSkCbyOlPP7TQ755WrP1ujXQdQ/wePgRT5/bhSk+9A+1NOuZqedTZeoSuj4\n",
       "VyofiL7wgf22MQiaRrLeAJCN+/rjdFImkGoStJPejf5tXxNX2aeAeqiAmSAaU0G3cUl7kKA+lh2x\n",
       "LliGRcAkny+D1k2rXjWXa5mfOZyFEVAMaoJSZJtBO1YP8m4RZBWULGYiXvgqLwGt7P0NijNwETHd\n",
       "FqgBY/bnERM0zM3FRVb7LY2M4+mdJ5ZClkWq9ECiG92DpnkVPb4ub42gkFa52dNiHzpd2vDDJ35U\n",
       "ZZoBPgAUZfNEg2n0oDbw7Sxe4PJiTfWPLUQelF78DqOw2K27Kda5i9+xVVlcVN8JALG/8ObrFNE6\n",
       "V5sraVMEsAha2dciXV2w/b9mvBxzHxps9B7clCYQKRA4Zo9+3uOVIDFPbu426xnTaTj+L9R90bZK\n",
       "P3OeTdzZiRk/wvhcO/+bc1DkdOdsD1J0XW/S9xKIW4oiHeENVHcs/4bNzmz85eeVt9D/JzafP+DO\n",
       "h3EEphTqQVQgwy2bmCfd3bBkcgniRgMAe8m/IUGzsdOrrftQP3m89D6l8YCMuTJzPfMKxpLGLdaA\n",
       "sTUV1aX0XzOJvmuHMdPOnLKO84OAufcFp6JSR0AIfAkDGrcIlRYqZCQZdPi7jsmcYX3j5zBg7YXX\n",
       "n+AwGog9vfHEN2tImCwPXT3VSv2/eIkzj8Y25TnJSr1UTS17HT1ZZyKMW326KMfNaP9JgJD/B8Ws\n",
       "plJa0q6Y1dVevms6FTa5BNBiX8PZZeCHXqU7IUqC31YhBFfAAAHDAAAJSkGaJGxBT/7WjLBC3l8w\n",
       "L7ajmygCJXFHiHpEGLgi5EUuGG1CTBKVUrcLwcKyIJDWvU/YqoTHpeLKyrULGXDTHLZkELIOYR/X\n",
       "Dp9NP2tzaXwmTOzInIZotWLeqlXKgluJUR3gnV1p6B/nz85JVgs0q+3zMOkLYLXLqu5iZMM2eGZM\n",
       "uGTwFwlkvL+rECqK2puq96S7VBX2zM19RC1c/bhh0uyCZ860WNd095U4j5jthdef4DA0O4DKTk/R\n",
       "+Dny/OpcYglsYtzkrum+pKU3YLzS0CXGqY8ETdBkovjAXGcGXFJA0U+4yPehWk2YAE6v16SZ4ne/\n",
       "M1JseqAzM51kRIgcnlmnoBIAlTqvDrKFkutJ63n0cdYUNoJFzmDcaouLnyS9LWrzpRzz7a8LEJmW\n",
       "GiRbVJgdXs9p/wSTt+WSDmN6MEd5ZxXbQUDmREY2RXgvRU7mKrY1Lo8SNAtvvjAtyUrYxm/btb0K\n",
       "Fhh9r2sv8A5Z3br3oZ9W67Fb04nBjcfJ3HJu0+JPeffG5SvQzLtTdvwNOzF9aap1LYcw5knQp0X+\n",
       "ua+XaG40MM/9H19DU/bxO99lqE3/Hmdv5G05v6lqU797Um2AEBfik4bKIBFV+7mR3wH60ubf1kTs\n",
       "z8EXFqCJTDWe0VjN3Kaxiyu7vxkfQQP7kdKGS3QLVAC/iEd4XChpmx34FUp4Ex5gD5IZFHiM8JTf\n",
       "XMJWhB1N+rmXV7rElnBsPp85evhx5xQ96h6cTHGfDk3I+CBBev0wram+TeoZgNHa16ReSfk077RX\n",
       "hJodhbPd9N8mW3azIaCvk6sG3lEL8UN9qiapGDfw1tKYZgMucxi25rH51y8IP9pQRcFWJ2vpiwvc\n",
       "EsQBw4CIa8Utw9ui8SzKmxcsUYV+TsjWtJQD0+0lrxYay/i1AEsmfse7lyf/vKoA4FXnI91PHPDr\n",
       "oqbwt5flD3V1n7QYLcK/wYBuBFbMt7BkNkyiNg5Tk8MlMPkmyslf9zpwo1m7PFBfmPtS188bz+8o\n",
       "rSX5FalW98wlEIndhnRnGHoUZUwa6WiRpWkojUD25mlx3/p3TtvtpTIY8tiwSCmPrEDpKJJRIUon\n",
       "pc+PU8rcAZsi4FC7U7+k47VBjE42vxbXgwTZZ8vyR1f8aezj5+DCYNzmICjbqfGFkNUo/eqrMgaS\n",
       "oBFK51bQljwLOPc1gaetNyl07v2cfTqLPpBHIa8PDKIxi2Fi7kW3iG3GL1ET1g/DIyz7OAguQb0s\n",
       "55j4zYLqg3JroPja+o453BA7dG8fmiZMqOcV3SqhJVbrjPZ4krXVeN+WYfqv3LxpvsZQIVz0Tb9K\n",
       "DgDnrQrQe6dks8hjKDBU7j4l6Ld4kC6y9CsZhn/eF92YoC2epFtAuVWXRHv39VL1PF2MR/BjGHay\n",
       "6RzlaxNGBQxPsAeiusO49IimxiPKgd1L2mTyboJmLzQAqsvq1FGv4lRVoEH4xsySoc/aISzvmVPQ\n",
       "0+7kd5Cx5gd5JTzPhpzm+7nJwKle5zMijg/ByCCYxiiv9P3ZmOifcP9F2eotKS/PjIvGETB3SE2a\n",
       "31/o6ku2dfGd8pwr/vnMRsY70hayvsHZOH51khQH9LF+Kuxp4tyOakePwzinF/uUQmiUY10m1+mW\n",
       "hh/JRv1DLh/k4UrgQXQYjASw4PqwOPfl0AjQz0T2sr4XaNO1Rk5L2k7rfcKlfrE1LTH2OxLDJ2gb\n",
       "f77OAoFO6X8qGwzO6KKFhH4gn4Qun1yNfylXfDSHqf/RFD86EtAEPx+ypfM2K76P14AP5G+AgKP6\n",
       "xKFIhLIJr7H1kzURSnukTWSjyFOGSL1gEbz15nCQD/qxim82OMeXUMI5HXQg9lnc0ODCXeAIEWw7\n",
       "WaYKF5pLyWJ+3VSg1Jf6J+ApwmIwt1NHUZyI5RYu6Nb/Dm93ReFF40Vy6psiOeOmpDB/0M0fH+yn\n",
       "QoB2kJj65RZNdYiZAaP8ccQxYxbzihrMmp/3FvyiATMSKf9UX6RPKXhzrmfYUhhwcJnjfEmpbnpM\n",
       "CScpY0KtEtObL/OKr9it4QLSiMntDTywavDNS4UixH45MWxxJVIwVZXUZQICJR1BGiw+MyWh1B6W\n",
       "5rOwNk8vChgRHGKpZQSEBGaXncVjiN5kJqlV9SoGdFHLnrTQTWsenBuHyvdFlrLls2oXdmM0JR2S\n",
       "4cwoinna51P/At7+UCSe3E7Q67rYdBQGdPA7tLZ6JS+LnzvJzwNDJNyczhrTjazGjPSJ8/50QthN\n",
       "29WoqQMM4QMPLfS6+h9faQdRjlCQMq4/VhMKkNy/F/2JiWuKLbWosQPPO0l1Y1yieKWYpFdlXkru\n",
       "5IiUK8LJCbtM8FdFnVWQZ43dp577BP/3BvYTirNDo1Vjxop/ptJRNr/fCmdzyGhi1IZlIJAkE6l6\n",
       "2jDWapvgzogCcCu6hdOatyym/d1InTZPMNK/Lfq+AH3DgSEGA+y/0pv9EZvYm84Z7N2XfXpW4PQJ\n",
       "aaoNxI8gvuNFZNpAsrWTm+MXr+hvt4nRexDepB9/NZyXFl/9uO3/QXl08+e90HC6W32uKXCelNFu\n",
       "Bhs8HV/wOCR5UMZw3ZbJMPn2T8FHMHA9qlaMYv7m/p+55XrouOPVLHYb8Te6rmX+cw1thvVp9T+c\n",
       "IlxlIgIZJTQsom2tZTIDu7BbLIkR2D/Sb+Pd7NsO1Pj7TKr61o/aNYmFMpO5N+xUhukQR/MCBcIX\n",
       "BEc/pTCNBrXhW9bGQ4+slqYqBYxwQJc8WTtHNnflhpUtduQRBwaJxYyYe/7gCdcdNZg8XkzGJRk4\n",
       "vufW3TbOvDaiTSQtAKd2EB+OUr1eC8B1HuZA+uR96E6+1Z3LFQFfiK/K14//JUI1i/TNUqbEQ2/o\n",
       "0CTraDDNkVqkcjK/II/TyQOn6pTvDiAda6w5oXnTUE4AO9eVnI3KL1CUKivmUP7iKEfNwfWsxRiA\n",
       "ArRHUiwrDhWFU2RBeiR8G6v7dLEiCuXPFb2DJqRnUMxUe91+MjQ/W0mYiBbGyiaelK1NKtFnUyV4\n",
       "Pzg12QerykGdYAIUaJzLaXLr8W21C90ySSN76b0XBeeszupwRA+n5UJm+0t8blYz9cWDAEV+FM2t\n",
       "nlBuSnDLMotD+EMt6Yij3nVbbUA/bL/0LEFSK1brdMZLGdoqpZZ4j+eSDyxwaXd2u/RW98tx1UuS\n",
       "9FZPZE10w5ERCQ/kI4l0PTPicByxjxd3AQLCAAAFSUGeQniCHwBMOZC5LkAALqvOSpXKRxlc80Sw\n",
       "o9gCYz7DdSX9+3oMjh0js38pXX4tGAow1EYAtkOsmLt4G1x/q+Tjt+TVVdKDyPr6beOwjsjFBlO/\n",
       "Oafl5RDSTjvi7HVr0V/4ANJBTqtBaOju2NjO91Eqsraidt28y5ox8XNitbWHDHVZxqZpWxw67HzJ\n",
       "9gZy+ON2iy9lQukcFIxKxZ4tFRLjVWLuRZUL9nntEJ3GWf7YH5Hix/o9s7qtuAyAdQX6PCpIM5Yy\n",
       "4AkRkNOoobwOE4NZ7YK8+byBj6c0GtIt+kShCg6p8Klkx/Kj74O/88wvF01TrJKwKHOlLRDkAOxI\n",
       "TL9RirIW7GD3Lp3cyCC+yN06bWpiRyUHZhKGeLciHfFODENPkHlZ3k9GH9ZyByqlXOs7rJx8vKGZ\n",
       "Fb2fPqZ4CW3Yrk26QWA2JfHHO/oE2Wfr1Ip7IBma3zBSsOedyr119yfPzli1ueJjqke9eUWjNfRM\n",
       "dMUMZiJootsQ8+oXF3tA/kJWVU4KvFnk7wDFUJjFOgCLgVRdBGcs0YiYcwlFdRmjDXZ3P3HgYQoU\n",
       "+Uq5d0qgGy0s/SAkKASgc1xUiv7ZPaiBF2VAzJAv+ON8qqZ/cK7L+797UFXiRUliUW4Nek1SfjLo\n",
       "Bn+GlO++xuU948EPOSL4dOqwpavCE5WzGIEybPdfXetzUiSgZO5pz3pSWdltxZUxFf7DCEMyfVV9\n",
       "vx7DOj6apuPUoj5oJJjGS68kyzkQWV5hif45S0DYsioN7DhtH19TyMAYH+CdkLj83/YjeivOgWgg\n",
       "yCIH9YHNN29gjohXWBSW/HGWVlCpDyFUqs0CtFkGe8Zql0o8aaVxAoXhKtiFC6/8SmwhEGntV7C0\n",
       "oXvuGtlOTL/7ZIysWGbCNeQ92RIXfi2XUIQb8m52mY/NIAcCpc0mskB2VBTMx6YqF3h21PHp5SLo\n",
       "pfvUAbdEHanB9Qrc6RHuvbmfrJz69OYXbQ7XJ8m/Xpk5rf2HRBEW/29q5/5xRNeECiTTAdZUXpdM\n",
       "FtJl/+NENbxs+SC6M27e0CswQBtEnkOz4YCEIWNiBzNBXPgIzQqrB+O44cF40vCQvY7S5bgorRO/\n",
       "Et78dCbX7mTOYhJRneZQkN9gdcJ9Lfd3hTwpJfSTcNW2sOQ7yWbj2EJ0iVckLqe6U4bA7KDKUR7+\n",
       "2Tjuo9mBHVKfhQTWEu3d5F0cj0BqZJrR/JyD4L+JRzf1tQ5USyHA/zhcpqQja+MfqfDpw7A6ny/r\n",
       "RH70o2qbA+sDfN7BzonFjOC+2pvyGPTTxG1sSwxAdIDHZTWfjQcAnq83mLdlII/OPcSnucrgamGN\n",
       "3LTvioC0xT2R5L+Fxfl8a/lfm3OvyhiTGvtI8v+HaHGOfz6oQ90b1j4zHpJIjAVvx0vIHIpK/dpP\n",
       "gygaXJ98OZii91FvAVJE+hmOAnRnOBO74/yGxr6bsBMPQMedWQwbjiEtxrrCgGuhmXjHNJgdKCT4\n",
       "fGVXOej9Rcd4oQ5/lIIzenTHUxneVjMyq6jjg+YYvHg/YPuuPOeDpLhl47T4iY4DXfiXDaFNLPEU\n",
       "I1U0MQt4dhpsDTLU7Q1xbibsGUcc3mGVphuGocBRXGZrW99Y0kSLd+wrktwKdN0uSzOLd3chiMeV\n",
       "mVo0S9LrArBtcZw6kTdCJAX6CuLCGc01mHxw7XyqKrjF8pqZkLWucEd6LaQcd3a5eBr+qvOp5IR/\n",
       "cE/+ZJ1+0+XT5Lve4aGNvFcammRvHn78ht3F06MkfckkzvKmYIwPBfGdL1xLT60ywSpef+hEIjEV\n",
       "sUQz1+bLIAVMtD8HHq4v4QAAAt8BnmF0Q/8An16vbboANquyvO+9ntpBsgbwOMV87OYKZiU1YG9W\n",
       "/YuAPyZoXjOeRnVUXw0RDLBo4LxL+Ovl4hpJ6cC48rYltD7Xcd4poGTld4tPZfj0f7jv93++dabN\n",
       "cLn9zODM5P/YBwj3pFeXVLz8rhDfKR0L1ZyhoINZiSDuzzVw8UhGxaLNs774KD6apeLBRSdXaTA6\n",
       "h2FF5RsXcvQuz5y/kp8Ev9GKvLr8osaEVJcx4RKlpsXeAYJ2+Q6NTWKaxnlH+2uFmIZ16fnp7Vxu\n",
       "R1aYO0qLvL/KbeyT3bgsEhBt3cfdIgRLAWDF36lp6xTQYvVUABkX1PZwxHCi5hA4nfsV59HGsGtg\n",
       "NmbV612K3lapgbRHDYOd73ICA0AxlKTD8Lm9i5Syqzv53WUmzfds5yTpcAnT4nHjBbxl6r6C2YVe\n",
       "tFrm8QTMBie3PrFORD+NNwwnGMeVVI81dqqpdgGhQK33KBvYIflA3K00lGoxhObBjIEY08lqPmaX\n",
       "kqTnarUfgzJrlKZRrs+Nm9+F9VqN9GCXvkC4rkgkR4GkHszIjrobTWTRmX8IaITHN21equQHZ9v5\n",
       "MhA4lHGLx7g9VaNUmZ3GFHzqk7cKXJqUhBo/jz4CmIiIDRhDYoyTEG76vDU6aHrWuCRY4nwOpkqv\n",
       "HykLBRf6IcZ+qtmJDhzMKvnAFSielD6VgspiYntbjTQ3PJ+oGfVudXK/VL1PIftAbYjvUE56ELZb\n",
       "y0dnCFQNFGor13qf3BIg7AVSq5ubBzTEPZNQNRtG1pylERbe/Jt2A71Qy5krSWvuhLOACZ3C5zRi\n",
       "MiAl/xmDSWacn3bchBdUPWdn9SjtCweX/6uP4PI8LqQu98lReoUqCH7HKrZZHEz2q29fvIdQrWoT\n",
       "i31PVdpiprvssUF6Evr1uX0HW9mYF12wPHahrwd730d+9l7wSPWKciaT5jlS0YHEThUdfUntZyFV\n",
       "KLq4NdadpjTxJZvExBQAAAPkAZ5jakP/AJ9xxBDuNAA2q7K88CJsZK/+9JI6vb5KxCEyxKZWi4wA\n",
       "Z84OVK+x02TdeNmTWbecaDM/oxd3EvxRLUlYTpv5d/X+vBaSpfe4QWHAXXZrEtLZHrnMiuxdYehl\n",
       "YqehxpRy53MGQzPgoowD/9ui2tteWq30Cg3uAezD6RYzRZwvaEk6ot4CVY3/B/uJa6Pwo+IS0WgT\n",
       "E8Mwv1yuMCvy8exa5hVzRFo8DCOmZTLk3dBcKgvKCXHX85m9Oj7lQYDJbMF3coaozS5fymPkUR/8\n",
       "Qwh41tyFbeiolCXSBPfMQeDB0eDW+MzBM5PdWk0WsOIbzec9YSKXDIjdLm1Daru48IOjsEvFjG1L\n",
       "W3lp+T2t3yfRxLdhRLPUeYQoP1omP+8r/VUL8HGH4jqU2sdmiFMwPk+pE0+YiPwvS9565hpwauxB\n",
       "obeVPh0KbiDGcWN/dHt/0bC2VBEkIIxVgsg9R3o6d3yhFCYcY5jmUAimlYe7Ost7uy65VZY1Ps7m\n",
       "hJoRfNMKwmjS5lvt1JMZW0YxC3jciiFaCKJw/a9ZeJjRRc1ff5TstBLWkQv6eTWmBEIYRtpwZAmH\n",
       "iu3a5O0SVjlu5P3Ge1HOLj+Gh5smjxBX0k7hcUZO74sZXNbPEGfx/N1OJS8OWk8srSwqIHIX6i4S\n",
       "+NIU4bB9+MhlwEITKoNQGqaXSl8hKgsbfVGKhQ8UL7rMv7zDOepBLqEGdfe+AU6ByTGH6/ZMICjO\n",
       "agXq9RvV8ae4nWP+jXwb/uMTZDODqdVZRaBLOOFx6wPnMVklsSVT1KmxRG/0xDoHA9ttMYDKGo6Y\n",
       "vryorzqp3vqdfUbFQTS+bzuAQTKuTpZ8JGAQ6soEecCvOQBrAzYfnt4U+eLSJsPMBe0yW/dn9sZe\n",
       "qcxVEVoGg5QCIBOy6Vjv0EHi/Vg4HcRwPAabA/T2UdxiJ0QNY4ohPqHFl9KKeQ6vn78s1vg1Raxz\n",
       "3g5wypJcc4Dnlow/5Z2QTYTwKuiUgb9F2p1b2a8vBnLv3SGk5rofz4rVb9ICSRgAVGNHCgeptLqQ\n",
       "cSZ63QBIh57oT6nExG4C697hLmg5OMyU04CdJyxCvW5MF5DpeaHgyosCSWDr0zUaOKpKSXKZw3sH\n",
       "w167zaAaO3QPj4pq9Q1j2lfi1tF1cFu9AO9UVnCzKKPL4phdliPfoy8V4hvbpdEow46Ktoqg6/Bm\n",
       "mntIczY/ysmeZvhl+62KnzKcY2DLcOJ2QyibUSaSE+EsF5tUhlY7aP3TFH42O9OE5QfyBn5uEKIY\n",
       "4EIF5bHDA7KPwNQGNX3kVCVWWqsEbV/SEqifuFBBRcH4JbKE+HzLC6ghwDahAAAG5kGaaEmoQWiZ\n",
       "TAgp//7WjLBARWci+AAsSmROLP5/ox7rn1rI9CEZbZ05tzYSdCAa62EpVPYBQY56dvrpyQaPS//E\n",
       "wb9lVH6CNgNjr3FL5iX+hryyBjrMQbKEOpTecCKf19VpflQ1Q4x3POvHDllRto5BGwS7dDxDheLN\n",
       "CE2mCSZKNYcnL698r2uIErSGcx/18cjV0P3bJihDYck0nSgdRb3/A5HO51wQhr104MyXu5CoVc++\n",
       "td6mvSYyhZSB52t+dDr8ogTOTiem8osbbKzghz+VZBvIXyO7cdkrF8epeyAztSyVHhcbS8Tn8XKD\n",
       "QjZiIayKrBFDJf2kPQ/Jq4n4/TvJZMvWI2OUXHSnm7EFA1w+699va8v9qt/5sORoRd39qieX6x6c\n",
       "fw6973rxgA/pIee4iqEXy4JXMbiL+oEtGlEw4yTN+BOhFxRv/2Qf4v8+4eEELokQGN8jb/N/0NM5\n",
       "MbQHRIBeKGI7F7F4PfwDZ1qaLGKAhu1650fcqHdJd/mmVpFcruxTOuXvzIZtE3aNKHFJ+la7oZtW\n",
       "daDMpheZBKuvTpCy4Hw9o2W6tVypC/AgBBdocuhw3BACOOqA0WIMSuHMCzhrB6EIhkgQBPSP+t2J\n",
       "V7vwPaXgq5/7rwODHRailXDghenYuc/L6wV2eLMcNYmTVpKoWxIKd7S8+wie5TK/eqpdMIrOp4rx\n",
       "Or5mFG7JqsKI4r50PeadhIEAPhCdirlOev39ku3xCqpi4RdxPaUPGcqNs6/hLd2HCIJyrAEd0KzH\n",
       "8xyUL+TkOuHJaM3Qv0u6CMLos7pU9Oj38Rnk85JD74IMAuh81QjxOShEoGXl2O5H7mp74H3u1dmJ\n",
       "QksDXQCerEdjiAz3vrW6NIIecPDqt81pA2Qqpj47snQyTxyI3xfKDSh3dDOIms5U03tFQgPY84Bf\n",
       "eF0Zu4QWIb+aZldS3nUVosdaNDTZjib1RL/Gt/gJHGrjgBi18HYLMHxOVIAKNoCfqa10W6jNP7x6\n",
       "26LgJf597QoCZxmS/rYtI3Ng31ZreLEotpXHrAPw1FSf9JZmzpi4pon3ut4y5E4mZrF9MtodIShP\n",
       "CL5bnCyW4jJMcPXPLOC+qWIq948U07OgU+7y8r9bUw6gmr1d+zolADor/wkJteFDKEFUpcyfkqEs\n",
       "kx4Fifi/YxHspCpJ64yh4vs1bR2FYqoc8Elam15uuSyr0562NBR4hw5aiqEYjwANlG14cOFYLhf2\n",
       "nLFM20A12Xoio5zmyLOBSAhyN5WHjjtL7B0YcdPZ3d+WzyJooWo+FhQp02NAnmkRf/4LjvpQEFVd\n",
       "l/BJICzXnwUcPKyu8wILYs+fwHvr3zlzEttptpO4C5iOPF8FgTbj+OGgNsBipOrc6KdS53lA4FeT\n",
       "qOLLvMivnCKmBF8n3NdHbqyXRo98QY4NzmP3RH8aWXMMqYWIDolhNA5eQxuMmhb+hcji0enNUjkR\n",
       "U5QFNXEU0tnsy71uQET9ZI4iKsioTr74GM+L2zrSGsz30FUhF/ERhXdb7LL6grE0F9VjJVCZ4IS8\n",
       "ANtz6u8INKKLMWs0hhaswiBT9fEQ++VCBa7/0jbQ7QwESWoCzoI1Tddeja+74PPgF1FyjkpO3OFt\n",
       "D3h/VtfsjXm+dv0gG/LY0AGD7lbfqTPQ5DfzGZlQyAF7iAMQ3tXzUi6PZSbIdstCkVWvv1XxFWEr\n",
       "bExBjoXdJhNMVJ4OMIBRtxXSkzn57KJbZATv778yJNJVG4k4fBzsBkR6JpeGyhpEv6HeIi6RFPJB\n",
       "Ksd3Mw9abQncfpPwzhpe2SjLI1uc4+lLRHcqc3bVyf3rnK+s4ltWYF15ViM4X+lKeXZC08GIMvdx\n",
       "GfoMFL+aIxRVoqqMKJmeVpqGLWff7kao4C3DyaQ78czajk3X9HiUKzqQvEyudAwHh1GBcWqmSZC3\n",
       "07Eij5m+ACXS4gZZyhwH2ql2jyuP/dKgcpTax8Z752tdPko3L8252Rf/D+0CMhX9LqHOCh+6WK9q\n",
       "QS8Fu+2LjtomAoQtXfImj5TdOM5NxjCClf3aG8biIHW1Ne5eJlyQFYmGGEStEsbR0KVlPUA2EI8A\n",
       "c7tQyxm+JArVIYnW9YrulExpI//i2rFQF/Gls49lWReUCjaBMmdXbolHoRtpviqfM3ARoJAoRt08\n",
       "RDduWtK++D/ANmy5pzTqf0vb5tulDTPugiIrOucxlgu/s74cZOY0ySBLPSDvrSjLLfJtRz1kxWPn\n",
       "wnYctlfsrnjGRa5d3gKq5/GsHuwu+oG1iwImZEq+9A191VhtqoB/qo6EZxHpwzU/IDD7n4/Q7VSL\n",
       "5Op1ZK5JLyuhyldYX2/c6xUJajYt1NhRJgF+dwhWhEiC1sCndU5mnn//7mSVAN/JAAAD5UGehkUR\n",
       "LBD/AExL1jPM+e3SkycaFMAA2Uq41gqFkOd8F8DKkMEbd7/3QrUL5a1Xvgow7u3bWGp3XXOQApPE\n",
       "KvcC0/fEIyE5WxZ5+uuInMmjOFepcPsUIdaVSucXRKke0Qff/U9NXIGQJxPUR35M0fPrCa5GrbNI\n",
       "jvetiQBFel/LdQC27FkCylajFxzPzTXgaDK6ESKdwe1g0sXN1gEC7zz6+W6Fy+gtosGBMbceNO2V\n",
       "j4rfknU9szAJ+IMPqP1Afdl32XMEAJrgziEwgWoNM4UkgvTUtxbBaESwhGFYLN03FgO1sY4tATJ7\n",
       "aRGAwmyt6y4QLK63cuOVAFj45oeTFtc4gRK+xTXq/9WJMemAlZ154zhWNKOswDgMTRN8c7cuKa7i\n",
       "nljRc0XMYWBXpKOqld9p4gYbY6jVCOuNpbJPlp5sdlpWfVUY3vnRj2AJhLN7FyMbLojvEGOtuaOz\n",
       "ZG4cwDWmqBCvlu0bHa64BOJduw9r2lD1oQ+itlXmkGYUHNFsqMI0FEuACMSmYrX4bEsCedO3P5sF\n",
       "6bvhFFGUZ+n5jd/2cgUFVtp7baAvwT/pUFG+gA40lvrG+pIfBkMDQwTIZaBEUQt0+h83M7o01VaS\n",
       "QygSW2Cim1IcsmyJ97KUv11Brbv9XGcS3i+jIYpDx8zldH85Lfl1LZvRHJDV9yFuIXEIr73oJGu0\n",
       "5qJfCxdB8bqw0R6qGyOXU8QFQO++nGqYTq53ncThkvSGpQrVlqxqJybTVPnXJLP2hgBGgp1dFuft\n",
       "1Vcyg0nZTmgRE+qPAS0nuYiWzmVjMfySDO5VtMtabT81wKVGmlCfLhyLhy9XezFr1cqpbZ6eal3t\n",
       "7sKyDL8dtEpGZ2BlVYmUvz/iYDiyTUKOQdCDwc4OlpEL1nLJGkTVJwwE6ZUGbJkFXovfkkKJ0j+L\n",
       "O0njHOHJIbQSpX/K5OiU2QICyxgPgBmpcGbPBTkAls/+jI+HD0sBWnnX/LJnhFsdCe2cy52Bag2l\n",
       "UJ6fxUtk3LhnXMk4UTRuMTjr12XrKQPoL6aYh8TbSvXt0UIOYVsGUmRTa64ADeRazdPaHMTM4eEi\n",
       "X6YKxOlShgSRNd+vIBShuFVaSI3IP3NxrXjTLgbUQ7oR1sQwUNpXf8YGFP9HQZXXuSoOzNd+HDfe\n",
       "Tmz3v7EUhoXUOIsjtoWijfSKgQtlgqKUobVZ4f42drH7YtDA8srq+cvWRE74XkmrOxn1fucDWsLD\n",
       "Xf+NJz66O7MS8iBRt2Ndqzzaxg4Ypu+mFe5W7pFTyLVg+pBYUGS6ec7XCfES9O1GXLkQLW4Fnuyu\n",
       "HjQ6lFOj9l/bu/tDmnepGJ8clsmnDukAAANdAZ6ldEP/AJb0Q+6SmK3QAQ3zmKtHPdJpNUAhQAXz\n",
       "LO/hO3OvkxrvQmoB7ePANuDMDg5bD5ROIcl5zmuCYGlBoLQnxaX/z5JhUqwMTza21L4IZV8xp1Zh\n",
       "bHIZdJG8m24uV01DlVsA/gY7ruDVRmRa2zQm5EHFbcRXaeoKbAsw7NqwzN7hpATx5b3BB7Zb3oRa\n",
       "oM9z7jWpLVDsscieBejAdPYunCVXj1IktlHhIE+THnghWJ0YDKsmICnihbUTwU4pVY6j63SYDl9o\n",
       "J2a6s54dyF8753FCQ1vAPCaQCb92oGoTMRGYTqp7jXHJQ0mMhfMOzF7h3SBz/zF1WxFuLGsSygYm\n",
       "oW5jsYS5BNg4Iiyf2QQQjoEZWqV6lWEN9KmXfiHvoi+n3pzsrax6919mfbzQnytsnr3NWXxK5YMY\n",
       "xzg0NtFSRfpWmB/DCmYcKKOrMJ53s2VOadFSZ/2QdW7mnm5P7gXjnW/AQ7wpBhpo55ftNllR4Kp2\n",
       "U1h7KVgEGHOrNrOcs880tNZo/2h9M1TGeWLNdLdYSpH2Mo3mPSlL3cWuq9BaJSdiQH53UtlhzOIx\n",
       "Zc7+HTiKfiyqHK2aJjEu/H6MiclH17FP18Vzg8hG0HGq9uKs6GKR5xsl51SgjubtJm/jrmohvPE+\n",
       "L4aZtLE4libNseC8mtEEk8gUpDTXVyi7mPmtotTQ5OL03YhnNm++vcJFjvQVv5ET6a9bxb1agh7F\n",
       "oCGueE6VV5bzeSz7o44jXwgU7kFy0yDJXrhbZhZ8g2TbzUBraoLEsq4sdNsJAkHwPch/iPWHn4GC\n",
       "36WHBAA8H0t5KvfMJVzssYjQracIHLm3DvlnIzE7kcYthuH4uYwzPqdEcocQ74CAuZvAhs4AF3DV\n",
       "OclarzF4pUjEN80ZuDEHSaY2IEbjwU87zgfa4O9V9l0yUqQZcgRf08CsROBFOs0CFn4uDzNlxbcC\n",
       "ztcyTOr9jmFB1L1CFlCsdevz4sKe5LUZP3ZfiJuWuia8dYdHcA56K46mRTXN+xmGgr1ALT27TcXT\n",
       "ncTmsRTvErsWnxecHDDk+9EZcAUE9DzgYE5HlyD+ogdjTfMU87J/3xBlY2mdiXyhivuEDNC4ipHf\n",
       "WW80s2vYNz8+gE07TXjJbA0DF8GPj12p0FmLwPaqSbv3AAADcwGep2pD/wCfTOXeBYVyOP9NbFUA\n",
       "AddPKu6cHsxU2ciAuPf7UB6pC+DKLdPj2r2l1iPklLT6QSLWxGQDYGxr3VGPrt11RkLgwGr7BPO8\n",
       "StPnzwJFaxtgBS7BvSZi1hB8VSkXk5e/d2syKMF+17Dwxcj0PPDvnp18JreqU1Zyt90e78dRqXNI\n",
       "MqAVg+0hbOdMJLCafKMF7+SGc8CyMepDin8AMhySNREv8jiNvvBLfmawwAo+jeBL+wrRx+H+jHyz\n",
       "PdbKZvto9scpFLmxeeQTUXVr4zSu56Xadj2BEaB7beRJiVhSHJOTTzrUO+uJ6X1vyK9ZSK5cLJ+Q\n",
       "ai2jv1z1p0AAGa4ymNfaYUlA7z2Q4dk6ZpUfddIAqh2hoJ34C91FrQq+lMniMMxPJEt0Yynm+3Eo\n",
       "Oy21y1EeJPlDKfWf3F7otxDJBlghpxvIX0wUpDC8LpRfx3HDN+gF8Cmx9WU5MnxaZuWrAkLkcQMR\n",
       "tivWMzgKSk6xS9qEizCpGM9oIub/UO4Le1uhJgZh+pxGhs2XkN5/PQ0SkfqNsX7XU8Aw3w3QH+yN\n",
       "sNg3jT96qjdlI/quayjj5n5BPSricKFXynKCGciUhnzKQE3by8iFTRNQPCMLONq4oT5eeM9jjp1q\n",
       "BYVk+b+nVPYb67AlGhZ3Cf8L16bj1NwnozEJurHKNZ46yDbZ5jEwT4uj5bK9+CEo6vdvCtqvgpar\n",
       "20W2fAnJCMubLIlrnUz7eX085ImwdttUyYtnAF72ysjSdtZA5hwOCwNSBzWJpcBDnQAkkIEUIpuk\n",
       "Of661ynrMVS7xNh/2AiMlrU85wEZ2HZvRy0uvcosUBGKbG1kLi65IFKjM4KwU3fNayM5iASQ90AR\n",
       "rjhWyEER4w3R3m/JqusgN8Y6ZNZxdGgo1M26Iuka2nEP4bDnX19sigKyc5pljHqoBlyJKxEX65uE\n",
       "gCOX+jAU/Hn9uONTgw9F4Sbh8VoJtegw6bvgoJeHL8A4v2Zfquv4gSaNtPROpEN9qZAHvPGo2vyy\n",
       "NEOdRY/rIjg7ZOXZoq8UR2PoemJeiewspHN71c4+s8B/kYG0kfOiHGcQKlyc//tNb/CVMUusqN0P\n",
       "G0hWuLiEwAQfnNRXqF/nnmcz3ayZANXNwn44xQ1R6080qxoAcbEtL5DW8VisIRY3sg86KWAJ6LE4\n",
       "KU9c6j7nh2kAAAcaQZqsSahBbJlMCCn//taMsEB1q9LPv8ABYlMicWRsP9XTb8Nbd9EwOBoLOTLe\n",
       "EevpVd/g7yKmS496VJ5G4/zb14rM5p4dbsbTcy+DsYNP21zE1s5bvYfl+TvDQKL7II4J02zCAdDu\n",
       "7VrQm9TeYe5+kXv+/iIZMER7aLLwkpKIccllRr1TmPOUk1h3B0OmfNZczbz0v/8YgUkJtEC/f6Ta\n",
       "KJEUTl+5hdp7/CuKlDB/wUSFxxrQosGbnnRqlpOu7FXnouTVzMmDXnBBNdQuTspmZbdiY9HT82aT\n",
       "d1psUzsHeHW7moe0EK5iVp0K4P1XBfMoaXLFofMLrSUUUr2i0ypcJ/RQKrhR5VvZ9ARCaKplctg0\n",
       "QX66i7hI+AotnwDZmg//5t339LHeRkQB6SAdwOtm59ylDyTHjrnpsMYliKM96Hv1fKtvnQB/3cBx\n",
       "gcgGMHpP89rOk44waO81g2H8wEWvHp6bR9nlYzgZEaw6FO2+q/w00n1RDgrZyVtqJSpoLE7jV/qD\n",
       "7vAb31rV6Q6+wNjHKr9UCI4kpLCO3ZDfblAVyEbHJQxPebo5ECsIFAXneJCLMQs9JqGjLoTwhYuZ\n",
       "KKjPqDwXDNGCQqHsvopZEogyuhePUwE09Aj/LW4cXe/IpiBBjOYASbvYJ2DTOyhJayfnrO0mKgKa\n",
       "WDFWX8gRLvUnOH3qhSVVuuapD7eeojo0dHOQY5jxeN//85jUoJdJ7Hhyju+0ywgJnbcJ9ivtscfo\n",
       "8StCjWBXuWbZ3RlqrpjduAtemBvcLtGc2iOo/3Ek9JdQQHvoKsFDotIwsdIVROuJJeM2cKHuu5xD\n",
       "CNP1SE7bKSqGBgXv3N5d1+XArnbbzOvklahr/J+3U6b7xFNF9Sl8sfr9GeCS5V/UvHfwdsuC5lDJ\n",
       "eFnCZ6TzMN+j1KMlhBS+H7MidC9M9MbOl8C1dxyC7cwTW1jMBUWm4l6jcoCb+ACJ6xAfrTTtUebJ\n",
       "uRswkxSscUSC6aDs+SXiMkmejkE0e0RShBSPKK89uPi9jf4PsXjzXxmJThVgNe9wLy683r5pNpop\n",
       "3P4+lkn1NOzBNPOnjbRp2uYUKzNK18O6tlIYfJItfogsEYW5gcS7UD2MNhpfrxfaMJwZWNVkyLkz\n",
       "a5dD/ymk6Qio83w4yc/8igmilu6MS9OeVdK2rb1oHZwQlqzGxiA/LVcdDxsT6KEk3xbek6l63XqE\n",
       "NKoC8Vt8irrCABfVX7EGrRSCRNELcyy5AxkUmod4KPkWg15rhUoCJMCK2sW2t5xp0aXRJrZ/KlCs\n",
       "2ybT/CelvFpgZEfkJBQ1MYiF6oy8h+0sLaDWihkPwTPQ7rkUIx2M3w3yllFCsU71nSQj9POBCDzT\n",
       "FqUdy02hpZU0MusRwVdsHog0wEbwxJsOwKUpd3faFoom4nDf/SIT1wHyYuyxOvU6EJ+CcjrGWud0\n",
       "f70H+lXG9foo4932SQVYqykSXVHaEqHTiJ7+TAHw0eTYUa7fBo5LQERC64CaBZ+ptLNfSAW0eD1f\n",
       "U8bk0eDcq5vlpM0UHidmMLn0baarS7ZAOek6ziaKntEbOsjblDq95QqSR+fPComVUsWmYrUM6OiU\n",
       "a/is2aDrb0DDnGq9G7oxg/BSd0SFyjIVJ0TFk67A1eZkwTOAzDhKDLRBwBl0r3ZuenNNSh+aIdaN\n",
       "X5S9Ojf+zkjM7iToorfnUjzZY4dW+WzXJUwh8YcU9rzjODjpdM14Aw/jzshEVh9EIPXKxrqLFT3d\n",
       "pRorjKaf1G2qMMRk5KLpVS6zy7hbTq8cE3wk3uNLO74nsyeJh5OLRSwyb3y6vWv9RzhmNcjHdkaQ\n",
       "2Sq8nYWlz7q06ZUFIcgTNaicmsnH2ILVE8SIrx/P+/3lTQYh/Mlxj092ZdfVRfrZ9vETHkgmN5p3\n",
       "JfufGnl0oZ/e9umewxW/4ddl+9xJuOCUMziTbWW7EDWWkMFuGmSq8cKEMMgkePC2jUOTnAU/VHdz\n",
       "KRV7pQb5NLT9gRj/WCxv1l8a4L4cWrL8iSVKB5uuaiGg/+YORoUvWXtjU6OwT/OpL3s6A/R1s1bG\n",
       "QlNbXODEr3GGiEdcfyX7vwkJhytNJ0D412kqRkFGHOMGutekk+yyLNDDLaGCFjmNj/ypQccgUL9n\n",
       "NqipJK/U591JhvuSbkRM5LU/HnloEXFrHH9GQhHFRiVcc71coV+Vp74bUYbT4v4DZAiwXFZSxy2l\n",
       "EsQs74v7WfHangqh2sduNxDB60MypnHrhzmj+zaH1jlco4Vt+o29LGQzuSRAtKuwBC85eOq6JvT+\n",
       "7z1AcamF1xMITXmOABYcq4JsLtO7oZt0p6S2B0dh8ZpTZwnkcJCH9CV69Oa4NDoWIl+hao8abeVB\n",
       "3AkW63qALCWqz75Z6JsjltD+Ho0PfTiIGYV1kjDWRNYT2iitpWmyrZw0Ou4atbR951h8LE3NtayM\n",
       "rbY6XlswAAADYEGeykUVLBD/AEw5kLkm7In3bBIMIdf+O3d+QACDGbNvqlLXBUKsj/s7nmzJ3MHQ\n",
       "WI0e3dEb8gAkhp2N7/kARY8WUprkiCg559r4JPJwsH7fSOI8pzSlyNIiFtOoc5T5Zkz4OmLZxyLN\n",
       "Is9DmuE42YnI5/KV77VicC2i6Id7cn0S8rYFhgoBFLzcN+7KiPA5scV1zYpXQtMh9z7l+e6jbaaF\n",
       "ZKpwsgwK9aOX+9bJ0jwOQBishuntbfFJYC9hrLsUWM7+gQ3WISc1v7mlEBcd377A7kNqUyxgqxJ7\n",
       "kxNfWCQQfjnUw3FeOOw9hvOnRDAfuaglsnNCVYNAW3MABCf12CuBib2uRqRo94ps/H22Fjm/zAqn\n",
       "cZwBxosNkzN5sypmUFAuCIcXfmeRw9LHYnZys+2CWiilW3MVpNAOSky/aak7/kDGFK9DoQRIaMP5\n",
       "nXzWP/+Z7zfVmzbWPbKQH5R1KbO0+0B9HGBd+eEgb3NET7tExkKV6nuoOUZ5JLpKlJD4tVHYWh/C\n",
       "3UlIN3vfI6Ar+PWBfViYzU0sBguMPGdmT7vQWYzWuQ/TqY3PIpruBOJn3fmEyItPn39shBzMLPsN\n",
       "oLopmbCpPEtVJPYJAbrLzT7iY5cK6ItEeNNnXbhsaTTIRxuGWEosVz4a235dGCARradFuBC5KolO\n",
       "qiz4Z+8iMliMcyAbUZDipsTXN9hLQB6XA+t5aGD3G52yLVg1ZMm4j8KWuybEbUaF1LZcq1OX1fgv\n",
       "uW+qCUeNdme9/oYwkd+t4gCPgIywEM8HqBvS7rc4jrwB09PPai+FWykxUk/4sOLaDQ7SDw418DLV\n",
       "XSoYmGgGeB6+2y8/Kr18R/JRtQyytIi/5N5pHId+JuWNKDpeeq4iGrbouD7ZMqs69TYw9N3f2e9x\n",
       "d5rndYEgS8EaGDun77H59SOjEhdAso26uDdFEcgu7ibZZn8Og3S0xvOIZf2ZNoXmLOy0h06aFfeR\n",
       "W7+2QRBX7WPs7YFA3zWFP5DZa2G8y5xvCM0KX2MxDAfyqLz/mte0sp/023zOlii17UcTljizwktk\n",
       "Gv5aM6dFgDHijnbPV6ZMISnu1w1HyUfuOfQqU0UzvV7/xe4uONTNbeYphuqKC2A5igASg45pkjQJ\n",
       "5aHY3YeIKxvUuLo8PjiSiV5TQQAAA6cBnul0Q/8An3fH0w5ksBDKsrWnA6kAGyj4NmmfCB43HIFk\n",
       "ntKRpd17NtelpUWRhlxMJaGfM8VkkHYZHY3+ySHV+lvxnrxQnqzLdu1au2Xv8oTL88Gcr3wAO6nm\n",
       "WyrQCru4LUx7C8BFuC6YM9z7R2hXIh9MYZIPRE0yeKkOlFJqzzpoC29kM1tdKyLsLEBJNMrTU4LT\n",
       "TLzOMpgLDtDAMZIn6g0uJNZJHz2ADqKGd7KXvPqD4/D1m1r8Uzbs3UX4RXJ8KHZYHOmxSR1rSFte\n",
       "NI/D1lCZmINrbVfPE9eLbAas6LFh55CTRq+ywJ3GEfNwM7Bd2GgsIV3+SK7p4KRxncUT+s89KJnH\n",
       "A1cH+mBUaaOBIbagOXgmJ6s/LWx0szF6zWKPJ34/eDOPKrXq5Na+6HJbqrG+vA7gfGbpf32ZmVDQ\n",
       "sMUtC7Zo23A7G0qzbDF36qd7Cz/ZsvCvfupGM1kg5gS6OjJpgIoIkOe76t5RV6u8oknBHEbTQCW+\n",
       "ZDLFF3OCjcoC+V5otWoked7ENJRvchm2nqacpA1t7IaHt8iZg/9FiKzxsHq8OZPSdneEuUp/Afc0\n",
       "LWJ3hBTYZemFfHW1wM0yQ0OdO2+yhyE+XHTI9Iqo9hFOonPYHADEYpRklj4MWcnV8jTNEbbZwxGB\n",
       "JHeEpzeCKSG/HBEVDSe+FTfX/PeszvnmrPJOPsHNFyTp7wXV4t4iFcWw9N0aMMbbKtINnhaOTF/a\n",
       "uZ/oVvNjx1eVv4PklwhDDwbwb5qpgDDu4Opsqg9cT5rxbnSX4Jc2ZBrwDpCQAuT020yi5V8CDnBP\n",
       "48TkSc4R5cU3s+e5F9Mf9x6nlxQCl5zICy7OoJE8A/WEsNL2PZGMUyY4f1EiLEmzcYJA4oNGtAQL\n",
       "zFz1DnIxy1HHyM1MA9xpMLq2M76XpNC7b53Ei2Mb1Qm+YR9TWCtWr+w9iUjOt8MOuCx+ODE1lPNU\n",
       "ONTGPEWxMnrM2eXs3qJluk7qJF9DzNb1PQ79JTgf5oC1Gkxk/O3JH9cmtQPH6r0JwQI5LZMPGi9F\n",
       "p/Yg9ggGwF0E3DGNiP8sSKIl65M4Pj05nh2rGBNqXBcMpKriesgNJcm0DKYrRcW11dSoqXqQ+erZ\n",
       "S7j7qG7LTE+56hk6Dn2eDlgmmaZP4j/5oVBvhU2R/mWdDPVmSGdxm0rfHPb3lsBnnKT9pbBmY8c7\n",
       "aL1yRmC3VlySeEEOkOCdwvHYyJXWhd4okpLFujFlH4KRJU4PeaIcC2GkCeV5gAAAA0IBnutqQ/8A\n",
       "n3HNQGJ2gA2q6jHdc6KE5NJuhzdIY6tGS8rnH/xUUOKNnDOtn/tWLxmHCBTkr0w+Pz/XovAPCbkM\n",
       "oUDMiRmj3aawP+OcGO4DE++0A540mlhZ5/tNj/t8fu3BFjFv/MEJQkg/tRyFeN7Ks/BzvMT195kO\n",
       "36LSuke2vgWPT1YvdqmT5dVRQgF0u7zxFmY1IIyFyiFf8OGD9ysFTAY5sKfLR5WgTI6i2FULBLeb\n",
       "mSmySjEzJT9pq5ZcVlfeN+/bVJfgebs7QEFIw4FaGOq54KVlxgMyDUDU9ZKuiE2YUp80GsgdHUc3\n",
       "hl/TbrPRj00danREv9Co9/32RPov/XZ3cusGKrRwob7MNIeg4+UG9WnHK4QpfKBH18gJ+snwoexp\n",
       "9oLMhRrkW8pG5xzbwLIPtCm5XWUJfc7bckBQfkvsrZa6u3MY/kfVp8OAZTD5mm4H+z7ixNI4VcB6\n",
       "mFt/tlXXm1LdFX3kd+hVD9OJ/TcwuqgHv5+5xgZ9EV8r5lbSwwnOWuTKr6tedGzevnOsjFvTWKFB\n",
       "6oc7vPeNm9QwMPQQ2iv8/+o4rbA1RqWrjA7nkg/NN8lMh0Y6ShoQZxAnoOsKOhVB8WdZvx3jKH7S\n",
       "FFQWXwLVdXvypMEPOCOM7FMKhGP1SDDp6ZDSIy1F4LHYQYXvh2DE/YwBhLIqUSHIzlL6iVLsTzL/\n",
       "cr+d96b4popmTEp6lek7cPvZDVI452eTOekCEAunOI4farIfdng3uvbFm0wQIyjOSSHCgkO00ACf\n",
       "16LGkoiF6Se6vY8zfh8DWAip9Vnigk0uFNkiTkP7BkONhgDI9ljDNWPdmWdsdTxTTV52HgMbkVms\n",
       "3S7otjz6GpfZ4lTxbgNiFAVsacau+Jxz7886vfc0antCy/ySHem7T88JJSTkLbOgsSvz9piTc3ra\n",
       "EJ7yxMCtoop1crXJwxW+Jwc6KO7Uc+4NJ2P3IUJ4H82O0FIaenXOEcTWbhvgG9oilnyD2950zU5K\n",
       "8doXuXz0ZKq5YvOFb/98xYZOBpQcHXZuELPHBmhekExMv7wk9lfOyE2H0iledNQFfiKegMwtOuJv\n",
       "JwU/1kkRdmXmRT9IkrcV1APUCwwp4KkELOKyZYAAAAUrQZrwSahBbJlMCCn//taMsEBFZx8q1Wvg\n",
       "XAAcVKB0Elpq3He34uOe6o2NoPzixcUkTErYhYvL6BsDZz+DYoFzl5XAIkcoYxZ6T1oNxrvSbh3+\n",
       "vdA/sX1/3l50HSRvz2AmE6TeUlXPoyFp5IDiS1mayFTprE3NlizKwmbEYiSte2wbjvph+X3BD1ah\n",
       "f6DFdaLBqXfsEXaNf2CzDZ4p13Byw7A1KHNGeTjQGFDm6v1yOJgzHP6a77n2jY3RTSn1qOKrWI+a\n",
       "pu7vCoqy7T6nepJfPNDscO42YkS9mIn7v1roqlmqSsWxSA3YRB/knfEDPxesk0/2KUnItoAvIlwR\n",
       "cNJco0UgfZeqGxwtEBTthw7IhUCzeFmBXItl4O/nqwP3XHSb+w76GPdVLhSjkWejMkDFLO2ZPUwo\n",
       "BAouxUnsdQ5fDxoULvwNu3IZFtm5Hz2qhV/jXbIr1gHOwnRFpOWMSHwt5f1OeVSkeC80SfB3gGmA\n",
       "wv+K9pvjV/1KVc3L271w3Qt3SqOevuv3hxMOpHD5J0zRDUMKMgH0jTQvHzkRmyuXhzVVD7nx1FYr\n",
       "FUnfowPm++K8q24cOfwUMFwRtQce1qomKGHGgxENwIQpk/9AziAV1fX9pRWG7pNnSb6KQVWYFQ/P\n",
       "v7Nidhgo8QY095LMNgx+NkIlPhLltvcUNnfHxtA5HBuLl7yYK4cFkgm28kaena3T8cKyAOTi2ET/\n",
       "/Jrw47jsl21AioxE414BkJPBq1stclGnerk8ewzBZfer7I3wrSRGAVmUmzw5h+FJ0yEivq0Bfhsv\n",
       "3SW1Ej1SBAnzrUs3A1m9FzLv6JqH+699C+BoeIHmMNMF4vkSOeSSglaxrbXrdcZdDRDbZopPeZqT\n",
       "ecd9thjZQpTasq96aSbGM9QSukbEjAknzJLY109Uu9nAOiW7IsFYrj886hrCyTkVFpthtDi7H69m\n",
       "Z92vlOUPi5sMRvhFsSMHj9lIsq0xzCnp3hyl8HfcxGVYCLJTkokOKJQ9F22oZmpCtPospKyPN0wQ\n",
       "SXpxy3eic8aNYevO92QyA+sqkeH3jbpJeYA1zB6e23MmcABM5YmXVGMLR2ya8fHoMZ5zKD1+Oc0T\n",
       "ad6WfWrsVxuaWZwDWkSGH/gASemdvmxQNwmNT94Tb/o/UavW5p6KUGoJ56SPYfV1bzMAM/cS67Vk\n",
       "Hs2pVAW3eo/Kg0KjWsqUSvM5fijMZjkmKQOYXrgjd4A9p7Q5IKVZ5QHft3LwvmCxFZS+M/OPj8DM\n",
       "Ppar4wy1HPnA1Q0uLuZ47Ho5ePT8ZJcGXKz2J3gTPetlxxgW81eHpXQoaNmYZmqX7Z5KYY8/IRCr\n",
       "hJ5ETUKHqLdBFM5tP8qCsh2D2knxa/LyD1AGEOzhoqLX4wexwZGA82g8vO2hL9n3lodp4Jrc77HY\n",
       "fG3EvY/WMDOOm7AMG9s0HOSoGs82uJgD0HSefuJmJMMpfhrH3snTXXD/10V/qtTlTcOTMNOrByRv\n",
       "VxPWYX3/GbhuaR97/6pQKrovI1is0ljVSJ4LT07NJZE2jPP2DtKD3xmS4W8WFSGytXMDgLDouiWG\n",
       "43qcRe1y8/Q/3982JMHDVH9PLWRi1Pxx41zbsPK+WYLNIEY8ylw4z14UYeR3shCjRU59ERFRYzHe\n",
       "PRdrJ/+/SN03KeQYxJiLGI8E3s5Q3HEneukTzLQwL+aetD5C9zFEDnW/IB3Qfvl3b6jrvzhxRAqW\n",
       "bmu34BIUfr7pTi6D32VJYuupmU+SSG5jwrq4Z9QUbMyndkNWM0EnT8w2bm6hAAADPUGfDkUVLBD/\n",
       "AExL1i9TP/OZgSCNDkABdmA/wWYrs8IjYCjOAjP/q+yz80jk3UDhUpTSlU4NaMBuSCTCEyYhDnXt\n",
       "eAjAGYc0j/JYUoVcf2mWnoadiUCkOJ/GXy15b+z3RQu02vfO5nYjrs+cEhVM04HHsxqHEKfkxQE9\n",
       "yH47iN0t7X/DgMoGKwYCDOBGAhWdW/GfLnZn0RpgfjzQDGCNT4DX0Q3ngfcP1ofOGiyEbxkAYzNZ\n",
       "yfUJahlMAwuvr1z0XloF5k7JTgb28Wn3kMpT//pEBXdOSWLMITxkirnUCePn0canV+NyOPohnv48\n",
       "dtTiSXFALd5fHU2vIOtWXW6hAxKb7CdblhWpgACWGtm9zjNULr5Dk6KhXsZwZeGI2sjvg17g47Rn\n",
       "o4fv4nW9Qiz8bGOQT9wM7JWLkq4pUBaFbLsy844XYK2kNVJ3LNhDrwfvi204HGUKZIMN/BYN9135\n",
       "g0bAC5jp+AYZDWG2TOZF5CUSlSkFdjU+XtmJmbx5Jr6cXRd1iSkaW6mJFK3x4yZysIhFySfiFjjG\n",
       "NP+EaTDjooonrKAZdofMf/ci+DIq3R9f6iQX/J6KPPz1T2EaPLE235b3oI/4FHpa1+2qkEEdLHq6\n",
       "37JC6HasE96tKCpnjwGRPVKjKZXgabvSU32/068k8tzfZ88QGYU4pVrxe85F2BLebCLCybGfhdZl\n",
       "ALpb/wjvgM3Sxcfw9Cq/VTvCRuut31HBNF5npqgdrqw1z3GrGdaezIZiFTuZv6pXJtX8XXZzm6QY\n",
       "uBbl/JKcWCR6aa5lpV4iKdOIWqQVvGvzqs4ssbhDbu8SMLqmiETgES+IOMQLcLv+VVH5WLDbG1Zz\n",
       "2RryDZQ+CmkIFs9wq5a/323a1Nt72NY9GVCh9RuJ78elwb4FtVqq7ewSPIf21fSptEo8YvBpB/hP\n",
       "xsNEmlNMwMtxinmWrSVW0TkBULIHTPmg0f3HRj7gnIFGdDz5nkmxYOFRPYw//pEN/D2aU5870HJR\n",
       "MlqvtomxwxMg5eakK9h89T0r8L5CR8rWREGSTYtYeRdR+/G0dRlhefRRqphIm0tw2c6uS2UqBesl\n",
       "h3PezUVmdTeYV08nen3Du+YI3b1+/fkAAAK4AZ8tdEP/AI+blwmd/751uVoANQvz/n8CUdSn4sfJ\n",
       "FqXwHIuPbHETt+msTVNhiFxh2+Gn1jwPPVNZepRM3oQcsJg9XHBd6GHbRedMHo3SEriaFS8tRXrK\n",
       "LzTZ1rrhriLGUW2MC4KRgtXaFnerqszZ13OauzED+sPdHnh0kAy40gXgW+EDaatey3MD4dpeyueE\n",
       "fEp0JiTISGs7mguITojf+BCjhZMVuh03mZiZO8KNrPh3lfqeQMUMWYq9mSahRC+mlKJ/R+aP7fgE\n",
       "aiPjL0slT9nycOUv32ywWNd3e+4Ef5+9+So/AwTRg27/T/r7vs6xAEAoJLegwCQQsB/lvDplT6c6\n",
       "TEtoqvOrEWXAEvJrw6QPvBjZej1xl8gu0HPkvFz+9dgG40gS4JcNTPJRYLKp+zTbLwhPpY87itMC\n",
       "3fxHm3wAx0/LeYjR7MEpmYMHwOf0E1YkwaNrQEdUIuo1x1gTvH4CLVLY6lHPbWFjJljReQKswxO0\n",
       "RRspGQ1EQGN6Kli74KrtmJ4fdSEZ9N2r5TEyTC2sXYgA+n/4s3PZBwJ6oX/8DewhKkQJiwXRBAYt\n",
       "92eNaYXLgqfg8li8B47QNFDTUBNL9TEyNgPRGm0EewGQmei3XAWYHkT9/BBOK71okiChI7lUKVb6\n",
       "nX+tMK//0pres7Y/VJlFPyJFkb9KzLzqATr46B7hUh/AfU2Lzm0PyQgCCjD4sdsOLinEVC8Mn8aS\n",
       "RM3E57og1DdWKXX175cZRHRZdUm2Z3EFeA6SajP9Vn4yoN8mxnkbh5vhD3+hitTLlQN1xq0bQDFY\n",
       "NzwPq1wHKHWInSBjAkIZpBdQVbWUjiObTlXUvHTpLNPlG2lAcrRdROuHaws7A9QXIy0P4XCmiiSQ\n",
       "2lE4voCjXnHcC1wKr4o+hKaJtMRx3kWYUDOzyXMPQ4uQyN7wvI6VAAAC+gGfL2pD/wCfcc086Tx4\n",
       "BNSZyW3cQzWFMADryUzSBVYQIwh/UPE9BHOC2dMfMdzOdAOz8SSY64a2EMD52SvqO3bb/nuzkF9w\n",
       "LwY3GZ/Jgpux2qUDlZCLNxtc/b4l0VM1NhXARP6FAoEpB7HPvSn1M5GmpHIF5rb9s4lf4tmgNgcQ\n",
       "rts8r8tjAY7C6H6zbQQifsTqjLnwKWQNHiWdRyivIkWpZnFGxs24Xhqg06ZtPuAuyn8p3mtH7RzO\n",
       "Nf/CUl3qfrCS4P/CISy8LcuMvKKd25RXCGLJHromn2Hxoz5yKzyyU0iMmnFDq5+KWvw1rjn0AKAO\n",
       "V2SqJwlBSnkWzyb1ZqWuPf1gzombe0s99CH+xMKdhG7ErgHS5riqYLJwD66jfSVhSuUdAAGhREie\n",
       "nq1ttrZZa8vu74wvd+6ivrVYuopOiEZRpX8SHSsIb6aRZebMD8TmYM+wgS0J9lQnF+qJ3RpYvD47\n",
       "K1DAi7PQfqr6yJtmsp+6a7QPC8vIFwcV0cRj/05JK2WUUpXGIPTcsdttnxP4Wa72qwGgQ/llfJ1c\n",
       "bJnnYGlZTJLO4mRSuERiTm7/pYa/RfIQ+Zfx2W/JnhFBDzOlzz2lsbnOJ4cq3XnJpyLSaNIDWSYN\n",
       "Bo2GE4wYPEC4hOqTWEEOQ7xHHSIJelEEGlUol9CHV1sAQlD7yXHMixt2A6CckewAM6DTxi1xOqKI\n",
       "LS42kHVDo80GjYGaw9MCPc4ITqH0Bk4sbLtvgGf4VG1LdUwRZXwQOtsXVDWD1QLKQevrAcHw6kle\n",
       "fYvL445nFPeAUM3QBpLWZ6FD2nfj889FQJg7/EQtDniEpzR5m6OU0kt1ko3dbGXOkLtv/pLKoEDE\n",
       "p7OArwxNORkGHgiCiXlIO5IJNtbjTH9LB35QWLrY4KtU3lIIRpr+k1cAlMncGeasSLyCwQchjGCf\n",
       "3arpSKP65mXpZtPpcD82GbXD8ho3Usw7g1gV4/b1VQmH4pB0bQPEcstf8/VkA+xNE40iRwk+MQho\n",
       "EtHUMxjoQAAABTFBmzRJqEFsmUwIKf/+1oywNsGuC4ACnsXQDYbvhrWHElAaN1OdxCqWgdJnXG64\n",
       "wq1e3qq6F4e1eZWPLBInFngu/5m/WriDt2KCLQfyWVhWIMEjzkxJ1wFtpA0tLNjRx5znVuXqW+7J\n",
       "ewbuaD0qc9dYWH7ATxNMDkpdYkVu7PWkdKwCv+A0N/Umf2GmfMZrWRSsRp3IGAAYzcj/bsAZZUPx\n",
       "JUqAlXBlBZgLec7zJTJ/KtRGwmo6DcXbPKwJZmGgTHgyxwga7mwUKSQcSlzBJtfELT+6feyMJKHE\n",
       "G/L+7/VcC7vJ0im8k3yDeJiGkJyvCZ2TA2brv3GH7Ji4Muqcj/MYktY/LB+nn2FfkLkdiMipL4YV\n",
       "vRgn8842M4C4r31eOmf/t8DBA/DUhodE6/f5r8zdC6cD5aQYq7xWaBtCzGHfv8ifxJ5ieSr8/6oa\n",
       "nxdpj7rDJDn1c3gKKCkOPjaPD6yF4W/WG2Hs1MeV3UDlO7eEc6c2+1J2qK0vMCrSuTtlD5zcKsVI\n",
       "26sjTHEJfkKIPWMQVaJc693wQ18zkHDtsoH3bZQC3iyR9II30QPY6S9GeHKzTs4coEh2WZQdnm2U\n",
       "cy97g//8l2R/zyHDIzHO3YzYnPq9DsEuC1R9tIrZJoHMH9EjfezyoQDRQVPI0ZgztV33Ttv2mO7E\n",
       "4KD3+x0zKffMSFZggHcqVVr0eL3XbQ5c1gULCF8UBs1enNO02NGP3n2bG1A6c+jXjxByx5lcSl3f\n",
       "EprwaY+tex86GvlRfL1RVEepcX1hVCirarmi3nOu2JrIW10uVkXWED/l8Qe5hTm5TX88gdJrhrrL\n",
       "8sRze3UGd1XRkaY1r+AF6AUj6HTw+ENtc615ITzi9nkKwDX/yEpaoRXtzsJCIfyvXfUImfgqMu7A\n",
       "BxzXzmMS37q+9VKpJttqDnejuRxzyBjpDyrqjupB9VS8PFl0tSN6rhAMCBMw9/zKfnsmyzLRNmCT\n",
       "kF7u0FFxIBcXnoCSENz9XxrAMLi3bHBTvcDtXgVS4tlUZ2IOaHpmyxTH4W/6Outz+Q0iDR7AKK09\n",
       "POdxCl5KIpmPuku84ERoOsJ/+igSFUt5wlWW5vWKN1eI0VYxPEZz96awZODlPXi7QBtPng+O4bEq\n",
       "MG8u32FSIk+GVam+GooPW2ZkwRl0ILvg+i5/504pCThu/YWFMNAdYQcjxRG6OSvEpUcghP2BlhcJ\n",
       "283VBbehzzirUsYCUrkxe8L6cRSY7RcL7UGisOJ09jQSkBi2SHz8Xeyi0WcIVTxeoGbkEddGLrqi\n",
       "VzO81jVH2hXuVp75g9kIvkIjhHjczBbxE5eRcwaChnUCcFoXuJCj/QBOkpIuYPZss7S07wVjG5LO\n",
       "sXrz9YLVA6W8paxUH15qUpvner0a26HJz6qFveN553vXVnIFkXSTGw1obdavBDMWGfEQo5+p8yYb\n",
       "P6BZ5r6gBxh6c7qXCH10LfrOUAF3bZgRzvnkw1dnOjfzx9LYwEN+8RnTSLDovqBvXzcSD1s0kNQk\n",
       "0d3vDI1HQwV3OZqoaLMasy9AIzf3BCLa+Gu4MhgcZwZ189djSl7rx9q1DxRLpcAy8JBMapawwk0F\n",
       "lFNAk616O9JCciSjC1cx2d67+gYtqaxGPXmHewG31LlgXeEaVNPotCf8hYQUfyWFL0RoX9NNYJ6+\n",
       "Hc66mKnxLrWyeThW/vV4qVIYKki1nwuSh9ChXWtJpkgiVavkiTpP9htn8+PGMP85WQk4IX62IqEY\n",
       "FRuw8FNx1wWqry6YD+ebXanD/zpTx5TkOFWFcyoAAANsQZ9SRRUsEP8ATFaXf5RuujwqgaTpu4gB\n",
       "VKoPvvcRvjBvUS94/zEZK9Zz6xWF/Ba+9/tEqUQK504n/+QpALwhLLkwe9kF2efFXUWHf+/wi3H7\n",
       "+xYOAp1zjiEH1iT/8le9aDDKoXPj/KLPNcCpjonVKrhEukplR9g0ZJIobmQ+tCqaaxPRR/IQ3gvq\n",
       "r7OzHMyb7Z410PGAzUuThY7VDeCtBag/v0iyrwlxvESKchm74oX7sU3QB+WLKIT/wlO3E2QC22eh\n",
       "muWpD8Y2JSxs1Vn3oRAbPZ4AL9LIjNJDnBq8j+iXXsxJL0ZJN/h944FfG+5RRna5sDrOHF/Qtpn9\n",
       "GacxTLc62+yFRdf1cG9nm2bgvdH63fMpu+PpAcq7OA4c8mWEECxcjyjSgjA5D06MzZtKRCBGWHgB\n",
       "E7DokEOaNFw1rr527dBCbuY1FBKyfyRSWPdQghT0Ywq7Im7xoBBBojyd7HhbM//xBYk4xBnS/EYT\n",
       "BPOSeuXxjc78B9Bv/9wIpDCXW4jyORwcWJLB/AZh6VBTYZYoEe34aMlqUWgpP12afIDdJfpGJzjb\n",
       "1PlAWFsQzCd62uykwfyGSD6xUFy+QxSqlz5JPBIU6wkh94pd0wTEnG8d6exsTXdQSf7J3LXU41PY\n",
       "Ym/RT2QgmuX8HD4mlsqMMZM0Ir+3HDte2nbFoBJkj/2jNKsiWd2ZswmldUqGFNhs4VK3Z7VPVdAe\n",
       "ZtiI2iFNqJJTDv6UgUUg7oGiwEm87iYlRHdLOGiMEmL7t8tPBk5POkvdyq0o7YCiL8HeAKtrLvag\n",
       "7rkBg23tXJw5dNJn0EouE7iBVuWpzZSdatdriOPwBcMhUfBjWFFoSEGOqcp0RFczHjIsjurOaivW\n",
       "xmhTAminB+yPghsPaGG5eJq/vJ+os+K5t5cv4DRwq9TCGVSuqy9K+BR62mUr7IV7sZYG/oqRR+3D\n",
       "Llpoo7TueiK0NRA0jhhlr3uT1Z2YvlwSS/6iXSlIb4Vv+8lnbddVznsrVmK31hWHZviQ2kd9ashp\n",
       "giONVYar7bIshU7aUouzOXi/2vffCGgYE7GP1xZglxSUSMvs+dajbdr9O5osxqz7hc12UaXSu9tk\n",
       "fasgISpoAqmr80yilt436XWWyIx/abu7wmRzj//tcUY9iDJifGMafOH9CZY3xqNMFa/zWh0xAAAC\n",
       "mwGfcXRD/wCfOjB8JBth/bYXiKhrMADryVMenIrOEgHvrCMr/NpnQ6dzly//jGvT4OgZd16Uvc6o\n",
       "YfgJYo+McodZmXlVEZK5xJNJhqewlZF9f7u9oUeklG8bkzcZNmHB3wFWOnnfMhjOLKq+q6A5Vtzv\n",
       "OMsRJslSdeQBLXnQk3HBlM/CEygVSUAdyN5VI0iXC0/ynXOUHs/EPhQwYPEkvZMHX+/ur9M5CJLP\n",
       "ZB1KZxZH+0Z8feaUwbKm1ppGOZcMyZWonkm8mPffKMtyBxOQ9dMm8RoGTFcYAFa21jCwcUaR91mD\n",
       "ZvEGjwKQ+5UMRnjnNAnwh9RT3txkuKhr0t9t0T8hNJG8U4Bf437fdqcnanTOyK9Wqy/dYlmQdXf9\n",
       "+s2aDtPLF+Io+UAJn3Ic/4ZSdB9yElTR9tMB9SZ0O/dJ8K1RSthNpExW+hl5G3c6IGTCmKAkaDCH\n",
       "rOg4cjAZUKNi2YOZdaWj+HL1DAyrgHwVOHrVB6/9repLK3MbGG1bIXCZ5kgAqXx9+f6Hu51ZoC48\n",
       "Rq8M0yt/AmzF7Yeb3Y1SbteZNOAPrzEOyIRJpkuJfkRA1bQmrmessWDsrUQa7t6GfDtkc40po9Vf\n",
       "WcvW6MYo+gi2hP8+f3z4ym3jkkjY6G9GlV4R80yl30PkCjadMyUMYEO+GpQvcFM33mbMHFnF/prh\n",
       "KUoPkOyr6dWi+w9HBYvq06bqqJnW9ZGO3xtaiewQ6yDpLUSeySMfc/Wd0jV6uDzMp4vdVtmnt7JF\n",
       "z+5D3kQl/8yIs5EU8hYISpVKFtWxl52Ti8KZBUf8N+1caU5vAsGNc/R2PYLfTDmf8ZGZEe55brVU\n",
       "ITpgNp0/WkuCzISbfx0WGnhmd2G8bpJbCekLkG7+7QaDKL4KSXn6gIAAAAK5AZ9zakP/AJ9xzUBO\n",
       "3K6RIf+BWWb4AQJwL/v8Itx+xcruQmgLe8fKSxoypqFinkXOyYNxPbt31C2whcf4E7iFVSI3VIKd\n",
       "031ePMqZHmQWxG/eqApCw9YF+rDPv8AuLSpGlM9J7X2+YezvxXMRJHVjiNLLbjYUlOgQtFAEvmgc\n",
       "/LuNS/pHFa/pqonqjk5yUAZUchA31ErAtDYAtNEIFh1eak+xnwEHzcgkP2/nIDE7zwNa3QJueJ8D\n",
       "rQaWDmz5Gcd8RlQs/CnTxoefyTUpkg48mrAQj8BTGowGXG42CpbWelb64rroT7EwLMGjBaXhmfqY\n",
       "vFbPTY6ENg6BbwswAGvgnaF+TrOnfJB0tqzrml2z2vgvmQtSSV/Jn/z9tI/VDec/0TJ1+Qu6KSwF\n",
       "eBF4xTYPujtGUmz9KZdBhz7neg1VCzY/8TpXS3rdYHMuUj1QgE2epmw6UPw7I7o4vpyME90Y8FgB\n",
       "r7d5qoHF0buVpI5EWHZqe7Ktn4ZM8k3uAqGea3aFBjyewdSluP3ZVWDD3nxqCLsUc8GmES9P/0Wv\n",
       "srQqusbCxEBUEr30JKMpNt4O4LCiy/RCp5P8Miv4hc54wahE+GzEVY+vZ1TkVhdKVupw5oWBHT0O\n",
       "8SI1C3ab3eZZOSAcU0n2eWgiK5GdNt/+P1AXjlcEvbkNqcQD2o3V3ImLNB9MmqTtWiCSlxrV+hga\n",
       "Vb+SAKxYcHtTOU9M2L3W03pDpH1285xJQWlhwrwrdZMVqKE5P+uFnFOVMbK4Ls02NkJ971P2W8ON\n",
       "cY0ffSIfh25DrL4MhLfss74rfIrWIuxMi7zdQPBSvJfipBBZ7O2wsIo7e1an6RFtZV4I4+hET61p\n",
       "4KFZlErKBvPwd1+AjFFNtrWs7PAucAnVYaG7HYmMU7XSC0IT+/bZw4mwy+C0AtT47wxu7SoUwc9U\n",
       "iQAABFZBm3hJqEFsmUwIKf/+1oywL2dZ9S6ACWt+DSpObLYmIWXYIavSW9GZP4TRZu7xIvA5j3TO\n",
       "eNwJnF908BeAwO6oSR5mSA5i9wjfg1n6Xkx/h+0vcYL4Swgyx6Z7A59O9eG2Z1VMpduQK8iBF7gg\n",
       "3c8M5yuRth4p0+5PUwKeF2YSgwyeTcNipnUfzOLbLfh9zE6OxbyHaOLslDKAb8wu9AGozxP+Y7xy\n",
       "3G8Ld0LESk2AZ4fP4NroFS1eYQguk/YRcrg5/PkKRffn8NEf9jV1J6Mt0p5XZ4YRRrmLXRfqfCR9\n",
       "wFUuMnwwi/gkq6q15ldL8iW4tGpAbJsgAC7icJL2q4Pngck3SITdVjBb1YrkWA5HaciLFnGRgqmt\n",
       "BEov+DCjgMIKWHqvYnmWYg9kxemKncG+s1kw330pKfpC+Gy2iS1oi186Lp2CDqQUsCw3fnOsK7dt\n",
       "X4CHqXqc8z/ItsszU9hdQ8xWc7ChR9P7LxNrjV0kkJxFFPpKw4iLcN335X2LY9c94m5OqYum/Mz8\n",
       "TmpqrAPTpxJFlq0LRGJs8QEJN2QCKJlNhzHQn0lXNGS/HfGKNWvIMRocd7LTrIM1r+qIvXBc1CEY\n",
       "UrVjDMxMwjAeAVGQ1Qo22+qWWvRSoMehBnaoUMM7in9/bTmf8g5YVCt3HxQFtGo3TXVnvRr/9QsZ\n",
       "bkGwZRGFWe42HhXHoRIHRvaYkSTfKWWMGT2OsYU5i2iDOwIxLVUPEFVy3q3RW4CYEsvK4+xEv19U\n",
       "KrBU7KAzx1rcsXG8sElEwsFpfyhj162uEqUGUnELn8ZyI+QgBUK0dM7bO/bi7DPrRboWYYzmDLMr\n",
       "kTX9wTi2VVb7EL53nt40dlpdg5srbGq59DDSkAt00rHu511uazXkmDxYMbPefKvYVtpPyoL9uA3p\n",
       "hssJ9WJuIXoa53cP7F+4aGqtWCqF3EFeMvpRJDCOy5Z1bMI5LJ7wWA2EZeD4U+BHt8oxBQNgS/qC\n",
       "eq3EgidyjlybhvGTWOk2b3iLQsMSShg3XL0ofDw3T6rMsAFrfB+jETzEfX5ytyEfHu3DbMk0S7lr\n",
       "9tzNh5Eotu1JbsL84nY9c3vIc27SxXBtoCQ7jQbEi8+waaMpFCMic0f5s5ljcNzfJwxxMInjzTs7\n",
       "kIAGWTx93nA1F15BhX2Pq0cPho3wlkOUSbEGHTYjuWu49xrhe3o/WQQ2fw6MilegFkl8TpL4kb2l\n",
       "2vO2l6U4YNkz+vFOvkLYU0hlHXfLQfpUy136j9UpRdw741FEg2FqqOJoPw+//hhMOee0em929diU\n",
       "FJUOiqgXyi4mhMa2KSPBIy9datLuejuLYD+JsUDL5wEOkhyiWrlIByxzFGYlxJUtCcd6XWQ787Cu\n",
       "yczcxaQE917pzGXPNAOlg23JlM7WNVZNfEhLAD22yOUcY0Hwr0G1W+oLpTPUJWGWwTD0TePt6iDe\n",
       "PhhKiRQLcFQW22SX76udSUrlw2qdzK6NplCOUkWtOqkAAAOfQZ+WRRUsEP8ATFaWoVuHBsn4rXPq\n",
       "aRaLYAFQK7708YhZYUPfgjd7yM9vtwiLla3a5Yd+DWR2iWxHjF/Vsv9VSVFLhsBHMo/o18HryQUl\n",
       "970f5EiXYmSRRn7dyz83AqEeuZZysi6dHgjWi/7jiloA+HQaLDwW4KTc+OkzXKdWN8+hAE8QHphd\n",
       "TT7tokTYa6tc2shSeVjLHg8E8j+tBcDqbmqVp9D6nqqlzQuU82k74Zbr4U6Nm/MVnH61xS8xOHCp\n",
       "bokJer9s0FSacyNxpBWKPhEfG7e0uLeFEpZqVB8+2f0zpGv/Z8hdwppOuj8VMkKAOPLRUXVFfVcG\n",
       "US0WdUdOxSNrEUULSbgXcBT7rr5n55PTUx2++t/bBsBJnSIeuee1sdUHm9uRIaeTqM4xwm392anP\n",
       "Cun+NHFhFmcxI3xvO5BTDdgKg/lgjQXMmyQ78x2FO8ZrkwO0ofznSFGwTivk25Vfn6eS4aZ7+X5O\n",
       "h6bjS/LjW12XxP8Y+kRg187xKal3cGKL9MqzMIWoXoKlb6hRmmfDFT6V3/MFUKJ2ZdstEunEFw6y\n",
       "nRX0yj61uZmwRWHOvM1H8+9PtVIl6nmiPlnoEQbF5PbH9VwE1msS6n7I7pTegjuJt7OWhBw33x9S\n",
       "xFWAPLOGvcjC7XnRJmlW0moRnBUvonqWI5Dn+5e6tBQ+baEeo2wRrRg4b9MqKBhOJz3DiAeVOWgk\n",
       "MrDFD7d74oXaJIqFF9Tx800fGUu7TWqvluM1WQtU+cYqVxiJ5lod38lUo0wiTnhikidqh70cGhY3\n",
       "tLSX9pW0EWKNaNlWazLFV7lrhUcBuHnhx/UTfmPuiM4cPaOL3jK5ViGkj5RdvCX91gdXJDXkq9uR\n",
       "5S8G1W7qDVmTIf2U3osF/epwnwjkVvkrcuER171+qirKTbm4DM512xHfvu1M4VSjy0mRtfm3n4ca\n",
       "Oq8AtVTh9qyIPkoPFGnnTs4o9+u8uYNymsrOyW0aa0Ht25ODEvHoc3+NeohNOyGNgXmxpxTKSpaz\n",
       "8NHKpHPsa98vjMzaUxKAjC8+BAQgDum40pKL4IQiHWV03OtZUD7drTBqHKN/I/gJ9mOKs5Yrbhje\n",
       "GZV/QCxBTkX69Z9poJ8AonkijhPgGijoRbXqtnyk2O1TRF3EhUvhsxN4OyHM5GnyZTBuCR74/533\n",
       "so2uA6dgbW5dHjalyphherbnBtwZXXShdDB7/uGD18b21+WijZfWroQTy6r1glYxHRqBAAACrAGf\n",
       "tXRD/wCff50mp74ANquox3XKH1GOiVYIq3vMyJKE6ePaAjjmGxlCqDF9w0wGYD1Cg4Qs3SZcDkgL\n",
       "6NbZIcBm+MLwKVw3o3lqzpYr2VfRQSpneinhha0gOggf+v9Br7GeBFeXmFWtrD7DtdQvmBKBNVRc\n",
       "53BTwtAwWkBtrYNXqB1XXbe44BD75hZyqZm2NYHCnHipM8+ngSz8Q5mA/W9M/rRyjvD6BG70SP8l\n",
       "4ldxAASjUJJTCNLpaaXIZZy6b4nMX6NEc8+5VoITaFeihrvJTLjym/yJggxEshiBUIaszbQYoTZr\n",
       "2mcU4PrNUeS04L+/OksonbNhLhsQw4s1OTVqLWdAiZ+koLqJQT6EKi3UKhOHX3HtMOn0sV0ksHYl\n",
       "GYvh9cUc3IXICXygyxcMA7DasJR34qbIft8eiCBLrMqMTSuUKAyzD6F8t+MtvW4PuMxRGR5UXLZ2\n",
       "eLmWmvV8HML0oDrHtXTVi8zKMqvYsa7+kQs2BHjYhq0V8mu+krL+6DP3rC6A7aaxr7wYqX8TxtKz\n",
       "syRuvfVBuiJZd7NW/C9X9Ku2kKsv85atAE0xOziT4jLPT6BoEhjGmHQM0/6dJxWp5SmVs5zc2ZMX\n",
       "B6ALteDOHMBSC61TIY7LbtlzB4/GUHPXB1zZaQgtn6vVM8pM3unWJErBGgaO/7Gx72kfTOOZYK1o\n",
       "6exTxeDylGZYIOxgR5XMHunqJPb6DFZOeS63RGvwluzieqZ75OZkp50RwL3ZhwMlbY6YH1nKcatE\n",
       "zWH1NthMTBrvvBnHwyg8Cueb0ycvLJVoPB5B+jWvdfoSQ/idU40qlyl8VcaYYqSKR7JUYlkCtHzF\n",
       "I5k1/aOpIpHOACfiD7taaEmgUX2GL7xLtrsdi0yChqdPfhDqvdVmZWfcdZ7oGYiN428efljZgQAA\n",
       "AqkBn7dqQ/8An3HNQU0vg4HKE5LtqD33YAL2UJXfXzhiN7Khr6GaL52BwOZs8KmEpD9hAxGgPw/N\n",
       "0WgSpWIrMjbZs4sFjbiobSWUBQtckOciZtWcImI0ofAd31eXmGEPHTBKcIkCxRPpqCw2FscxJMM1\n",
       "UUjeOpHMTQ0u5iS2A3hzYky5vToqJhNB6YNm2iR+4B1smt7rEAOV+5nV9Ij9Mqm1TH8yR/NPUHhX\n",
       "Dmu/BWHJRNCcflkURMOSkwCGArpMa1H8F5hHpOr5GoZX4b/2XNIIk3/QmAUmZtTTQehk0j5gFkx7\n",
       "40tcCuCkvhVR8pOO5fVSgGoRM6WeH0lI6lBpI96jEuoioOzLlkL6MlWCTRski8rl7xQfQ4c44xbq\n",
       "kmOaSCaPoXKIEsVipN69LaIiGi5dOozLviyhQI/YrAz9pbIByXe8jgEGViCVDcRXxVGY717BN8ac\n",
       "UIu49q36k5pDWCbWnaps3nzYSDVDk0kMsMUp+Vuv/l5/TrjzeYor6IlocFdBeaJZagFRLz+pJjZC\n",
       "1XWQnTBnwgakrf0rnJcCZKgx7Jfi/2h6kFJeNBxg5TcEdLTUY12BnH6KlkiZjE0s+glRB8gwSlYM\n",
       "CA/Ndo24m6XZqcLq8CAm318pak2HB7KN9uERfEYZlKrzev2PdW2/jbcseYweAyntDU7hLqK36dV0\n",
       "XS+XPkoXuUfYmv/THtsUYN6+fIXDdflcfFQD/mldTwu70mUP2QO2Miz4hYX+M7sLUtJtM5y4LZli\n",
       "xzcAX8V5zpLMLgmqtERYetupOrqicQRqQ8wQI1OWEAvDghJdSkBJ3k3SMHHdYd8Vhz7lJgPX1l4e\n",
       "uiSBns0ezxiKqTlWeH+Y5p5+cqjh4J2Cm+Y6e5eJFsvFqJFxSWkM2etPEiUokmffXBM1M+hZLPkA\n",
       "AAUmQZu8SahBbJlMCCn//taMsEBFZx7NyxrANE361ooANwaAGLz7euDt0npKVKIwj49+cZuw6JP1\n",
       "WjSBTbVX77VX0MYgi8oIscZLPEgnOWh1TtIKS+KPP+ZZi+KxhvUOy0COz0orQaI/okMv9BYzLXbZ\n",
       "ZpTeYqN7vPPXQph/PDQKc2EdqBWTHC2WQN/qvEseMNlAnBauR0skX9NCcyxpxsj6mejkMorvrlDI\n",
       "Map/qxXlS4tvhs5josf8WuEwyraMY8wcK3CLcR85yFAY+C05VkbhSuqCGYAmQedFhg7hCiynjiP+\n",
       "L50oNx5yBpVaHkCCsmg3//T9yNuDXZuX/VNV6SylDT7mlhWGDjRX6Kakf3DHC0kAyPd7cjOHchWd\n",
       "TKZ1lVJ0av3akL/Qvy06+OXN76o2kqXJuublYPoM5BkCEOX4oasbCUZ2wAzJuB49UhyXvNU/TuRO\n",
       "JhtlqHnCvBNRDQeRL2rFWc6aqVXPtzBx9QhLoMtKpd9XahR69kxmp/EqlLj5FIQ7vneVyNTjpWBL\n",
       "DL7q9lZ3+39o/q6K/TYAEKKL5fSpVJiFf9hfiqvNMAMmzWh5EAVrSUWlaf3NVdtP7OcDuT9v1Byw\n",
       "2krOi4KyBMu4LbqAqh+VPtUV+zLNw11VBW/kx+7k1XD/uXvKVaBct2JTKhzOsgMdkQUjm49YEoyJ\n",
       "L8I8jEgFjwhF0rOYf45jlbLOOPE43IDecytukq8Hp/0F7FiKH+pQXYWMFRMVybxyUbrwXHR8hIC/\n",
       "+qXk5kAo6a03Z5NHyZq3mqFGJtlAtBvIERKmB9IQWqMXWg89N1thAeTZRsHNLVvj7BXTxPWOXtTv\n",
       "bJQjv+0so51FR1l4bm7Qjlz6YE0NnGSNpMs7YfbWxEvBXZuzTjcp93uHNg/HfdugeSnw2aFcfVUm\n",
       "pQcO3z7F/ZRxYlCqWXKh0PvIbQ2JecyZUYKpC3hwloMb7o40SNchr1fBuJLY5ZcPyVPhHMOYgIF5\n",
       "MdYWCihNTOjhOz+1qxvpf5B6qDfI8Vc/8G/49+Ts0lXEPX560uYKAugxi1RT64opVyIt9LGbx/AR\n",
       "3TRveFezJh1NBW7eAVBco+ihOnepHoLIsbFyyloZG4EoRVRg2v6JnTx88gIJNhq1hse/dhVLbIF9\n",
       "iq09h/01kfZOFJ6H07t60ekvvh3kL2vJA9PJdog9xMeDxKD2xkEJVfDDCcKGpcaz+x5y+QNayLZA\n",
       "xtHNOCfPsYbuj/E/LM9R9mHmGDpOML6rXP+RVVIzxzalMzObFwHwyEHVyx3dBh3pBiULISGr8dL4\n",
       "x/QmM60PfFhIWkx4G21A/u5MZTbZAOwQ57xD2A2AoRzfyMMDyJTdikcej8Sy4BcMcbCVJsdNcCjw\n",
       "HZnWVLNinJlH3k3W6pEVY02Gsoq6eEGJr7B0DaOJZKbjP8+cVZRueu6EJPQvnADjagGfyI7DoXJL\n",
       "/dQNJNxbp2mLoI1vSmaG1zLyvXYf+YhIv1nkSItF4WBJ1gwpeLbyVI9eoSjOlVwnEYiuSa06HsXf\n",
       "BGiNPRASNELLOmUGlqE3+ivkp8xUEE5axBQ4byCJYwLp0rKUgH9zsqGEdHSepvL4NRg+yXcH0jk/\n",
       "uuBLSKQ2p/3l0w/86MnCEGl4Yc5yEACoFP78TJFO9Q3RnOmlRZ1IUSe3fNYnl/S9KAdKkempf+Od\n",
       "pgLTrYSGwsQIJOkv6F2b748Qjng0gdzdZQ+M8UA7VvKgQZQhiSWX4rB/mzHV7FvZz0JU+SYGSiel\n",
       "vDU5xybJENT9UAAAA5BBn9pFFSwQ/wBMPOmQXsZQABNKxNROvWghGkz1LzkvQm7lwViD2zjWEgjd\n",
       "eFaTQ4/HKib70Yho+m4iFNOj/6vZEAlBez/3JE91/fSFIc5SvBO1eX/tlBi9z8BK9I+SQy3fYmFq\n",
       "Dg0fotcfryjBgCmSWWIsBL1B7sc+OHRFLwiakjDD8YBhhvmvMqUxjbtP/EBVjPgdv/3tRcXTmPVY\n",
       "RltRSuMm/oSxNZq8BBUW0nXWxLAJX2yz5ARHkLuyXx3Au03t+r8xZPj830AEXmAHR7qb87rd/auM\n",
       "B6nDHaGdOjiyG4WVWqIpC/CV96C6nlugXituu8wpaYc4l+CqTdrjmdYVHvso5sLRxuoFLlzljtrU\n",
       "+ywJeIkHzzpWT4PHp9gFA3onycx6U230OHR+JueCuQbbMxPa7Fg55zrKA8RWY23dmA73C5IFTq0k\n",
       "QAxRuw7ghuvrc0BTUToDQOJUVfGay37lJRg3Y7pSv1xv9x+LlSbNIUTz+hWIlaVaOleauhf/7sU2\n",
       "65BAI7KkfpnU46pW1zsahnj7Kx8FMza+veyX3hdCrvGE5n4AVv8h3a3dDA9KRt0e7iK+O49nW9m1\n",
       "evVxbwaaZhLZ+Zg/2+7PoeD+sY5Q1YUwsK94yIEVYLscsDjvRzG+fBJkn4PffBuxyT3LEZRVvMhz\n",
       "x5HkymO/hGGvRUOyzrTq08VelBVXpYxcgOS7PlNxKCX33mah2QMHk8vLX0UwTYw38M4RJU9Nxt1Z\n",
       "eW6+lSGwl3qiMk6Dlw/CCfmn6/JkYvjUDNrAVlw9pP4S0QG1NTpyexfkmWlhiCXNBNCgy5awjuu5\n",
       "9J4xm5y+0xr+xAS7aKs4ilvjRYO50dKH43nl6fmdWwVUt+2tw0zmFM+VItm12mv4PiNJOY/I+EYX\n",
       "tJgyz5Dons9Fbr9sFNBNswFrFme08/bSsd3uClegQs1Vi0zCoYq6I4Hynh0228LviJAS+syPC0Vr\n",
       "XRrEnjlCLA4uxgDPDcxAKD+g0SJK/DKpnCFJXxjmaXFyY34TAPknlhSewWXaRlk92p1anKxWCqcI\n",
       "GmZA9qgrsepHVQBF3F6nThGf6Qom5kTuxgZ112kDbTuKcwTbp/ZlPZ5YX2CE3J1XpqMCtnaLQxPk\n",
       "xrjy9H1ozHI5YVYZSaTTo1LaA7mByPWnxaCRNN7Hkq1GSIhcnG9ASOoxM89mTJlRVzm0QAG6TUrk\n",
       "MgyHetxs6pK7mb9E9fkAAAMRAZ/5dEP/AJ86MH4BhNdKIQUFHatgAuzCV0sHd6TJqG81kkZeKap2\n",
       "usNL4W8Dwbj90US2bm+X+VoEiNHxClomAbgpvUWvLHW7IUc2ay7lsxs24RdKSQxLs/tRtCYzk7rq\n",
       "9xOO+XNJs2IbMnLim7ey2xdxp/sdier/W4nozabNrnNVsrsnuFLwb7Ctmyh+GcNWUlZMnpbDoKi6\n",
       "PX2I3dHSHl8g7Ggf77W3HCYlJBby9j2izDXMJdIQFz8cE69W1W5NX+l9RKmw8sUr5bkQ/u0qM6no\n",
       "TUv4tdsPISgSkjROiwW/Gx4eHi3MJFbbqE349MmqkWnFWRjwAtBy3tADR0UmVpeqYsbsJShnsJ6r\n",
       "+au6IUDup0CyAozoFPqBvskUHGHVuixdi72wdgfw44DRUPQcC4faqLQX8s1EcnkZGIGIOv+jB1UM\n",
       "O2pXHGdzAupdlBAu900MRMwV+fku6rXghod/fUOWqO5eD682i/ax7TBqa+Ppj131zxsekVY6tJq0\n",
       "yv4z9Grel5cb20pFLMoJpOe7vwJm3Pspej4W07Cec35gMl/fdH4bJwGj3zYyhn/Msp1DNmoxJrAH\n",
       "ySF01CsYVcKB3S2wZKf7ImJBQ6tN1fJG65eUhfPJg1JVEj40lHDDCctU7R8VYqMyBWcC9dsA3fgl\n",
       "Dd1kOahDWnzgTI8DgcGhr+0Iw+weThRSq6J0yQ7ro2UZfpiFUg6wCyjVcsXob9EwyzpsgtA5PdkD\n",
       "e8j4eC+v3Y7fz8iZmrVWJ1jJJNXyfa74F2shLzoXgOsbh8y1P00D3uiKpuYfVR08PyGF+XEJJrsH\n",
       "OLgTmZldSyjHuMV71niOS2DpWaOmq5BgFy9swd1DXKj/eGTjxPUJT9avdZGRilyOLnFjfzJfruP6\n",
       "SrULc3pFpZO3VSOAEMvbiWd2YClkKOq0vwOGB/fbhvNE5FQOZVrmpelpGb2/FJFUulemT5goKgh5\n",
       "QVz//o36COu/VPm6kSIOhHK9A3kineWaPGIkyE4x8PJaPI8vFenaPvyaLrDJ0Y9alaqMngwLWzEh\n",
       "Bg7NVIAAAAJ/AZ/7akP/AI/pI5yWgA2UlTHp0JIhQOKvqViRWUdzFEezME4iyVnffRZaoFyQmcId\n",
       "1WtrGxFB9f5n+cghotTJKQhvmdpWXsqXlSjX0oxQtVlNy+bmYbd0MKqtWQVVOjEAea6GQDqUnmkc\n",
       "H4W1M5oZQ1tasbR8Rgk4cjsm5yu6Z0CBw0CB5EM55KGfIMr+UMOIR7SGTxM9xa56eqNbQoHyRzrZ\n",
       "Ec6HU/vkHaj80x0YuXWAYaP4vWWhbDvJdrcpbuwRB4zMhKldcjWj7hPmAiL3KchQryiyCjKMJ6se\n",
       "zPPiLLsBlcNUY7tGWYkvPFm3jyQGsrsYPX/Er20GsTkSR+4Tk8vdMAQ7//vzfLVG4hoK2waovWb4\n",
       "ZjaDZQnN0F1J0CMfivQ97aAEpGxrsLhvOVb2JEzmgPzMpXNVFbTxYbqYGMp5OqjRgWsvcq2v9Fxh\n",
       "qhm9UeAtRU5XbyQ+2woVnR5kOYtONd8IWljRH1yiwlnhfQZh46HJ7hp0Y8QCcInSA08qmhHSfWo4\n",
       "eIe+49xPziD7WedB8A9d/e0jYI3R/WZvW8GJ6yCpgHhcJXD4+Uyt5iFEzMUCdGpcbyA/AJqddtSF\n",
       "hae7sNq7nYX4T9NxeuYqIG+bsFQntmmEfqcPVlBEB6gLGMxt52YnnbZDQxhBuYbYqIb94veR1xzi\n",
       "J0KjNJQmOROC0hwDUMc0quvtDHTNVswUgUbLFJMap05vpOrwpvLb9pxsWKRD+jKScJ/Qx+vype/R\n",
       "TGskv3dfIQIQqoo2YMa6Y/Oy0v165+v18paY0yjo+RicL7OkD4PMTP7EgJ7iVIlYq0V+mV+C+Z71\n",
       "8b/4ykqr5ynQK3qDtNfLXZxt7L0hAAAGFEGb4EmoQWyZTAgn//61KoC81FOAHGcd4K75KVWLdmIx\n",
       "9cMRY0EsDOQ5hIPGLoKggj6a1ZkwlvsTv7FsPnH3ah6sz8dPBu7fQzGWhb0Hrn0T9m5FEGD4MfCU\n",
       "MHj7vhxbmN++rqYY/XhbkDJ+yh7YO6q0J+nbPiPPdqAWHAIG6lNKmrU4cNpH2ykQh6AAWzlh4J+4\n",
       "coPvD5ZBM4a25G5XPnXoG9N2I8Tg6heHeyedCEZ0KIyvRit9lKm3d2oRj1mEepN/DXg0rbmvB5Xt\n",
       "ZlBcBuUjRWHecCdBEDw5uia8w6cftBKLJCjImESc+4jHuA4bfteIBoxr35+PWV7bbOZDTtaXPCu2\n",
       "zle+WJnuz7th4/mT4uzp/5fk1ePL+E58RDp8V7QQ/tOJS0ap4w/Ub/bf3ShDnESD5JMj2zgjjvTT\n",
       "D2+khZNU8Yhs3Hwcqb4pLX/7wJamhl6gLyWETqq4cE+RKgj6LftzjwZD7UK5sqsLrApuy6z/PqZw\n",
       "QkCXn4R+DAiLAGIirMDv26Qn8/RWXXG4i+pu3xXMhxSFGm9ZIjljieruM+AHwFaS56WhTdr/cbqA\n",
       "VfPBclh45YuzyghPRTtIyYhmLhLEo1ZhL55zYMd1TeU0HhjiU8If/r0ateqdddg0SFw/1USk3gvs\n",
       "JKNQrSqRfaIkYsSegrf3Mn35fS88AGm5A6xJPLAUz2D6I9g5rDcPG8ulo8B7ar5qX/UrubGuSjpF\n",
       "XzOXqdJDf5oBdCjlAPUpyGNr8T1cSlenA7VOttnFL5d2rQYL1kaHnv7HPttVFtDsfrZRTOoYFyK8\n",
       "45xIE6Bxs5n7epH9r6wpMpKxVi8gLRd6LIiJNjx/Wzk7kYRPsg57jhTN/0mJEIaslLZgxV+0a7ys\n",
       "uQqu7Xlq/Z8oBk4/uGdWr2slyEmOhdU3wL6X4YTk+5D7cEg5FlqltNsV2w3ycYjelS1+j1VCHJGa\n",
       "aICWDWrLpWDIGb2IHn+OyxhKghwyypptKh5XSe2HG+ozo/y9UZfNVOvI+6Cdo4q8nREW0QCMY4cC\n",
       "TYewrf7plLcl5cvv82YXtvY8fTB1LlkFSqRzousWOgF4dEaGeQNezBo96SnR39eztKsJUig6n/dT\n",
       "5DQtMZuhHNAPcCQnyMO4ATkL3MmFQ+Ip/we//a7TFQ/exYUP7Em7bfAl8BY+fiAn5G9lI4XevJzl\n",
       "Xt0l0ajrfkeHOQtFY2lZUpvIGVCPJfCrYHwAEeEM+TfzQqq1QO4iXo8mO0ZuBQn1woMm5+TdJztA\n",
       "01bivzesCw/plzqHgSRNBbGFejAFQJr8jXihOXwkhn31OqL9Lcuqp/uad9qvUQYMmz0oDUyYYFQD\n",
       "RxgxiKezXzSAfoTdy7+moej7QL6bN9iSWNfOnWURvXo9nZRgYd6Fb6ZmFI/m9Czua7zf3pcdptJy\n",
       "FAJGGEyZ92YeCiEViZ1lEXSeQU25TEbfCvaCCKZQOJrYNHkz/n6fB8riNHzT7rPltbqv8SRJ5F9g\n",
       "kuoE/E/BwLYfQQmUGQpBE+37JsiN6/fXw/FfGwuR60OO9wGxRj6TvSJYnGJtFmIr9cNWtPBGcaNV\n",
       "akYo7ca8wa/lxD5xdKUuTNE/rALZNdV32UOu5fASpWcp/xO2bTenY0badm9p5hKHPej0g1g5nToa\n",
       "/Rea8De+1+zbVB1eOTiHjoKufLlyXpu4eDJc0jtadzsucTf+EDzt3A9Js5tfEunhpvwAoel2W1w4\n",
       "bIbYfSpQbA45Ztvix+wZE8je+H4aoezB9kJF52wMcl7sIiZ1G4hEaeOBlxz/8EsE5MFHBmghnrac\n",
       "Rx3pU5S9Ze1oedcnabdNQAmzK4f92tbiF+zqI/CkhN5jaJkE4B4PZYon1gUqJA97OHoCyn98cMQj\n",
       "f2Z5wA5CPg+8tenGTzEHue0Ggw+YIdTKnx6kmmSmgSx/PFH9DC4VCv1WlCURKTFmr6xt5QIuOmSI\n",
       "7DKLvamjsNmlhQnthw6Z8YljsLLdtPcfBTjsXV0oJs5MV2AnRpiOmoIg7VQyS3NlO0LmH0xKVeoh\n",
       "TyXsew6s5F+HdHl7fusgr9uTklHFnLaPpT0q1k3KfHqL0R8mQjXwlGVBAAADvkGeHkUVLBD/AEg8\n",
       "y1/eIkABsuoo8kdxHn4m60Z5vZUNvYDKcE7Zlpq0I1Iod8owzYbXKMY/Me02XjSzfjzZWC3enr6m\n",
       "RZG/YYkiM/eZtSUMdwWJUasF3P4ki2BAAqMjTQi2FwGmzjadzOf66mwlpY1fW/4vcHEaDnpB0xCU\n",
       "rMHU1q0TlLfPXYa1NRkcW4EwwEOIWxc/RnWw6RXwgB3f5EvWQOcU5x3Kz4rVk1+OjCdML9wFTGsL\n",
       "m5qcdvusERDgGWV3reyeENFKifFutUfaMWrwISRdkNUmDrphV5HKbVOfBCFsHElip5zjD3+hPE2e\n",
       "Q8e9t2yS7EZP0AqxBFWCso7yR/tzDcv4esOCsMu7oxJ14PMBRXwAO047qOuRU/xG+7t34KyxyUxV\n",
       "S9g3D7WyNV3Z2cwpVguDsIInsAkZQWmdi6s++nSOfN4aR4Tphl7EQYfpHhxwGWFxm/Y3LoXwxFKN\n",
       "tNId/x13ATDWM3NioqLmdTI5VX7pLlsFFlfHa21JSPKUzFE4xK6LkbftLa61c8vDVTqxC/U1oULk\n",
       "HYahm/jyiPCipFKTf4qorhXGJxK97dQf/868ykLrIN94EOqQ5aO/9zOGucOwwaaXs2SjZVGHYJ/X\n",
       "ZL4nopSzIyybiUOkVPGme/8F6sBQRifsNThjW6GAAFtepj1xbQueh6gfEhiGQKUiJa2ttxioZjnu\n",
       "sFI2TkD4qfE9GosBjHHCgtR4kCU4U11/2OnbQ8JcbMFj7+47V1saOnNsB1WMUF9oV0AnTk3zccZ7\n",
       "1OvNTMyQkmnmQ5rJu+wCfEklpgNAHjzWDuze/BRJ4vj4937jomceiE/VjOVvEn/pH3dc4vsooUVI\n",
       "9XYfQGnzu4f2DIMK0cFhTImfgWAOlOVQeW3cyjS4gjQMjIDKcTozl0XdyVQO2UOMh4T3U49urwFY\n",
       "P/66/jOAnHX6/KEZEUg3RyQHfRbby1bIzFVyW1BbBdhPs81MrUYPR0zgVGn+OZFGbtHVAkBopZv8\n",
       "vP7dI2mcQW3F/zpReHeJNGXa+kS0SJyrpICBGh+f7Wlp2yaW1rYZiuvQbjpL59zbZxGjpUwHHb4w\n",
       "hPiOkKxrrlHQhfeBZf8S+j+KDp5tlhCBL4gn0JZw4qhOxUAa/fFvymp9YWflSq9G/zYOcYVhG0qH\n",
       "dScfqO6mkElvk8AYPA1urRhdwEZoHOE1PCXhn2jgBJ7x9H1AFregF6YvQ6g7gCPTr0necJQXwvKR\n",
       "BHsraU5O6Dd8RZOFQVBtIDy2TyweQgoXZ5uHSoOrHOaMnPgAAANJAZ49dEP/AJcMplDH1O3phWgA\n",
       "2lESu+w2eS0H699QalNJtSjyTkaKJ3vowdvxyvw2dv+gv2fc8jal/dSZ9qo8H7Gb6Lqd5udeZ3Mj\n",
       "ViqM9ThGzkfHbRTCLR3u/0GvHGLf2t1zRKNK0cEIz7jC8oV3B3fJZv1Mh9olPMYJS8NjEM7K1mXz\n",
       "q/yt5Fw3sp/BpM0qEHxYbnqJbvOW7JQPM0ud83we3jqo/2aK3B6LZFVPnCxuH4HEE9wJ+XfROLVm\n",
       "ItwsqkybfYc7UmmSQ+SKETQrQuCLQlsdOAsoyBBzglZZg3bR+U8Z0qj/jWlkkO3tFLpT/gOdzTuu\n",
       "20ZujmE7rIrWOTkiU8cBlX50G5vrK27HepXlP7MKDciGX7QrP4/oABInjfMUa0lMx3vmPitnFuRf\n",
       "91ft0GibJjWOFlTnIj9/KoulZJQ2I5n/0zVBYHIsT06WrITz4R3GkFfYhEgX7sLU9o6LbTpGzZah\n",
       "q+JAe5+el76a66OmppDokGCZ0LObfAQ7v6CkWMknJ1IBSY/Glw85tteFxNA9JhDLJR6tEHkrP7Vz\n",
       "UgJkrV7ZfSnD/OnjBpcXVBjBGVjFwUds8NLEh4AHeBK9QMdvideZ2AVTKzGpXFjlSnfJ8tjvxfc8\n",
       "3L7aWWf3KPC4UFYK4ZObEL4o6N5rk9u76EdmTwCvp9F8aL4s0ztVqGvikU22fgIzOQuShPnrDEgt\n",
       "CPT0yUKpOD48NBoCnbGNkAmHrXxr2nLO9Bx1cCEfJjpC1HnvHWWKSmj2VFl7PAWVY5zuC0o/+DBi\n",
       "AAy6hXlHNPcRdrJNZBj183TxA4dADCWYs/y3jgGFVV0io7OGcJzJCjhTtiHbaK1Jc8lhnnLMpaSA\n",
       "b6157BBTESTA5oaJUOluPxyBKGI14f3EVEpRmR1wXyEh+r1QYo/7Fec9cmHAYWHHgRfuyDNl50//\n",
       "p8yqhmDzpBZ1Psceug6tBcWqcohXgRZ2gg9skzoSFAlNS61eUnUnIF7qEFioEKc9N93HR/b+9b2v\n",
       "HclGzuoR8zMItOoLyl8gb9qO0OfBnwdwKm9i2lQ6IB2cBg7GUTd9n9cV7oE2KLtzBZo7iJQNnaBF\n",
       "OeojOImJSArKSTmZxnfC9pJQVxOswuGe0AAAAs0Bnj9qQ/8Aj3dorQAbVdledfhYTT6IXQ4+90K0\n",
       "WR9+AOVIcnysWJP6E3MVCsocCpbajKG20+4LPXN1c1nZhDiTYM31ZgXwhtPyVBTm15qT8hFRND5T\n",
       "bFNN1LJrK6ObFpFFCfjMyfh0wR/1HadrLT6ffqrtoC9IT9dAtyedl36AJaBHbu2/LEPIDbWAIcXx\n",
       "uZxDFm8paw1judYTS7sIgs58P1G/9O6aVTVJACo/RNLZN2cZ5lXvkTlP0i8I5KWv63Qua96SCSWG\n",
       "MrXfJaxUSxfJAX0cCYZ5JaqmJ0VQbVFdEX2LwOv04aL5Xow1CbJmCtIEXhay/+m/0Q/OPZOp3KGF\n",
       "p0Ptt+BSTKXxhT2JeyoOKXJWVbaopJp4O/fKNwS2wYu/z9sAunaFRkqeyIWb4Egp9ajd1chfLkSx\n",
       "FwMuCCfFgwzwGE8CVtOfmZl/6y2Qt7xa2CrAu8JpSFA4gGF4L53PcY3sczs91dpaf3ooAmJQG74/\n",
       "S99fUaW/MPwSbuyXYdbFwYVl5sD5g3eORLP6dTGR1X2XegIF7OWWIHMadaEngH85sntFQFN8Ksjf\n",
       "HTlkS3OFyz0Akpwz5yxsdQ9gDqY9NHiQspNRxW1/3HzsIDnnn2jAQJtxvrcxZ3AE0VVtHymjc/ZC\n",
       "4/UCb1EIelXnsoOfAsn+nZOpwMVB9zpMZ6lk2qF6GT/bPQkg46eVmt2cb+7xBWxIEZj2xqLK6Yie\n",
       "jcQDE/YxAkVFF1uD+67MehVFhgmpET6/xoP9Q9ksiSlH+AbYfJbVjsDcpHtyvmqs+ORbhw8hOmi3\n",
       "Jct3Ma25GXXN1e6faceOutXNjdM9QKpYsBTgS+75XHRrKfX1MijGmmCMH8usnpSPDybXi/LAcDrZ\n",
       "xPTFJtR9FW8xenDluW4lC9dUQhrpoAfMl8e+oMle/9nd0LTbNt2yflAxaIa8hl4jVGBBZS91vuX3\n",
       "BFeXML8AAAUMQZokSahBbJlMCCf//rUqgKT8AtP37KmoAEyy+qhpw5aqAAjjvbJaZEC4EYcnCWu4\n",
       "TOMzp6MH5/vqxz5gibNetfXUNbk80WyycFlb5AmbyknS92m3I2opdBwqxCYt/l09NhHfpBETxyfW\n",
       "+Eg2/xONoIL8+8JnRfxL67EV2rotDlr1IXVLslZTqs+4oBlBALprgEEM71nR8G9v4eGRKN2iEsQp\n",
       "rMcZ3teYvvOCfn4rE2PQBbaNhLt2woZ0kU7NIbshSwxTtHlsOKoEQHXwCevdN68djinHpNdrCO+i\n",
       "MCoOcaFdJKzi+blw2q7mVT4IPhrqjSSVtXGPd9bGM+4gayBU6UxkIeucFBLxSe0gPwUrAdJjSwDP\n",
       "bWe48swXBdHmiURTnicHM4L2FWoDqTcf4YCKZvthUBm7H8Zf4GV/qqWzcdhfn1gJ/VDY4WYQzkp2\n",
       "SrDLuQkyszAGnri4lPGiz5xCdIetqrs4O7REY2+fBpndxN5s85MOGlJqgmeZoImNk8EKBm7JfckN\n",
       "Z9BaVu4bfdcbIhAzZVUO3+cgafRIbVKr12Dax0DZQKaWmPce7K3yB6TIV3thTxUoUg+BChWj70yn\n",
       "L44VFc3pAuvW145t3kggPccQxulqGDF3hv6vNgin9TLe80xaca98gtXjwRu+hDxmF67NzYVcF7gR\n",
       "qmrZyAvK4Qg6zKHKGMswutnj/n7E218lTHmpOBY9Cuw5jfRpNLF3L4NuTG3PAKxKhPvHFHi+rHGV\n",
       "6cvzHbEl8p+L2SXF/zAMo0fl/9jE+k0yVEwAQYNoris2Fx290UxdCoP6JhTwk6ER1rgABAdbuI5J\n",
       "kceHbBn8e3u1kGOlvMuKeq6EyCtTMP18NgUMgAGDQAT5QmwP3PVCa68YBG0WT5Mg6rIPqBJK3kX/\n",
       "3PMcZ/GgjW/YARitKzVtkvKO5BdMV/hnAbnHrfKVLlB4tD42SRkMlIdei25VaXGJqJwstnHt4P+f\n",
       "zD1CPlLlW8r3gp0u+Z20twa6pM3FNUo6QuU36oBjZL73aNo3YkY+QIoyT/JV2zBXUjosIqS3IZWi\n",
       "mjka2wHqEyDX2yrIti1I6wsGQEwGHKxgksHB/c0uhjPLReQtKJFCwx8xmBsfmQG9pnHyRoDoDPg5\n",
       "V9KSQT9bpjimYMR0nRClXoN8URQx7NgDCE4+lrFQ2j/jBMMKpqBuQClhvTC8KgeQ9Zvzedw3ZWOy\n",
       "ERDKkvEEx+ZbsizPc6q29qgnlEScnQSzsIh9ukfkszYPfuzdLOpv7vrRymbAt/ODGKd0MokAJhDQ\n",
       "oR9oClL/+DJAQPpF7fEu1DstJ7tYh+q6CG72eKJD0s9qA+KUDloXYAZGK4n5TmCAUIKQigGM5bbu\n",
       "kBmaGROY6EVkg5WInLp94fZlzDtJAFgXve/ac6IFWSoRgTFeyoRu0NQ6Pr0o2Oq3JqaIgt83Buc0\n",
       "QSJfhLAOOAHOxaMjaD2uOlkGcdmjEfq2ave5ezbQD53vlVeKV967VK51ExcrkTOMyuz6+VHv1YSJ\n",
       "Y2YmTR2/EAVrcgFx5xgEvUWJMRXx+KP5hKI8//0rnKoZ9oNuMuEbQ0af6SUYUusgPAAVdS8qb7zk\n",
       "idPV1bXgudmwcCb3x1D2sRyJswxHLDwKb1q9++iyoU03vV0bdlA+ax3U1MHXTyouaKu9sxPuuQsv\n",
       "25JD5r+Wzru2yzWV6IdikM6jFsnVdRHzKqjG3DoO7J6IMtDtVKq0zYQii6PMYpgAAAOZQZ5CRRUs\n",
       "EP8AQofaSAAIQ2H9y+x87GAwM5UVP23vGQegHYaUNGosxRyuuoH63TF6C8WBbVJY4ci+ieWfVJAl\n",
       "epY0oywsjwYNYFPrf0Mkf0C96YSw423MELBoLD7mbIb/g9VfaJ9TsV3KTwStKVSQ///e9SR3VfEh\n",
       "Mbno2DRdu1w/ObG0a42I6ECqZnjbJoRzxAcI5vgmLuxdLtdFUnq2hZc0pOIRKesU36A36iVpQ95Q\n",
       "DonlLnuFL8tOrLCTQg9xFFaQidhiy69WnyDBynfiZ7zKt+WVENColr0B6QKXQMhkcW6G1Ep6RvPQ\n",
       "6Ynxgcvx7g40Ja/iERX/MjmkzCkye/++XTDYyojdaeGAJbtSf8LsvMymBQGR7hHuye4mu41EEueN\n",
       "y62ztpYQ/slhnJVfPKj0WNjrNmnJf2YrlhuU1ElhmdTpNCgSu+pvvcAjH/bGOYGp1Q+tT9gSEvI0\n",
       "kX09Pz3SDFaE1yghb/P30vgqRVZ9Pj2ZCUTb3y0yLXGdoBKSqTlygpqibE6DIqdpcnZ1kZG8WrSs\n",
       "DxcAxftrA6VIqiuCpgOdQoZ2GetR6fPCPn6P6w9AsBhtZYUgBBglXNBcxmZKj5LGjQADLKa3pvMP\n",
       "WOBJRs8fzcZHpI1NvUIHfKvfsTFQH2C7FremPikpPP1cy90RwewOcYpLDExIdtPxujVcsftiNbLE\n",
       "weoxvcSKm0huKvWLHCWrY6A2ntRWVyaw3MQKURQMk+SzX/zpAlzNOWo9iO6IZdEecpJAyzNKd3oA\n",
       "1hDt+fciXvbAXrfCUq5RG+rkzDMVFKcaihRTh6TAKqOdDw7LAjxoXFKwmgrnCR3+XMP4LJ+YNyQQ\n",
       "D2JRGg9cc4TL1Q8nvH1ViAX9+jXlciAioNRVvh9zI5fL32SXiD5yMN9kSFQ1OWZGn20ESzmLq2CK\n",
       "sRNtwAea1tCFRA+DeuL6jkt8IJ7YKbw4uINRxw7dZk1yU7Z+ayleoz8Tr1IlgIyj2A+nQwdXZIgm\n",
       "vDhmuNODv51blVXWjS3s+QWnYqFBNAlO69T7cVD0HI4pdCC9kKQQxE+6OAp6jtUH12SiecSKIXDd\n",
       "4lduG+lR0Kt1bH0VatpCfAlLdaOFoaAmmOZtk+B2gerKFltmwtQs7LJw/q8iYVA6x8a1z3inTlUv\n",
       "tqe5AYwrFybjbOOVNVcnUwDB7UpNnW7cfIbDAWIJiqpaYGzWeOkjYJeVMraJzXviCO7txnCANzOO\n",
       "+NmBAAACvwGeYXRD/wCOAsnA0HABCabrriA2McG8sB9bHy6ZTjObdqAXnCLx91EuRKgKvW5BjzdK\n",
       "bSI5P10tW/GaY+BZGrH1rwL0L3gj4FV9JJLlyXA5mGuqDrotWlCRR+cJshTkJcOsYqw9avoGIiWv\n",
       "2MOENrXILx7NYwwk9yISnWa8fm6D5nMpYfjOqjgN8ApchhmKMTY+gVv2/4iRx6IFX3n0e/Uf+QS0\n",
       "9HJjuf/U3cQNlwMJYZjIjuvDwpCA/VvvCUIDUAF8TPtligS4paTfRA5q1myRspP5z9nA4hU6zlsr\n",
       "aqGmvko01AmH+z5ZI0RwrX1FA82dGvqQ948UlIFnLv8D1J7JUBzYBlwUQbc7Jw3QKfvK8bkLCRHd\n",
       "QwZgfn4hbOEqAF5eSDLaZyzl5wyCPZcdQcwdxUC/KqIcvfWSnwEPegKmCLKO/lwQAHV5YW+1FtBX\n",
       "vpqbuF5J5B1ZFOU9Bv54IA74UPLJ7FuuBQhOKmHU2Q//jPShGvT+5pp4/24ZkZx6bKJhboPgFCRr\n",
       "MelxdJxmUNvln19YCuu8tDDSnVMsyqLd7kWlR6t5Iz3AMTXCoepBoelUtOAuL1xccFC1f4/V/xoP\n",
       "N+7LpcHoQ5UrnSR0MrxWlhy8sH4zTlSkSCOaCtFwrRsk3+UdvJy0w0threfla1tETKsKsp4oQ5Fe\n",
       "O3/ugi0areYKtZzNxDNMaWikQrrcjsTwG/Jb7U+NH/yaP5UujOBcsJkWdTolEDtsvg9e9kckqq+8\n",
       "tngzksEwgWoeSDiAPJm27Ta9GtEE0r+FfX7pJIBqMdlSWpCufLV2PLX02y/isZ93RgATq8k3x4uM\n",
       "j7FyxVSMXtmIjI6gd5o49gVczTiNeo5HrkKSfDZTy2/d/Sc8/2GyTzuRAU/wjsL2utYPAvBvwsRo\n",
       "oDouxyycNMJEA3xghlESVbayMA8bge04IsAAAAKkAZ5jakP/AI9+hMFoANoydc4LjEBUWzss2iPU\n",
       "yYwxy6uX0X2QXKo4JcUPd1CcEGb8T4mOF0f5MNYgjqokouhGEhRaqbU1VQaxtwaxpkmk3pAm+CvX\n",
       "1R6DRBbID9uzrroppu0x3IqWGvlAzTw9cuFRgIhogoDddyOChnF0ulcwei1dsFA6IUvOm8x7+XM7\n",
       "kCq1J7CrsGFA36PVhZzDcU2xfywzzokVmKl3aM/1rr+WuCtoFaWEhqlBDqVgpM0QFOAjnFhmyTjx\n",
       "HLDEz6m1xYHH4GeLV7nHMvMpJbReTCxE5ErIEiOud8LJVHM4qNZTc1zhy2wap2VCFOl99pUXqUdJ\n",
       "Lw9uYI9u0RyJSpxvxhYu100cTrxeiSyPRfZj6Ah09MiLblAMCGxUXxDw2pZr9AlMorsSdVE07J2u\n",
       "EBtmgSbTr/YagiY6Ll2erEgCyvYVAfmGtmMTdhb1njMpaAV+cN4JratlSgRpdi/WasUczGWKUCkZ\n",
       "PVmOJt71G/a5Rk/b4cF6YOo7aAW3sz9YvmDfpARPa8wLd/CxE0PheyDP0Cs2i0q1XV2FGmzxD8NV\n",
       "zrA1OIIDboB1qMsosbEYGObQ0+U5YCZ8Q12zXpPvM50RncN0wic4gUS2bo7JhV12/n7Vordbbmmt\n",
       "CiiyUVeH0ZMN9QMKcYmeJPbsZjjLMeQGoVIn8PBBb/IE6ONRQEB92A0Hi9lfgeD+E75E4CwdgmhB\n",
       "38Xfq0zC4EMtmafjAvSInaFjIKQFq/bjma8knXI4Hw4fJ8dOWAHaEmpOnhY1UJ42qjcUv/yeKwgS\n",
       "ColgROo8d1JGRmO/Ox0l4MSCpWc37n5+X/VaD5eoLVVHQ0bsHPn+DC/tjcbZHjyVT1KAMNboo9k3\n",
       "FiPlOJxp8ppomxYhrmKdooNY+/xiwQAABMdBmmhJqEFsmUwIJ//+tSqAvNRTgBbIWZzkoJ0Gbmoz\n",
       "WW1S9cK7GWS3APxaHY5C/k2gKitWfO3cOFTIfdn2E20hetK2e5Ik+goDvoG8CCznDJCiM1gpAaX7\n",
       "j2J4EQAkfBr+hbYcE9bF2pJds/mKXQNbknlbjMI2wDMXwjmpnZ2EHeOEENnWuTAPc7F4CnHurQFh\n",
       "lyvkRvWhyL0NL/B4BaxBELvWp+gAoUtFgtQY/+ayLwpHnssBJcPqtgPJ6ULRZZNvmvkvQzhCX/Ne\n",
       "s4B2rJ0PSvdxzq8u8PDGrk3uZdPdusuudA6uNLd08Cw2DnjtvpoNqV0F4H8ICHCOkMqXAnyXodII\n",
       "dKogAasMk6Q76krV4LZ8Hj42aDsvN/mrZpVGsLfKNee+232Q4G04s3ZuJQtz6rGOACtEUBwdAH8X\n",
       "f8YuVuia3apKr38woNB0hlojpTS9UnZar95qMbj/qxvdYI/KgDHxQ7oxqpVaXiYz22ZE/4EqLpvo\n",
       "ZWMlbXx/Q6mjOCZZAC6GYN+HLrUtj0RSk9KO4r5/ZCWL1m1/SusVCzXkuxuqFsa0U1JDjvDYO4ED\n",
       "bV6IsxbucKtpWppmVQuH7TScFamDfWlt4hEIlx+OGIJRTh/tCOLKVS1p/kJ0TAQJCGLUNCTpHISr\n",
       "hkLCnFHiuJ389m6MjUzVRddqqaeS2v7JNhefJzVP/RrI7RjwTXRioDmhZcL7e2A8dtrEeeWjvUax\n",
       "NQTmU2m+M0MHjXwJVzojrmg8vhpZLn9dxZfvPKFiFeHGQo+Iy6Gamdr0KRO/ILQVL0+hlcuqMwFE\n",
       "aJpR1gvJ4mxFbWl/Y5MFO7tCE7qfPFdqfwrq3WLN/ipn40X9lQovG6tdHoKQoBI7kVpgOrKOWKBY\n",
       "jFS9s1bsFYcmcQMnOdHUlgOdXNssafU3QO7GDijgWEclj4FQWvhYweuXJBmm07IY21VndwW+ZJMT\n",
       "QKjh4TBcvHToSeh9x35xW2aWfStVgvkOT8xobXRevfJFYwd1xXaQ4MCuCNE/qJJKfrJqIvvd8VdN\n",
       "3TQQa4K83BnGNqmPgE9FdX26MYE5w/AfM4Hd/qXS7k7SH91sb//QLCIEPLgfCHAHc8ekH+LmilXT\n",
       "mu/FMc8zGsHjn4FjrZ1x8ZUzlUbg7eC9OVTzSjadmtWuYDn+Kksbd6PcaZxaq7WDE1VmSUvSOiTW\n",
       "Uyg6pK0bVhX1lsi7QVviOb90tINRemvfkv0vpaSBqZlVDM3OGpuy+upofz4/fxiyA1HSdUrxfvdP\n",
       "oujYlfNYZFX67Ys0ILFMJG436ToTBf731kRnGZ3NmJPFNAwAEqRaIuRzyCWnMNZfK2Xk135svbFX\n",
       "PSVK1YQ8VF+jqh5JwyupB9I5ayszwQkZSv5RcsO1ufLNBXBeiyUFqdAse0QMqTqpGFyuVOVbOpQR\n",
       "5KyRj8vsmltY+UmGU9mbL6RLqWETn+mNvgkwmNP/mE5Topnk8iVEYbIIX3De7/BR/jr1NEdQNAGJ\n",
       "ofP7a6nJIULKBE0SwJDflK8WCdWnKnawUEjbj2dppNe/vx3CWqmxlaW9hytuABshYA2Uil/vYL+6\n",
       "p24dxGgd3xf9fOL20eneJJjGZ0kX3tT4YlL58bgexAOOKjcqX6oUk+p7Lfb4maSnFOW5CQAAA0VB\n",
       "noZFFSwQ/wBIS9m0TAC3OT1KaMGxqeRzNSREF05C1IS5ScRt4MNBWuxFtA17jkRU/NRqThR2qdb0\n",
       "+QZDiGPgW45hFTmCuVxN4+BVVLOT8ElwOZhrqg66LW8gkUmdL2ZWiHPonnRJjtrqrD6MstjOKLj9\n",
       "tGshkbkwVJTt5bT2Nt7Rzp++YW76N4DduNNUnKMRAQa6BgKaegraU5V8gBzIgRwl31Cf/XQs1Wg8\n",
       "Ikz+A1oIExeGAlP4nzjt/AyxC5JIF6LFfj8xyijYAp0Vuf4T9YVLxoLAmDozONTiK+8dLuzfQmDB\n",
       "fBSi/cs9Mry46lCOEzqZdxn924xJg7+eAV2fW5MiaBXOzPqgqPugKB/OgV3nHSI41GlUCv4MoE0v\n",
       "bIdrWbI5JpxukAO8Svk0/n6RfI9WnbUgurR2De+bQg7zptqnCBr5CIh1V82lQ/BGwH2NVjgXhJys\n",
       "ADi4dM/3CKmepNhFeuyItz7J21lbWtnDdHbzkPPLz/Uqb+QrV3pNCGOy0cA/8K+npYbWFfnM/TgG\n",
       "LTESTRzKmGV5nv0PHK4tpRyPy4aMir8xXXekLjt+ccscaub99FDjWVvg4AaywUDjtmg1NI1wSBcH\n",
       "6onZFQ6IFO7xC30HYisjK+v2YC3c/1lyq5Fypa1sfLgsyx2ElNdyboMBQKvle8xjmUba8J/G6j+r\n",
       "nbVCWL0ivjqSn6/ZdvsyuZNjLWhuF7p8c3K/FoDHyQW236Ir5IhTHZnd5HUYyXngQg4Qf/vn20Pq\n",
       "Qq+BWTO6u3vs2wOtOpDc2gHxB6AGtFcLBCiLikC5STsOf2+yNyCP7yXXhrW3IVBeKgmFiEVodU1x\n",
       "ajfEzWXo1q0qYSqSRr+Zk7waQ/IUPConXHs4DUbOT41S7wes9FLXQl7jyktqUG1jRcmjtMguoRIB\n",
       "Q/VXhT/cB5j8j3bqQr2q7i1n8N9bqQHpCVVxQq1QtDJTbTb/yO9wSd93OA0vKz6C/NvytuqmdNv1\n",
       "ItnGhS5E94Nq9M88tBfl8wi5UdI/awTWimU2YUfQ8LWPc6Olfk19onf4+yboQ5i53/rjSk+zC1Gn\n",
       "duIOAabWhbYpcY/pt3ikOhfZyqOtQ0IVlyasP1YgNPv9XIhFAJEAAAJ9AZ6ldEP/AI/ct3xkU/si\n",
       "ASluIAQgoSu+ycdXdmBTCViovaK6fP8yOrkRBfQHqpfZCfdOLbuNWrSI3Dfwfh29gUETQOydvlSL\n",
       "PTe6Mku6G2VH27UKdbBCURFoxibS35jJ4wpOhEh/SMOXf8UhtIbIKUjIS7G3P20w0ZYRmuhZTEXG\n",
       "4Fxk6IxgccxkCjq9ASmWSrKcwIlffca8iXVMXXgaW88ZCuIWQcZ4SwMPQsVZw50NVYcNsOI4ChB7\n",
       "LcoLNbijQ9sr7a7h8AzSW3W4uOh1ShVYhYv40BPosF1RqWAYyvPzLP/p/qYUf+l+k+CcXCOF63AH\n",
       "CJIUqP3jiavtg5y7O5FZNcN20Zctf2zN6dIW9YT6LqJtFF6gtaMjHEL8gehzUYKK5owz7UDwaWqF\n",
       "id5rZWArwHA66wXbAZoU2ECC0687XLoCyrwJnzOATMRC6dIkp6iZZSfJvuTLgpsxg7eFf4UkThEg\n",
       "r1y2tALeRHYbQg5CMCxEsE0of6Wk54wWxV22ErQXWjTFBfK+b9zDviPkFttdVozAd9iamK/VPr+S\n",
       "dN3Vtxh8zr46rs8vEZWSnea+MHsBW0Jbf4zTwdx9cnB2Sr2jpMZ08bN9vL7gG7fuc0zCaO9Rga6L\n",
       "ouxvBrOAqnv3XsDAf7dgiK7DbNsc+CZa5yvtkfzcXxsUV+lpLh7IdN+nMB7eGmP2rvjSO9Qhoek7\n",
       "pByT2Y5TSxhUq9NIL917+joow62NDJ2yNEPb85TDVq9SvO2d732I+kSN7HLQbCxiwZP4EV7rgq/o\n",
       "gDSXubGTJF8hGXblNEBaW6+wRIznJMN7ID973HcHir19ml8YHNZJqnn0wreo/aRhrCfufQAAAhIB\n",
       "nqdqQ/8AlxWaNfPfQAOusnVzE5JPKGyPLGoh/gaDxGzhBXznU7meUja4xyNOWKleBlwVP8feva41\n",
       "N+w26oRDUvcHDAfAIs0sGBeNy5N+LJtBIVdsW6431OYI+dseh3PtYDbfPvLH8OtpHhKoSpu3Yp17\n",
       "njIen22MFlIQVbvMF9+6yRUM5M/G8w3LP/86ZaclyueyUMmUwCmPqxWOxSwMwDv6r4VMWIPhN6ov\n",
       "pqOI0Q2Eldf2Zucl+cEcqf1GP6YzOfXFxIY+eqUUyNQJfPriitET+514nz/UdxU1WQQReUj8s70o\n",
       "JVQjrO8dK/jq58+gT+ILLMZ117EmAchsgyRpo3/Fp11I9zzYJXVIZG0qVZDJ79DwGwznWaS/TSVc\n",
       "FDIetMJkKtErHaIXznfUUaouSkdpiljrYbzlPVOBsTnLOEDLqmK9JCC58u9rn4yGRgQcq2M2DKEK\n",
       "o3HTXY3QGsUXE3VOQf7EaMhRKxqlEGAf7TfADYVeZjkxAbXw4t769l4bysLNFSBedZ/0DEo6PRGd\n",
       "sNK94VPwo/u5oc33nFcc9d17XlWFsoKeaz8As7Vrj2ZA11Oe76asqIExgMInGPldMAzWi2OoKc9R\n",
       "Rwa/HhGAyBQPW+u5Ts4/Bz2BxnGgxvz7r4GL9WzkClQXk2HAeeKjDHuw0bga/lE9FbQ37J1qVSIt\n",
       "YDSI/4sxXoBFiRpSB0yygAAABDdBmqtJqEFsmUwIJf/+tSqAZH2xQATmhMTIVGGRECAIhLXw27fR\n",
       "BkMUmWOMNQtB3WNkJDdmSocv5u//tBbbOgqhHMx/DAgX0JjiyFBaT0VUUd6WW2SSKZnXIYZFKhbS\n",
       "0/y3jGchaSs4daxepysr9P1XTlc8ZbLdG4sVVWvrJCwTfSqoWVzJfSk9XWnHEaVuVw/HSFUVFSbZ\n",
       "iZod+bZdWVyBTnE/BtCIrKwzgpFioFKt/NEsd2BQglefn5A12VFspzqvOdvWxszcljhdziwPv6xS\n",
       "pHU9LqTiJwuAU7xqPVuPCaw2Golg0UZ42LQj1y9LZNnCSxr+AZzJw5t5DpnJMsatMtOTucsE3sc4\n",
       "0teRhPu+p3ZbnZ2ufp8TNnBrXNUVCeRYeS4uwXmAbyCVhj+VfQIlrIhpLB1WvYofhVezBTWx7seq\n",
       "84V7fwOSAA0Zy+Uc6GqWIStUzVWSWeTjjkp00/debBP4GLEwSm/CoR05IeAAtsT2frlDUoWe0Aj/\n",
       "RiYbmP5nysB7yDfnuhVaXpPHq+oESXFnBPLFp/OAyyZL3y98mDZDitWSZnot75GnZpmWpmybGRBx\n",
       "RmbeIE7vkYoctPF0tO7UXshW7RJMMFJj0tvos18BMqJLgKqN9tcR2jvxOog1ltqyWV80muJ0T41b\n",
       "6gjPoWQS4p6D0zUJdDue+h8cbPozshw4GPdOLPUaiDD42/hiTNAEBSo9vZfI9PfGBLLQbHZL8OJn\n",
       "jzQ770pf+dJ2oa03u+HbRmN8zOZ/PyOsiBF+4CuRFikojBMmoVM/4iR/c0eNcoYYYk2IWn9yYA0A\n",
       "AOGAA9/rpnvewkYzJMFlP9PTc46wTb9Xg0fy0UU++vdo2DBY+911ti+Eev9J18PQSedqKEPa7arI\n",
       "ATCY1ZyepQY+HPiZLzsDq0Dl9V2mL2wLFOmFc36JiQVneLIYHErfPrUvkIEy4jSA+y2iXN2xwmDO\n",
       "Htezu80vUKO8RJvR5n4Np5Ds+Q+q2yZyz4BuD5Xrd56CJTKauhAHmsi/Z2tDld63+ISobvLtDHmU\n",
       "0pdSbsYOX1wscw3sBw8vR4ZhUuaZL/x5Q9dfftsh3kKgt59c5OtzeAA4Pdde/GwUwTjw7szOs5gm\n",
       "2HDigXKL3RKSLUDBSfPC6Rawlzg9lnGEphzuU1YUyr3cZ1yJYieNw+d9xta62Rkm8kGfKMTgG0pg\n",
       "PiwFHzEydKu1qhL+eBZXJ6bdOi87qFIQlYqrGH5H05oI05C2W2t05Lb25D0l9sp1B9r4jHIkNVDe\n",
       "seWddAhje+5XTQsBK2Yw/JBpNVWAAtHJFskq2VEZfsNuZeL1mo8nJf6Tt1dyHa6H7q9i3wVhiExh\n",
       "XwZeNxknuwP1xKqpE7ALymHkKX3B+NBrz4aEL2KymIDsPMAonOJBhWcTIxDACFpyhgjfzX8X4Y7T\n",
       "d+uraX4QAGO+bxFUy6E8wAAAAmBBnslFFSwQ/wBEwrgAnb58DU0dW7XBzNFPOQSW/11gmh+i2Dj1\n",
       "H4g70qCqjpKn35hy43XUgbhfHSx5HL0mxXNdDaX9epzM0xHF1cd0UnXqZzZmZ0t5A9ba92qbpXAO\n",
       "n6x0NzcO6uhciXZ94I1se1w70nN8TAnJXhhcd9m56A4WRplTBLFlUI+U2vLZ5foprRHmSOWA+x/p\n",
       "UGV+QstUp++nngpbvxTdFjB0CiqKNKWic0EAg0ERaP9OgL0U/BV6aWDU2ecxkd4C6wIm1IxnT0Mo\n",
       "p9hvAvsWw1jYQ910jk7Kzy1aftnH/4/+oWG+FC0aeES1Gv7gzg3ulGeVIqq6p7EW89yGUUY8+SF+\n",
       "QEum7B/r3zeWCn++6pREWSREhvkL+4sC1Ytqbw1sZl9Q1ZSOZeezJ8rM04kGV6GBe7o1+Aqs5m1J\n",
       "IWCvl5D3iKJWzPQSJxbqHBtm9FX4ozB6w5gNRaOh4t+WDreJ/0mr+u7WyWtA5vyAg7fUsGZVe/UJ\n",
       "AKnu+w8Phk/mD+WgQdZnNiNy0dqWoeeqgQA9uz6FPbnS70Giu0bQM+xLk5H+XMqUoAKAs0tqzLm+\n",
       "+Vs89sPEYmP1iFkzm0u2NdBBLRRB2x4tdJDPXoDrkIWQOg73s5PnC53hZYAK1fcHB3x1AcS8t4K2\n",
       "SOMgzlCV3sWyi4xdCZLJiaN/54oIcBMFBasSVipnHvbmt3HTmldGpLyWrD2/RTcobXyzKaoHqPuZ\n",
       "SC+9osBkeuSjPovL8JYtTdibTXDIjIcGfkFhLgF7gcoPtZoeYF6jX1/CE5ksJZEdHAkyQwtthrhD\n",
       "0wAAAYABnupqQ/8AjIABy4tvUGjUDW2ADcbW+B6aa9aDhoosXQBF+YYSFCkQq63l+FgLz/Edt6Yr\n",
       "Zf4HCXjd9i7Uc8XBZmv1VsBVu/Vc++6iJSf+Z+EOs5VRoCELvPPFkgn2mWf1xA453gJXc8/l/KgF\n",
       "535EA4BhZz38Ek2MsCSV6J/QZtOs00JqtrwVJ5JPmzC1/ykJfGVVcPn9PjSFiSLuRGdeLwEF1rup\n",
       "LUVk6D+wbYTRQ4OHdawXdqymZzwAPqAB1OH5UFUWg41Lct2eUTuxwS6JokPYlYS/IqAzz3iVa6Sr\n",
       "hbuDs5RnVCVc9F5TMabWoEjFc9zsksy2LLBwE4zfG0p24kxJ2q2MCDvOxT9dKUF1fC8Wv5JDRsub\n",
       "jNURn/12YILmGNzXDrt3x0Ab9RoONoKGb5KLptsSSqOnqM4INBFcD6VzZfDyk9aFUfrrrKvkvV8F\n",
       "myHqza4eVRYm5v2r6SE0OV78aYK6uDD37DEMKJ6CArPAnorZDjAVhEdllnO1EzAAAAOsQZrtSahB\n",
       "bJlMFEwS//61KoBkfbFABDqExMhVKnAhh+jQEQjC//UqBy1z8YWrf1Nw3sioqdKaxHAc6wq/NCbk\n",
       "tR2C4Ac7vMjUuYNTlAJ32uGblLRFISeDlXCK/Fas47EzCyDFCuDKdJZV2YHvpRCP/7YJpToiKhjE\n",
       "u6V9fo8VauGlIe2hhisljEelo62qiSAIH8EXr7Ef5UXU6B/b8dDGDalNYsYsCeOQgqZj9zx9J7RW\n",
       "p3DhM5bHg3In5aEl3fpwennWkc8H4ISPdQRXG1j8C7KtMDpWcQrLmqa7pSADxpEZYQZV1h1r0dft\n",
       "aimSrI0Fsu485LlsTVYgi/mhQGeBoRPG5BdEzHi6p1h39B6nk3f2zhLEOxQYKcI1YwlzcV8AxCss\n",
       "8+S1phoxPqCYLwj5l+ZVkUVr1UA4M9xRL00g1VowFiD+Q4feFIZn7BxJsFr4O5rjqrQ7DEyOouu/\n",
       "YqlWdeEKm7OFWZnmVYvDLfZDoGYixQ5WFrAmwOgG4i9xtEzhICL8SZ/5EKVi5RJMeDfSetXVefVB\n",
       "SPv/s90Ao3Xg1moXSVyRvmD+j+um828QginAJwMub5Ig2Wn0zpty7K7WTneeCwkS4n5hZNhgcsEg\n",
       "f2JKdMvTNe9sGzM1vgdUpGMcAzAu8Kfm2gOkZds5X/UR7oVg+o5OaW/AMOfqIuJ8uGkLli1ZhDCv\n",
       "smQA8jPpgE4fTgMYTHQoiHGjPrjr6zwLWOgoc4k63Ds9B6ixbSteK47HGv1sowpM9fxVkbt7EIt9\n",
       "SKySXTtxy8hz9bVw3NWKOw3kMSB1ofP7krHAk/NPbZ3aUWZijzwVpeJTsl8gAcSdUUwcnWXaVsl/\n",
       "xEc/Bg5Y5FRZk6P/Q6ir76T/CN7HZcx/fD3NiTyrAHwuj20vxDGiqDlYWhC2aJFgYS1RSuC8p8Lg\n",
       "wGYhTGr1e2cNQobH5XlOldpHVeOn32uMMAta2nEZuQl8F3rcH/zxTae3G3i8kM0AZQogHzEYkkKU\n",
       "lS69TLL43bOKIujhq87MyI8Lj1irgKvZbFaWxZMiliPoLXcDBM8frc7XvH0TzP0zX9iMOsvbpl2X\n",
       "/OHqGlxabzVOWZ81gyaI+laEO+lzy0Icyh1glvQ4JEY2eQPKVBIxTTyO0ugDim0QPcjfq7pOJELb\n",
       "jHgMykr/84vEvhdW5uZTbzvSx415He1ACuNO71/XLWL7+M0tHdVXSSIjEmliTPb/N3PMN4JCfS/b\n",
       "9oxmVz6NQaJ7UkNKg+WW8OZ31bEScAAAAXYBnwxqQ/8AjMud60AG0oeVhyOBoPXV3kHPyFgkjtN7\n",
       "MEJZbTKvbbPqBzA/D1awnJkWteCZa4LtkSgB3H8JM6dQ1ZayY8hswQtVl5t1Ui0+F1nDc3mAHLUk\n",
       "q0C4FbUbIfDNShw0pN22Y5a+Y7eTWv8sbt9ALwEtTN9yYUvfAf+pzUWRpoEUmMjvFioCCmC8Jat2\n",
       "fwVNSG+WL9kHOhCkcWNHeFiQY+QmEgEtBjtvx21v3H+lUM4Z55gBjCBo8X4+/uGxq2peCRCwYmaH\n",
       "m0RMmglTXBvkbAysT1QR9YjFUTu7MNVRocmA7+enfATdwKrFbpzdKrvDZbfrcI6W32gBeh87akTu\n",
       "b4JsZbmYBGRfZJ3xmXjinVfdSpOS3R6eTGzqgmF3DABOynkdSVjCRh730WrgUSVqXhCvkY3WZZx1\n",
       "QOS/My1sxyrlfVbCgdr6+PcUA4LKFN43VX36IRjhjUEYLzEL18OvN+p7TFQRH9UfSHRC90Qcd7ao\n",
       "/wAAA+1BmxBJ4QpSZTAgj//+tSqAZHyEAA/OvDsXB41mZunBd8gh3c0x3bDZFCd1xeg5SE5GHnSI\n",
       "Qp178769ZUSndErlZLdP7UR/Gj3Dow+iwXRk9AVUNfz3FlJ+L5iilSBcjphTbcH9EEz1UjEKlOiA\n",
       "zQpUPB5OsZ2Xq0NBsTiqes1OWgEfA3EhR8l82TYG8J72q3UeXHnfW9Ye8VnwNJQO1qIFryNFRp9p\n",
       "KMQ03YaapIPgcSzpE/Jf0+Qsvdgg2HjrCg37NIO4P2hR1IkKChJ+hCm3WRmMkM+bp9PO6DG6Ls/A\n",
       "cyVeKwkVjrVyhDFmtJvavHKI18ZUkdlI4r0/edjiA0aoE3l8MGs0FvQBkMR4fo5xfxLddNos7mnv\n",
       "FvwcXEA1gJ2xW7qQzLvQRqN9gw3ZVHCLfCcxhFB7a6p6xLw34fmTwhJ6DxTTVhzJotbloCUGqCKi\n",
       "3Vk1H9GVKrWmICjpVL7IyeIE0cK7qbW2uLjsrufQKrN7atqonVo9tP7OfWgA6bX6AeJ5KtOT6ui7\n",
       "F/bfYLcR054YUgu/nnmtVeeADlomhi9PCKxVJ7KPY1/ITzSGIEVvBSnzWMQmhmmMSGhjMpoF4eEl\n",
       "d5vlGipzKBphjLkshgOHB3m7yWITxAM8Mbt+g3DpiYRyIaYI5dVzQRHtz/5lCXzKhK0eT+IMjVlz\n",
       "osqf0FFGzF9kJ58RvjmG77J3yuFIuhVh8UBL/P5dSjUiAXbqc6c7zi0gfFWNh2LaoLogrwMwrVhI\n",
       "++h/AEtwvE2m/RHDxnOgLDLrBgDp6fgt9f4EJJawYRzDRapi/3ecu9j6iY/Lngj+HRRFj4XScec0\n",
       "36RVwEKNC36FvwxkJI/kLrffDrjYmM4mvJKUYRA4eOk5wJF7l/VbmPSS2ZKszT1vbBB93EI0+ksv\n",
       "c2bSj1Xy5C5VfT6hWqFFTzb86MhJwpOLwsJoL5FqycUH04fyfbB7saPhhZi+G/J1f6pwh9fYyzWl\n",
       "uaVwWUtCo08Vjab3xfxX96qJ3dNL/DcO5Ay6Etii61oybb+r6U6+naBMI/eMB2h1m/tsUvb8dMPM\n",
       "5hgyeHUqi6XF13lA6h8rX6s+c+yiohczq9rzynwTj9sKI4VHv4c7WJS0qYztQS7nQ6Jd5bkEP1gA\n",
       "v4zBi5dfQc49ivU/75lGwwW5hnZDas7z2qTafj0zzkxH+s16FrC09zOUEgsx0X+ONfu2JY/Xq+ES\n",
       "QKqLXtGEYo/IG0V3eusTDrH38A20EdFHvs/MFf9Qp7Iq652nSHY9L+glXrNoLS0T59ysX8jPJx69\n",
       "i++BV16wAl+KZzAN2+MfBmj68Q7qXIpnd0CEhM2IcfHb3/+PIMr3HSEAAAGjQZ8uRTRMEP8ARDtx\n",
       "1AAA7Lk9STYhzpBR6XLg3+PzDSDJDib92SzosmEpc82zCir8KCGLEQUrgl45UlQLkqulUv4F+TCC\n",
       "14B/SYMu8nxIWiIFOBLsaRJxo5hClBW+Tn4Kehp27YqqtK0pVycn1i4ou7dvcXzj0fCSt3ANGu7h\n",
       "GweLV8+X8QuvRDKJMW/I7zzb2JVMMqGdQf3hU8UhUNJyoxBeD9SRDWRmyAJCATg3DkxiYGPps7aK\n",
       "h+ZI5I3u+wZjYaKlUv1btblQqw6cctatfnW8pdvZlmSwa39m1jcUObVtJLFkVe6UGwLuICuUKs9F\n",
       "OGO3Z76DFrclhDXocllLPQQK4RqhoQsbWM66wmt2IbKszoHQ+mEK9YWqHgJ/h4ffc/uLxxrzdupP\n",
       "PlU0eDFC6KvdK2dKT7sMK4skra7cbBVfGONXyJQHzZIL6xFcRx1/34x0u4P57ruj8VblA7OSMzqT\n",
       "lfWsemrfxKTEfqmIQCPn0+d3eszYhA41uXZ0RLCfST1On8UT//R8S9icWlOT+aL3mxiFXHXZJ7T5\n",
       "OBmHHxSA9IEAAAEuAZ9PakP/AI/pI5ogxm5VoVs5wDOI2wActk6Q0b291+m5OXkl54EFB8ifq7af\n",
       "+4niJ3K64zVS2H6GcybxScZb/V7Y6Y02Cq3TtZfmrlBhmpLwr3aBx9IVKSR0kYDdoRXDItup4+CC\n",
       "CpgmAgjsNPiwlXdzfXBR31dsB3cf3Z07E9CE2i+35m8QuFtP17XKz9n9gKdPZSEXGUqcoqAZ1hK7\n",
       "r580ndCsFpw7r1qo0awnaCBK4cZXCqD7MD+OzppcwVoACaSiRylvLxFAuuDJHT+Ed2VdOhbkPPff\n",
       "FJBawb8ZQn/2aF7tmuhnSL4saJLP0NRlI1CIuWRR/qa4cMwT8Awxl5cHUyPS3yebibA3HMhOh2cI\n",
       "4f1UB8A2iTzG8W9SGiWoUSuSmGf0Wu/8ICJpZ3QAAAIwQZtSSahBaJlMFPD//qmWBR4f4ABBYwFS\n",
       "MLBvbmCab5597vtvDivYYVU0buTNUuuvh5DOblDhYq98pX/iJyaAH27vk0xPzNVmljzQllLbAVa4\n",
       "862ZF3z3wyYhkqnUVLEHd/KVGVKsL+ufn9SF4o0NNuBElSmwl7HwXx43QD3TLLrB0W+4xAszk2Oo\n",
       "jWr1ihzlm3uYAS9D88kfelbjm5tcNOrvD8yE+KEm154wwZg9FhfniHhptePPTb3tePGmRch0W8YB\n",
       "/ZPlfnaC3CpMWpYUxQwUBCanBR5ZeD7s6YEiBDvI1H6O4f+xJSr3JFgMfy9dqd96y5pJTVva6LM5\n",
       "94v17rcpjXm+s8yJ+d9VxOFFGqaJ//1ZmEsTg/ofFdhDh+iLwA3037VW3d5iBxeisr/+VqndFcOK\n",
       "jDjP3nlChyVhW+azbmDJSRc1WvxXzABxEeFBMPIcbgvLFkCtcCU2FfRDZ8bIdGHuY4wj7bPiCKhS\n",
       "jSA1KyU0j1hsfymUwlctN2LDGl9dL6Cy5vCok8+GDOmMDWVR+v5Oe1eNfQt8rzU36LOxBx9eNW7E\n",
       "tks161vWpYcs6WmGJ0sCn4Go7ivlWCYmQ1uoZpmSNABfXqfBUpca0VAH7p/WpOg5cH6XkO3AExKh\n",
       "eXr3y07zf2UEBekjmycv6XvlzrgjpmUJmmGpY5+aI+3QQuNbW1Px7VSIuaB5yIKS1+4dytNxT5U7\n",
       "HnG1yP3QtqAL7PKPz39tkDnWcyeGNIAAAAETAZ9xakP/AJcDW5viF2ZaAC7El1wDopWGhWwhcagc\n",
       "nf/9hU29RF64Kel9SPtgioa9jzg5r5yfBmfCFKy1LLkhso8WgQPhYM1oS2WeERnhiDzHGWHexNfU\n",
       "/o6an26/bCFuFMbD4TtRNeTYwqWMfp7qmPDHoa0oi0B59iDvMVGNRWPoxrIu3/PeEx0KwX/bi6/B\n",
       "WK3ObyP9mTnT6rE5E3beZ7XgY9VMGrJfZlPRwWs44UiD6KVvLPf/iRWhqNybInSBNR8bWWgu2dcm\n",
       "73rB1D12uUvNXYZtztpLAxBFuyZ3O/mkHGQxi6zyXR4p3w21iilwK30SoBhxbIc5Pl7cO87q/LBW\n",
       "ScQKS1kfczmaXS1DXergmkEAAAWHbW9vdgAAAGxtdmhkAAAAAAAAAAAAAAAAAAAD6AAAJ9gAAQAA\n",
       "AQAAAAAAAAAAAAAAAAEAAAAAAAAAAAAAAAAAAAABAAAAAAAAAAAAAAAAAABAAAAAAAAAAAAAAAAA\n",
       "AAAAAAAAAAAAAAAAAAAAAAAAAgAABLF0cmFrAAAAXHRraGQAAAADAAAAAAAAAAAAAAABAAAAAAAA\n",
       "J9gAAAAAAAAAAAAAAAAAAAAAAAEAAAAAAAAAAAAAAAAAAAABAAAAAAAAAAAAAAAAAABAAAAAAbAA\n",
       "AAFoAAAAAAAkZWR0cwAAABxlbHN0AAAAAAAAAAEAACfYAAAQAAABAAAAAAQpbWRpYQAAACBtZGhk\n",
       "AAAAAAAAAAAAAAAAAAAoAAABmABVxAAAAAAALWhkbHIAAAAAAAAAAHZpZGUAAAAAAAAAAAAAAABW\n",
       "aWRlb0hhbmRsZXIAAAAD1G1pbmYAAAAUdm1oZAAAAAEAAAAAAAAAAAAAACRkaW5mAAAAHGRyZWYA\n",
       "AAAAAAAAAQAAAAx1cmwgAAAAAQAAA5RzdGJsAAAAuHN0c2QAAAAAAAAAAQAAAKhhdmMxAAAAAAAA\n",
       "AAEAAAAAAAAAAAAAAAAAAAAAAbABaABIAAAASAAAAAAAAAABAAAAAAAAAAAAAAAAAAAAAAAAAAAA\n",
       "AAAAAAAAAAAAAAAAGP//AAAANmF2Y0MBZAAV/+EAGWdkABWs2UGwv+WEAAADAAQAAAMAKDxYtlgB\n",
       "AAZo6+PLIsD9+PgAAAAAHHV1aWRraEDyXyRPxbo5pRvPAyPzAAAAAAAAABhzdHRzAAAAAAAAAAEA\n",
       "AAAzAAAIAAAAABRzdHNzAAAAAAAAAAEAAAABAAABmGN0dHMAAAAAAAAAMQAAAAEAABAAAAAAAQAA\n",
       "KAAAAAABAAAQAAAAAAEAAAAAAAAAAQAACAAAAAABAAAoAAAAAAEAABAAAAAAAQAAAAAAAAABAAAI\n",
       "AAAAAAEAACgAAAAAAQAAEAAAAAABAAAAAAAAAAEAAAgAAAAAAQAAKAAAAAABAAAQAAAAAAEAAAAA\n",
       "AAAAAQAACAAAAAABAAAoAAAAAAEAABAAAAAAAQAAAAAAAAABAAAIAAAAAAEAACgAAAAAAQAAEAAA\n",
       "AAABAAAAAAAAAAEAAAgAAAAAAQAAKAAAAAABAAAQAAAAAAEAAAAAAAAAAQAACAAAAAABAAAoAAAA\n",
       "AAEAABAAAAAAAQAAAAAAAAABAAAIAAAAAAEAACgAAAAAAQAAEAAAAAABAAAAAAAAAAEAAAgAAAAA\n",
       "AQAAKAAAAAABAAAQAAAAAAEAAAAAAAAAAQAACAAAAAABAAAgAAAAAAIAAAgAAAAAAQAAGAAAAAAB\n",
       "AAAIAAAAAAEAACAAAAAAAgAACAAAAAABAAAYAAAAAAEAAAgAAAAAHHN0c2MAAAAAAAAAAQAAAAEA\n",
       "AAAzAAAAAQAAAOBzdHN6AAAAAAAAAAAAAAAzAAAn0gAACU4AAAVNAAAC4wAAA+gAAAbqAAAD6QAA\n",
       "A2EAAAN3AAAHHgAAA2QAAAOrAAADRgAABS8AAANBAAACvAAAAv4AAAU1AAADcAAAAp8AAAK9AAAE\n",
       "WgAAA6MAAAKwAAACrQAABSoAAAOUAAADFQAAAoMAAAYYAAADwgAAA00AAALRAAAFEAAAA50AAALD\n",
       "AAACqAAABMsAAANJAAACgQAAAhYAAAQ7AAACZAAAAYQAAAOwAAABegAAA/EAAAGnAAABMgAAAjQA\n",
       "AAEXAAAAFHN0Y28AAAAAAAAAAQAAADAAAABidWR0YQAAAFptZXRhAAAAAAAAACFoZGxyAAAAAAAA\n",
       "AABtZGlyYXBwbAAAAAAAAAAAAAAAAC1pbHN0AAAAJal0b28AAAAdZGF0YQAAAAEAAAAATGF2ZjU4\n",
       "Ljc2LjEwMA==\n",
       "\">\n",
       "  Your browser does not support the video tag.\n",
       "</video>"
      ],
      "text/plain": [
       "<matplotlib.animation.FuncAnimation at 0x7fb3426734f0>"
      ]
     },
     "execution_count": 19,
     "metadata": {},
     "output_type": "execute_result"
    }
   ],
   "source": [
    "import matplotlib.pyplot as plt\n",
    "from matplotlib import animation, rc\n",
    "rc('animation', html='html5')\n",
    "\n",
    "def init_fig(x, t, ws, cost_ws):\n",
    "    \"\"\"Initialise figure\"\"\"\n",
    "    fig, ax = plt.subplots(1, 1, figsize=(6,5))\n",
    "    ax.plot(ws, cost_ws, 'r-', label='coste')\n",
    "    ax.set_ylim([-0.5, 4.2])\n",
    "    ax.set_xlim([1, 3.1])\n",
    "    ax.set_xlabel('x', fontsize=15)\n",
    "    #ax.set_ylabel('coste: $1/2 \\sum |\\hat{y}-y|^2$', fontsize=15)\n",
    "    ax.set_ylabel('$f(x)$', fontsize=15)\n",
    "    ax.grid(True)\n",
    "    cost_text = ax.set_title('$f(x)$ {}'.format(0), fontsize=18)\n",
    "    line1, = ax.plot([], [], 'k:', label='derivada en $x$')\n",
    "    pc_dots, = ax.plot([], [], 'ko')\n",
    "    ax.legend(loc=2)\n",
    "    return fig, ax, line1, pc_dots, cost_text\n",
    "\n",
    "def get_anim(fig, ax, line1, pc_dots, cost_text, weights):\n",
    "    \"\"\"Return animation function.\"\"\"\n",
    "    xs = np.linspace(0, 4, num=100)  # weight values\n",
    "    def anim(i):\n",
    "        \"\"\"Animate step i\"\"\"\n",
    "        if i == 0:\n",
    "            return [line1, pc_dots, cost_text]\n",
    "        (w, dw, cost) = weights[i-1]\n",
    "        cost_text.set_text(f'$f(x_{{{i}}}) = {cost:.3f}$')\n",
    "        ws, _, cs = zip(*weights[0:i])\n",
    "        pc_dots.set_xdata(ws)\n",
    "        pc_dots.set_ydata(cs)\n",
    "        abline_values = [dw * (x-w) + cost for x in xs]\n",
    "        line1.set_xdata(xs)\n",
    "        line1.set_ydata(abline_values)\n",
    "        return [line1, pc_dots, cost_text]\n",
    "    return anim\n",
    "\n",
    "def gradient(w, x, t): \n",
    "    return np.sum(x * (x*w - t))\n",
    "\n",
    "def cost(y, t): \n",
    "  return (0.5*(t - y)**2).sum()\n",
    "\n",
    "x = np.random.rand(20)\n",
    "y = 2*x + (np.random.rand(20)-0.5)*0.5\n",
    "ws = np.linspace(0, 4, num=100)  \n",
    "cost_ws = np.vectorize(lambda w: cost(x*w, y))(ws)  \n",
    "fig, ax, line1, pc_dots, cost_text = init_fig(x, y, ws, cost_ws)\n",
    "\n",
    "def compute_anim(w = 1, lr=0.01):\n",
    "    epochs = 49\n",
    "    weights = [(w, gradient(w, x, y), cost(x*w, y))]\n",
    "    for i in range(epochs):\n",
    "        dw = gradient(w, x, y)\n",
    "        w = w - lr*dw\n",
    "        weights.append((w, dw, cost(x*w, y)))\n",
    "\n",
    "    animate = get_anim(fig, ax, line1, pc_dots, cost_text, weights)\n",
    "    anim = animation.FuncAnimation(fig, animate, frames=len(weights)+1, interval=200, blit=True)\n",
    "    plt.close()\n",
    "    return anim\n",
    "    \n",
    "anim = compute_anim()\n",
    "anim"
   ]
  },
  {
   "cell_type": "markdown",
   "metadata": {
    "id": "X3on9G4UFDmX"
   },
   "source": [
    "Nuestro objetivo es encontrar el valor de $x$ que resulta en el valor más pequeño posible de $f$, su valor `mínimo`. Para ello podemos utilizar la derivada de la función $f'(x) = \\frac{df}{dx}$, representada por la línea punteada. Esta derivada nos indica la `pendiente` de la función $f$ en el punto $x$, por lo que si queremos minimizar $f$ tendremos que cambiar $x$ en la dirección de pendiente negativa, es decir aquella que haga que $f$ disminuya. Imagina que dejamos una pelota encima de una superficie similar a la representada por $f(x)$. Lo que observaremos es que la pelota empieza a moverse en la dirección de pendiente negativa debido a la fuerza de la gravedad. Utilizamos este símil para entender como podemos utilizar el `gradiente` de una función para su optimización. Matemáticamente\n",
    "\n",
    "$$ f(x + \\epsilon) \\approx f(x) + \\epsilon f'(x) $$\n",
    "\n",
    "donde $\\epsilon$ es una constante pequeña. Así pues, conociendo $f'(x)$ podemos actualizar el valor de $x$ con la siguiente sencilla regla\n",
    "\n",
    "$$ x \\leftarrow x - \\eta \\, \\, f'(x) $$\n",
    "\n",
    "donde $\\eta$ se conoce como el ratio de aprendizaje, o `learning rate` en inglés. Este método se conoce por el nombre de descenso por gradiente, o `gradient descent` en inglés, y es el método más utilizado hoy en día en el entrenamiento de redes neuronales. En futuros posts entraremos mucho más detalle en cómo funciona el algoritmo, aplicándolo en multitud de modelos diferentes, viendo el efecto que tiene el *learning rate* y otras variantes existentes que se construyen por encima con el objetivo de acelerar el proceso de convergencia, encontrar este valor mínimo lo más rápido posible. Por ahora es suficiente con entender cómo funciona el algoritmo de descenso por gradiente a alto nivel: calcularemos la derivada de una función de coste con respecto a los parámetros que queremos optimizar, los cuales iremos variando de manera iterativa siempre en la dirección de mayor pendiente negativa."
   ]
  },
  {
   "cell_type": "markdown",
   "metadata": {
    "id": "ZQaV8ZuAFDmX"
   },
   "source": [
    "Un aspecto a destacar muy importante del algoritmo de descenso por gradiente es que no nos asegura encontrar siempre el `óptimo global` de la función de coste, sino que puede quedarse \"atascado\" en `óptimos locales`. Esto dependerá de la forma que tenga la función de coste y de la inicialización. Es habitual inicial los parámetros de un modelo de manera aleatoria, lo que implica que podemos ejecutar el mismo proceso varias veces, encontrando diferentes soluciones.\n",
    "\n",
    "![](https://www.monografias.com/trabajos95/redes-neuronales-artificiales-metodologia-desarrollo-y-aplicaciones/image010.jpg)"
   ]
  },
  {
   "cell_type": "markdown",
   "metadata": {
    "id": "CQKrg8c_FDmY"
   },
   "source": [
    "Por suerte, en espacios de muy alta dimensionalidad (cuando optimizamos con respecto a muchísimos parámetros) es relativamente sencillo encontrar siempre una dirección en el espacio en el que el gradiente sea negativo, pudiendo escapar de estos óptimos locales convergiendo a resultados similares independientemente de la inicialización. "
   ]
  },
  {
   "cell_type": "markdown",
   "metadata": {
    "id": "sio9dG3cFDmY"
   },
   "source": [
    "### Más allá del gradiente"
   ]
  },
  {
   "cell_type": "markdown",
   "metadata": {
    "id": "KXhOt29VFDmY"
   },
   "source": [
    "Si estás familiarizando con problemas de optimización es posible que conozcas el `método de Newton`, un método de optimización muy utilizado. Es posible utilizarlo también en la optimización de modelos de IA, sin embargo no es muy utilizado en la práctica. El motivo es porque normalmente estos modelos están formados por muchos parámetros (millones, incluso billones). El método de Newton, y otros métodos de optimización similares, están basados en la `segunda derivada` de la función, $f''(x)$. Desde un punto de vista computacional, calcular estas segundas derivadas no es práctico (a veces incluso imposible debido a limitaciones de memoria). Es por este motivo que estos métodos de optimización de `segundo orden` no son tan utilizados cómo los métodos de `primer orden` que solo necesitan el cálculo de la primera derivada, como el algoritmo de `descenso por gradiente`."
   ]
  },
  {
   "cell_type": "markdown",
   "metadata": {
    "id": "DvQQHMJ_FDmZ"
   },
   "source": [
    "Por otro lado también es común la optimización de funciones de coste respecto a un conjunto finito de parámetros, conocido como `optimización con restricciones`. Por ejemplo, queremos encontrar el valor mínimo de $f(x)$ con la restricción $x < 1$. Veremos más adelante como resolver estos casos, que normalmente consisten en añadir términos adicionales a la función de coste original que tengan en cuenta tales restricciones."
   ]
  },
  {
   "cell_type": "markdown",
   "metadata": {
    "ExecuteTime": {
     "end_time": "2020-06-18T14:26:15.679714Z",
     "start_time": "2020-06-18T14:26:15.672713Z"
    },
    "id": "4dbuvrmrFDmZ"
   },
   "source": [
    "### Resumen"
   ]
  },
  {
   "cell_type": "markdown",
   "metadata": {
    "id": "5yiNREd9FDma"
   },
   "source": [
    "En este post hemos introducido varios conceptos del `cálculo numérico` que utilizaremos muy a menudo en el desarrollo de algoritmos de `Machine Learning`. En primer lugar, al representar números reales en un ordenador con una capacidad de memoria limitada siempre incurrimos en errores de precisión que tenemos que tener en cuenta a la hora de diseñar nuestro algoritmos. Estos errores pueden acumularse operación tras operación dando resultados erróneos. Por otro lado, hemos introducido el concepto de optimización por gradiente, en el que calculamos la derivada de una función de coste con respecto a los parámetros de interés los cuales vamos variando siguiendo la regla del descenso por gradiente hasta encontrar nuestra solución óptima. Este es el método por defecto al entrenar redes neuronales, y al ser tan usado dedicaremos varios futuros posts para entenderlo en mucho más detalle."
   ]
  },
  {
   "cell_type": "markdown",
   "metadata": {
    "id": "BpSV0665FDma"
   },
   "source": [
    "## Referencias"
   ]
  },
  {
   "cell_type": "markdown",
   "metadata": {
    "ExecuteTime": {
     "end_time": "2020-06-18T14:50:04.956929Z",
     "start_time": "2020-06-18T14:50:04.941409Z"
    },
    "id": "BWr_IvxMFDmb"
   },
   "source": [
    "Libros \n",
    "\n",
    "- *Deep Learning* (Goodfellow, Bengio y Courville, 2016)"
   ]
  },
  {
   "cell_type": "code",
   "execution_count": null,
   "metadata": {},
   "outputs": [],
   "source": []
  }
 ],
 "metadata": {
  "colab": {
   "name": "calculo.ipynb",
   "provenance": []
  },
  "kernelspec": {
   "display_name": "Python 3 (ipykernel)",
   "language": "python",
   "name": "python3"
  },
  "language_info": {
   "codemirror_mode": {
    "name": "ipython",
    "version": 3
   },
   "file_extension": ".py",
   "mimetype": "text/x-python",
   "name": "python",
   "nbconvert_exporter": "python",
   "pygments_lexer": "ipython3",
   "version": "3.8.12"
  },
  "toc": {
   "base_numbering": 1,
   "nav_menu": {},
   "number_sections": true,
   "sideBar": true,
   "skip_h1_title": false,
   "title_cell": "Table of Contents",
   "title_sidebar": "Contents",
   "toc_cell": false,
   "toc_position": {},
   "toc_section_display": true,
   "toc_window_display": false
  }
 },
 "nbformat": 4,
 "nbformat_minor": 1
}
